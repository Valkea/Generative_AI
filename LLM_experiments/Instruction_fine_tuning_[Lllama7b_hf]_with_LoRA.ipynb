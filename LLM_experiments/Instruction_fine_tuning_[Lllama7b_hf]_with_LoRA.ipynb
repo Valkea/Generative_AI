{
  "nbformat": 4,
  "nbformat_minor": 0,
  "metadata": {
    "colab": {
      "provenance": [],
      "machine_shape": "hm",
      "gpuType": "T4",
      "authorship_tag": "ABX9TyMEbLCDNPGdLWE90EOFT1rq",
      "include_colab_link": true
    },
    "kernelspec": {
      "name": "python3",
      "display_name": "Python 3"
    },
    "language_info": {
      "name": "python"
    },
    "accelerator": "GPU",
    "widgets": {
      "application/vnd.jupyter.widget-state+json": {
        "dafa2ff2dd2441ebbdbc8401710d94ef": {
          "model_module": "@jupyter-widgets/controls",
          "model_name": "HBoxModel",
          "model_module_version": "1.5.0",
          "state": {
            "_dom_classes": [],
            "_model_module": "@jupyter-widgets/controls",
            "_model_module_version": "1.5.0",
            "_model_name": "HBoxModel",
            "_view_count": null,
            "_view_module": "@jupyter-widgets/controls",
            "_view_module_version": "1.5.0",
            "_view_name": "HBoxView",
            "box_style": "",
            "children": [
              "IPY_MODEL_829eb306edf440ea9d1f904a1636ca82",
              "IPY_MODEL_4afc5e7cdb0e41899b235982f1754de3",
              "IPY_MODEL_3cbd8c4f2c5f44bfbca207f51ff9ae00"
            ],
            "layout": "IPY_MODEL_0455398dd7034cc68cc18bd65b4f90c1"
          }
        },
        "829eb306edf440ea9d1f904a1636ca82": {
          "model_module": "@jupyter-widgets/controls",
          "model_name": "HTMLModel",
          "model_module_version": "1.5.0",
          "state": {
            "_dom_classes": [],
            "_model_module": "@jupyter-widgets/controls",
            "_model_module_version": "1.5.0",
            "_model_name": "HTMLModel",
            "_view_count": null,
            "_view_module": "@jupyter-widgets/controls",
            "_view_module_version": "1.5.0",
            "_view_name": "HTMLView",
            "description": "",
            "description_tooltip": null,
            "layout": "IPY_MODEL_745c3049416b4679b31a87c937c0d89b",
            "placeholder": "​",
            "style": "IPY_MODEL_12a35c2890564fa8bef3d49a6de9337b",
            "value": "Map: 100%"
          }
        },
        "4afc5e7cdb0e41899b235982f1754de3": {
          "model_module": "@jupyter-widgets/controls",
          "model_name": "FloatProgressModel",
          "model_module_version": "1.5.0",
          "state": {
            "_dom_classes": [],
            "_model_module": "@jupyter-widgets/controls",
            "_model_module_version": "1.5.0",
            "_model_name": "FloatProgressModel",
            "_view_count": null,
            "_view_module": "@jupyter-widgets/controls",
            "_view_module_version": "1.5.0",
            "_view_name": "ProgressView",
            "bar_style": "",
            "description": "",
            "description_tooltip": null,
            "layout": "IPY_MODEL_e351594065c146ab898746cfa18a9750",
            "max": 3753,
            "min": 0,
            "orientation": "horizontal",
            "style": "IPY_MODEL_ea3ae37dd2a0439db0746f2bec11c5ef",
            "value": 3753
          }
        },
        "3cbd8c4f2c5f44bfbca207f51ff9ae00": {
          "model_module": "@jupyter-widgets/controls",
          "model_name": "HTMLModel",
          "model_module_version": "1.5.0",
          "state": {
            "_dom_classes": [],
            "_model_module": "@jupyter-widgets/controls",
            "_model_module_version": "1.5.0",
            "_model_name": "HTMLModel",
            "_view_count": null,
            "_view_module": "@jupyter-widgets/controls",
            "_view_module_version": "1.5.0",
            "_view_name": "HTMLView",
            "description": "",
            "description_tooltip": null,
            "layout": "IPY_MODEL_9e9a96788b7140e79c750e3e5ab1c30e",
            "placeholder": "​",
            "style": "IPY_MODEL_cbc551ffe8e2478daf0ab18d9e0c794e",
            "value": " 3753/3753 [00:00&lt;00:00, 11454.77 examples/s]"
          }
        },
        "0455398dd7034cc68cc18bd65b4f90c1": {
          "model_module": "@jupyter-widgets/base",
          "model_name": "LayoutModel",
          "model_module_version": "1.2.0",
          "state": {
            "_model_module": "@jupyter-widgets/base",
            "_model_module_version": "1.2.0",
            "_model_name": "LayoutModel",
            "_view_count": null,
            "_view_module": "@jupyter-widgets/base",
            "_view_module_version": "1.2.0",
            "_view_name": "LayoutView",
            "align_content": null,
            "align_items": null,
            "align_self": null,
            "border": null,
            "bottom": null,
            "display": null,
            "flex": null,
            "flex_flow": null,
            "grid_area": null,
            "grid_auto_columns": null,
            "grid_auto_flow": null,
            "grid_auto_rows": null,
            "grid_column": null,
            "grid_gap": null,
            "grid_row": null,
            "grid_template_areas": null,
            "grid_template_columns": null,
            "grid_template_rows": null,
            "height": null,
            "justify_content": null,
            "justify_items": null,
            "left": null,
            "margin": null,
            "max_height": null,
            "max_width": null,
            "min_height": null,
            "min_width": null,
            "object_fit": null,
            "object_position": null,
            "order": null,
            "overflow": null,
            "overflow_x": null,
            "overflow_y": null,
            "padding": null,
            "right": null,
            "top": null,
            "visibility": "hidden",
            "width": null
          }
        },
        "745c3049416b4679b31a87c937c0d89b": {
          "model_module": "@jupyter-widgets/base",
          "model_name": "LayoutModel",
          "model_module_version": "1.2.0",
          "state": {
            "_model_module": "@jupyter-widgets/base",
            "_model_module_version": "1.2.0",
            "_model_name": "LayoutModel",
            "_view_count": null,
            "_view_module": "@jupyter-widgets/base",
            "_view_module_version": "1.2.0",
            "_view_name": "LayoutView",
            "align_content": null,
            "align_items": null,
            "align_self": null,
            "border": null,
            "bottom": null,
            "display": null,
            "flex": null,
            "flex_flow": null,
            "grid_area": null,
            "grid_auto_columns": null,
            "grid_auto_flow": null,
            "grid_auto_rows": null,
            "grid_column": null,
            "grid_gap": null,
            "grid_row": null,
            "grid_template_areas": null,
            "grid_template_columns": null,
            "grid_template_rows": null,
            "height": null,
            "justify_content": null,
            "justify_items": null,
            "left": null,
            "margin": null,
            "max_height": null,
            "max_width": null,
            "min_height": null,
            "min_width": null,
            "object_fit": null,
            "object_position": null,
            "order": null,
            "overflow": null,
            "overflow_x": null,
            "overflow_y": null,
            "padding": null,
            "right": null,
            "top": null,
            "visibility": null,
            "width": null
          }
        },
        "12a35c2890564fa8bef3d49a6de9337b": {
          "model_module": "@jupyter-widgets/controls",
          "model_name": "DescriptionStyleModel",
          "model_module_version": "1.5.0",
          "state": {
            "_model_module": "@jupyter-widgets/controls",
            "_model_module_version": "1.5.0",
            "_model_name": "DescriptionStyleModel",
            "_view_count": null,
            "_view_module": "@jupyter-widgets/base",
            "_view_module_version": "1.2.0",
            "_view_name": "StyleView",
            "description_width": ""
          }
        },
        "e351594065c146ab898746cfa18a9750": {
          "model_module": "@jupyter-widgets/base",
          "model_name": "LayoutModel",
          "model_module_version": "1.2.0",
          "state": {
            "_model_module": "@jupyter-widgets/base",
            "_model_module_version": "1.2.0",
            "_model_name": "LayoutModel",
            "_view_count": null,
            "_view_module": "@jupyter-widgets/base",
            "_view_module_version": "1.2.0",
            "_view_name": "LayoutView",
            "align_content": null,
            "align_items": null,
            "align_self": null,
            "border": null,
            "bottom": null,
            "display": null,
            "flex": null,
            "flex_flow": null,
            "grid_area": null,
            "grid_auto_columns": null,
            "grid_auto_flow": null,
            "grid_auto_rows": null,
            "grid_column": null,
            "grid_gap": null,
            "grid_row": null,
            "grid_template_areas": null,
            "grid_template_columns": null,
            "grid_template_rows": null,
            "height": null,
            "justify_content": null,
            "justify_items": null,
            "left": null,
            "margin": null,
            "max_height": null,
            "max_width": null,
            "min_height": null,
            "min_width": null,
            "object_fit": null,
            "object_position": null,
            "order": null,
            "overflow": null,
            "overflow_x": null,
            "overflow_y": null,
            "padding": null,
            "right": null,
            "top": null,
            "visibility": null,
            "width": null
          }
        },
        "ea3ae37dd2a0439db0746f2bec11c5ef": {
          "model_module": "@jupyter-widgets/controls",
          "model_name": "ProgressStyleModel",
          "model_module_version": "1.5.0",
          "state": {
            "_model_module": "@jupyter-widgets/controls",
            "_model_module_version": "1.5.0",
            "_model_name": "ProgressStyleModel",
            "_view_count": null,
            "_view_module": "@jupyter-widgets/base",
            "_view_module_version": "1.2.0",
            "_view_name": "StyleView",
            "bar_color": null,
            "description_width": ""
          }
        },
        "9e9a96788b7140e79c750e3e5ab1c30e": {
          "model_module": "@jupyter-widgets/base",
          "model_name": "LayoutModel",
          "model_module_version": "1.2.0",
          "state": {
            "_model_module": "@jupyter-widgets/base",
            "_model_module_version": "1.2.0",
            "_model_name": "LayoutModel",
            "_view_count": null,
            "_view_module": "@jupyter-widgets/base",
            "_view_module_version": "1.2.0",
            "_view_name": "LayoutView",
            "align_content": null,
            "align_items": null,
            "align_self": null,
            "border": null,
            "bottom": null,
            "display": null,
            "flex": null,
            "flex_flow": null,
            "grid_area": null,
            "grid_auto_columns": null,
            "grid_auto_flow": null,
            "grid_auto_rows": null,
            "grid_column": null,
            "grid_gap": null,
            "grid_row": null,
            "grid_template_areas": null,
            "grid_template_columns": null,
            "grid_template_rows": null,
            "height": null,
            "justify_content": null,
            "justify_items": null,
            "left": null,
            "margin": null,
            "max_height": null,
            "max_width": null,
            "min_height": null,
            "min_width": null,
            "object_fit": null,
            "object_position": null,
            "order": null,
            "overflow": null,
            "overflow_x": null,
            "overflow_y": null,
            "padding": null,
            "right": null,
            "top": null,
            "visibility": null,
            "width": null
          }
        },
        "cbc551ffe8e2478daf0ab18d9e0c794e": {
          "model_module": "@jupyter-widgets/controls",
          "model_name": "DescriptionStyleModel",
          "model_module_version": "1.5.0",
          "state": {
            "_model_module": "@jupyter-widgets/controls",
            "_model_module_version": "1.5.0",
            "_model_name": "DescriptionStyleModel",
            "_view_count": null,
            "_view_module": "@jupyter-widgets/base",
            "_view_module_version": "1.2.0",
            "_view_name": "StyleView",
            "description_width": ""
          }
        },
        "d3257502a0e94953beaba07f197c7c67": {
          "model_module": "@jupyter-widgets/controls",
          "model_name": "HBoxModel",
          "model_module_version": "1.5.0",
          "state": {
            "_dom_classes": [],
            "_model_module": "@jupyter-widgets/controls",
            "_model_module_version": "1.5.0",
            "_model_name": "HBoxModel",
            "_view_count": null,
            "_view_module": "@jupyter-widgets/controls",
            "_view_module_version": "1.5.0",
            "_view_name": "HBoxView",
            "box_style": "",
            "children": [
              "IPY_MODEL_d6b12aae122f4d25b98b5f8612934052",
              "IPY_MODEL_3ff1e01d6c054ae5bff9c809ef103d40",
              "IPY_MODEL_7a5dbaf4c5b1495d9e07d9211e8d2fbc"
            ],
            "layout": "IPY_MODEL_cd2c76e2161948bb86651d3b61900c4d"
          }
        },
        "d6b12aae122f4d25b98b5f8612934052": {
          "model_module": "@jupyter-widgets/controls",
          "model_name": "HTMLModel",
          "model_module_version": "1.5.0",
          "state": {
            "_dom_classes": [],
            "_model_module": "@jupyter-widgets/controls",
            "_model_module_version": "1.5.0",
            "_model_name": "HTMLModel",
            "_view_count": null,
            "_view_module": "@jupyter-widgets/controls",
            "_view_module_version": "1.5.0",
            "_view_name": "HTMLView",
            "description": "",
            "description_tooltip": null,
            "layout": "IPY_MODEL_04b5ca00684543f7aad8318da2413dee",
            "placeholder": "​",
            "style": "IPY_MODEL_57129b4147514fedb91d782e0170c358",
            "value": "Loading checkpoint shards: 100%"
          }
        },
        "3ff1e01d6c054ae5bff9c809ef103d40": {
          "model_module": "@jupyter-widgets/controls",
          "model_name": "FloatProgressModel",
          "model_module_version": "1.5.0",
          "state": {
            "_dom_classes": [],
            "_model_module": "@jupyter-widgets/controls",
            "_model_module_version": "1.5.0",
            "_model_name": "FloatProgressModel",
            "_view_count": null,
            "_view_module": "@jupyter-widgets/controls",
            "_view_module_version": "1.5.0",
            "_view_name": "ProgressView",
            "bar_style": "success",
            "description": "",
            "description_tooltip": null,
            "layout": "IPY_MODEL_82c2c43c739d415684ad69395d09bdf8",
            "max": 2,
            "min": 0,
            "orientation": "horizontal",
            "style": "IPY_MODEL_6e5e5e1eec3e4fa68a51b27a74886814",
            "value": 2
          }
        },
        "7a5dbaf4c5b1495d9e07d9211e8d2fbc": {
          "model_module": "@jupyter-widgets/controls",
          "model_name": "HTMLModel",
          "model_module_version": "1.5.0",
          "state": {
            "_dom_classes": [],
            "_model_module": "@jupyter-widgets/controls",
            "_model_module_version": "1.5.0",
            "_model_name": "HTMLModel",
            "_view_count": null,
            "_view_module": "@jupyter-widgets/controls",
            "_view_module_version": "1.5.0",
            "_view_name": "HTMLView",
            "description": "",
            "description_tooltip": null,
            "layout": "IPY_MODEL_4165c7d6b7694f7e9018e8f3c6ee5ecb",
            "placeholder": "​",
            "style": "IPY_MODEL_0f013b51cefd498eb9a9afe3758d5b33",
            "value": " 2/2 [01:14&lt;00:00, 33.55s/it]"
          }
        },
        "cd2c76e2161948bb86651d3b61900c4d": {
          "model_module": "@jupyter-widgets/base",
          "model_name": "LayoutModel",
          "model_module_version": "1.2.0",
          "state": {
            "_model_module": "@jupyter-widgets/base",
            "_model_module_version": "1.2.0",
            "_model_name": "LayoutModel",
            "_view_count": null,
            "_view_module": "@jupyter-widgets/base",
            "_view_module_version": "1.2.0",
            "_view_name": "LayoutView",
            "align_content": null,
            "align_items": null,
            "align_self": null,
            "border": null,
            "bottom": null,
            "display": null,
            "flex": null,
            "flex_flow": null,
            "grid_area": null,
            "grid_auto_columns": null,
            "grid_auto_flow": null,
            "grid_auto_rows": null,
            "grid_column": null,
            "grid_gap": null,
            "grid_row": null,
            "grid_template_areas": null,
            "grid_template_columns": null,
            "grid_template_rows": null,
            "height": null,
            "justify_content": null,
            "justify_items": null,
            "left": null,
            "margin": null,
            "max_height": null,
            "max_width": null,
            "min_height": null,
            "min_width": null,
            "object_fit": null,
            "object_position": null,
            "order": null,
            "overflow": null,
            "overflow_x": null,
            "overflow_y": null,
            "padding": null,
            "right": null,
            "top": null,
            "visibility": null,
            "width": null
          }
        },
        "04b5ca00684543f7aad8318da2413dee": {
          "model_module": "@jupyter-widgets/base",
          "model_name": "LayoutModel",
          "model_module_version": "1.2.0",
          "state": {
            "_model_module": "@jupyter-widgets/base",
            "_model_module_version": "1.2.0",
            "_model_name": "LayoutModel",
            "_view_count": null,
            "_view_module": "@jupyter-widgets/base",
            "_view_module_version": "1.2.0",
            "_view_name": "LayoutView",
            "align_content": null,
            "align_items": null,
            "align_self": null,
            "border": null,
            "bottom": null,
            "display": null,
            "flex": null,
            "flex_flow": null,
            "grid_area": null,
            "grid_auto_columns": null,
            "grid_auto_flow": null,
            "grid_auto_rows": null,
            "grid_column": null,
            "grid_gap": null,
            "grid_row": null,
            "grid_template_areas": null,
            "grid_template_columns": null,
            "grid_template_rows": null,
            "height": null,
            "justify_content": null,
            "justify_items": null,
            "left": null,
            "margin": null,
            "max_height": null,
            "max_width": null,
            "min_height": null,
            "min_width": null,
            "object_fit": null,
            "object_position": null,
            "order": null,
            "overflow": null,
            "overflow_x": null,
            "overflow_y": null,
            "padding": null,
            "right": null,
            "top": null,
            "visibility": null,
            "width": null
          }
        },
        "57129b4147514fedb91d782e0170c358": {
          "model_module": "@jupyter-widgets/controls",
          "model_name": "DescriptionStyleModel",
          "model_module_version": "1.5.0",
          "state": {
            "_model_module": "@jupyter-widgets/controls",
            "_model_module_version": "1.5.0",
            "_model_name": "DescriptionStyleModel",
            "_view_count": null,
            "_view_module": "@jupyter-widgets/base",
            "_view_module_version": "1.2.0",
            "_view_name": "StyleView",
            "description_width": ""
          }
        },
        "82c2c43c739d415684ad69395d09bdf8": {
          "model_module": "@jupyter-widgets/base",
          "model_name": "LayoutModel",
          "model_module_version": "1.2.0",
          "state": {
            "_model_module": "@jupyter-widgets/base",
            "_model_module_version": "1.2.0",
            "_model_name": "LayoutModel",
            "_view_count": null,
            "_view_module": "@jupyter-widgets/base",
            "_view_module_version": "1.2.0",
            "_view_name": "LayoutView",
            "align_content": null,
            "align_items": null,
            "align_self": null,
            "border": null,
            "bottom": null,
            "display": null,
            "flex": null,
            "flex_flow": null,
            "grid_area": null,
            "grid_auto_columns": null,
            "grid_auto_flow": null,
            "grid_auto_rows": null,
            "grid_column": null,
            "grid_gap": null,
            "grid_row": null,
            "grid_template_areas": null,
            "grid_template_columns": null,
            "grid_template_rows": null,
            "height": null,
            "justify_content": null,
            "justify_items": null,
            "left": null,
            "margin": null,
            "max_height": null,
            "max_width": null,
            "min_height": null,
            "min_width": null,
            "object_fit": null,
            "object_position": null,
            "order": null,
            "overflow": null,
            "overflow_x": null,
            "overflow_y": null,
            "padding": null,
            "right": null,
            "top": null,
            "visibility": null,
            "width": null
          }
        },
        "6e5e5e1eec3e4fa68a51b27a74886814": {
          "model_module": "@jupyter-widgets/controls",
          "model_name": "ProgressStyleModel",
          "model_module_version": "1.5.0",
          "state": {
            "_model_module": "@jupyter-widgets/controls",
            "_model_module_version": "1.5.0",
            "_model_name": "ProgressStyleModel",
            "_view_count": null,
            "_view_module": "@jupyter-widgets/base",
            "_view_module_version": "1.2.0",
            "_view_name": "StyleView",
            "bar_color": null,
            "description_width": ""
          }
        },
        "4165c7d6b7694f7e9018e8f3c6ee5ecb": {
          "model_module": "@jupyter-widgets/base",
          "model_name": "LayoutModel",
          "model_module_version": "1.2.0",
          "state": {
            "_model_module": "@jupyter-widgets/base",
            "_model_module_version": "1.2.0",
            "_model_name": "LayoutModel",
            "_view_count": null,
            "_view_module": "@jupyter-widgets/base",
            "_view_module_version": "1.2.0",
            "_view_name": "LayoutView",
            "align_content": null,
            "align_items": null,
            "align_self": null,
            "border": null,
            "bottom": null,
            "display": null,
            "flex": null,
            "flex_flow": null,
            "grid_area": null,
            "grid_auto_columns": null,
            "grid_auto_flow": null,
            "grid_auto_rows": null,
            "grid_column": null,
            "grid_gap": null,
            "grid_row": null,
            "grid_template_areas": null,
            "grid_template_columns": null,
            "grid_template_rows": null,
            "height": null,
            "justify_content": null,
            "justify_items": null,
            "left": null,
            "margin": null,
            "max_height": null,
            "max_width": null,
            "min_height": null,
            "min_width": null,
            "object_fit": null,
            "object_position": null,
            "order": null,
            "overflow": null,
            "overflow_x": null,
            "overflow_y": null,
            "padding": null,
            "right": null,
            "top": null,
            "visibility": null,
            "width": null
          }
        },
        "0f013b51cefd498eb9a9afe3758d5b33": {
          "model_module": "@jupyter-widgets/controls",
          "model_name": "DescriptionStyleModel",
          "model_module_version": "1.5.0",
          "state": {
            "_model_module": "@jupyter-widgets/controls",
            "_model_module_version": "1.5.0",
            "_model_name": "DescriptionStyleModel",
            "_view_count": null,
            "_view_module": "@jupyter-widgets/base",
            "_view_module_version": "1.2.0",
            "_view_name": "StyleView",
            "description_width": ""
          }
        },
        "7a21466321e84238aff064532c67107c": {
          "model_module": "@jupyter-widgets/controls",
          "model_name": "HBoxModel",
          "model_module_version": "1.5.0",
          "state": {
            "_dom_classes": [],
            "_model_module": "@jupyter-widgets/controls",
            "_model_module_version": "1.5.0",
            "_model_name": "HBoxModel",
            "_view_count": null,
            "_view_module": "@jupyter-widgets/controls",
            "_view_module_version": "1.5.0",
            "_view_name": "HBoxView",
            "box_style": "",
            "children": [
              "IPY_MODEL_d8018e75570e406983a2f8357893e6eb",
              "IPY_MODEL_d110df23801e4def9e54d9ce7db86bb5",
              "IPY_MODEL_860efd0c7c1b4aeba2ec08aa4c825372"
            ],
            "layout": "IPY_MODEL_786880c91d614e9d986c36bf3ec1d593"
          }
        },
        "d8018e75570e406983a2f8357893e6eb": {
          "model_module": "@jupyter-widgets/controls",
          "model_name": "HTMLModel",
          "model_module_version": "1.5.0",
          "state": {
            "_dom_classes": [],
            "_model_module": "@jupyter-widgets/controls",
            "_model_module_version": "1.5.0",
            "_model_name": "HTMLModel",
            "_view_count": null,
            "_view_module": "@jupyter-widgets/controls",
            "_view_module_version": "1.5.0",
            "_view_name": "HTMLView",
            "description": "",
            "description_tooltip": null,
            "layout": "IPY_MODEL_5e456cd91d614db2a125acd529e6d375",
            "placeholder": "​",
            "style": "IPY_MODEL_0f48bfd4408f4e2ca2749a07d49640a0",
            "value": "Map: 100%"
          }
        },
        "d110df23801e4def9e54d9ce7db86bb5": {
          "model_module": "@jupyter-widgets/controls",
          "model_name": "FloatProgressModel",
          "model_module_version": "1.5.0",
          "state": {
            "_dom_classes": [],
            "_model_module": "@jupyter-widgets/controls",
            "_model_module_version": "1.5.0",
            "_model_name": "FloatProgressModel",
            "_view_count": null,
            "_view_module": "@jupyter-widgets/controls",
            "_view_module_version": "1.5.0",
            "_view_name": "ProgressView",
            "bar_style": "",
            "description": "",
            "description_tooltip": null,
            "layout": "IPY_MODEL_538e9902bebd4c4da36241785e364ba5",
            "max": 3753,
            "min": 0,
            "orientation": "horizontal",
            "style": "IPY_MODEL_30b481205f1d452eaf6484ccf84e2c02",
            "value": 3753
          }
        },
        "860efd0c7c1b4aeba2ec08aa4c825372": {
          "model_module": "@jupyter-widgets/controls",
          "model_name": "HTMLModel",
          "model_module_version": "1.5.0",
          "state": {
            "_dom_classes": [],
            "_model_module": "@jupyter-widgets/controls",
            "_model_module_version": "1.5.0",
            "_model_name": "HTMLModel",
            "_view_count": null,
            "_view_module": "@jupyter-widgets/controls",
            "_view_module_version": "1.5.0",
            "_view_name": "HTMLView",
            "description": "",
            "description_tooltip": null,
            "layout": "IPY_MODEL_1c7559074de3449c8d0c1485f067b271",
            "placeholder": "​",
            "style": "IPY_MODEL_89bb5d7fef0842358a7b7cc7ba24a6d7",
            "value": " 3753/3753 [00:01&lt;00:00, 2142.81 examples/s]"
          }
        },
        "786880c91d614e9d986c36bf3ec1d593": {
          "model_module": "@jupyter-widgets/base",
          "model_name": "LayoutModel",
          "model_module_version": "1.2.0",
          "state": {
            "_model_module": "@jupyter-widgets/base",
            "_model_module_version": "1.2.0",
            "_model_name": "LayoutModel",
            "_view_count": null,
            "_view_module": "@jupyter-widgets/base",
            "_view_module_version": "1.2.0",
            "_view_name": "LayoutView",
            "align_content": null,
            "align_items": null,
            "align_self": null,
            "border": null,
            "bottom": null,
            "display": null,
            "flex": null,
            "flex_flow": null,
            "grid_area": null,
            "grid_auto_columns": null,
            "grid_auto_flow": null,
            "grid_auto_rows": null,
            "grid_column": null,
            "grid_gap": null,
            "grid_row": null,
            "grid_template_areas": null,
            "grid_template_columns": null,
            "grid_template_rows": null,
            "height": null,
            "justify_content": null,
            "justify_items": null,
            "left": null,
            "margin": null,
            "max_height": null,
            "max_width": null,
            "min_height": null,
            "min_width": null,
            "object_fit": null,
            "object_position": null,
            "order": null,
            "overflow": null,
            "overflow_x": null,
            "overflow_y": null,
            "padding": null,
            "right": null,
            "top": null,
            "visibility": "hidden",
            "width": null
          }
        },
        "5e456cd91d614db2a125acd529e6d375": {
          "model_module": "@jupyter-widgets/base",
          "model_name": "LayoutModel",
          "model_module_version": "1.2.0",
          "state": {
            "_model_module": "@jupyter-widgets/base",
            "_model_module_version": "1.2.0",
            "_model_name": "LayoutModel",
            "_view_count": null,
            "_view_module": "@jupyter-widgets/base",
            "_view_module_version": "1.2.0",
            "_view_name": "LayoutView",
            "align_content": null,
            "align_items": null,
            "align_self": null,
            "border": null,
            "bottom": null,
            "display": null,
            "flex": null,
            "flex_flow": null,
            "grid_area": null,
            "grid_auto_columns": null,
            "grid_auto_flow": null,
            "grid_auto_rows": null,
            "grid_column": null,
            "grid_gap": null,
            "grid_row": null,
            "grid_template_areas": null,
            "grid_template_columns": null,
            "grid_template_rows": null,
            "height": null,
            "justify_content": null,
            "justify_items": null,
            "left": null,
            "margin": null,
            "max_height": null,
            "max_width": null,
            "min_height": null,
            "min_width": null,
            "object_fit": null,
            "object_position": null,
            "order": null,
            "overflow": null,
            "overflow_x": null,
            "overflow_y": null,
            "padding": null,
            "right": null,
            "top": null,
            "visibility": null,
            "width": null
          }
        },
        "0f48bfd4408f4e2ca2749a07d49640a0": {
          "model_module": "@jupyter-widgets/controls",
          "model_name": "DescriptionStyleModel",
          "model_module_version": "1.5.0",
          "state": {
            "_model_module": "@jupyter-widgets/controls",
            "_model_module_version": "1.5.0",
            "_model_name": "DescriptionStyleModel",
            "_view_count": null,
            "_view_module": "@jupyter-widgets/base",
            "_view_module_version": "1.2.0",
            "_view_name": "StyleView",
            "description_width": ""
          }
        },
        "538e9902bebd4c4da36241785e364ba5": {
          "model_module": "@jupyter-widgets/base",
          "model_name": "LayoutModel",
          "model_module_version": "1.2.0",
          "state": {
            "_model_module": "@jupyter-widgets/base",
            "_model_module_version": "1.2.0",
            "_model_name": "LayoutModel",
            "_view_count": null,
            "_view_module": "@jupyter-widgets/base",
            "_view_module_version": "1.2.0",
            "_view_name": "LayoutView",
            "align_content": null,
            "align_items": null,
            "align_self": null,
            "border": null,
            "bottom": null,
            "display": null,
            "flex": null,
            "flex_flow": null,
            "grid_area": null,
            "grid_auto_columns": null,
            "grid_auto_flow": null,
            "grid_auto_rows": null,
            "grid_column": null,
            "grid_gap": null,
            "grid_row": null,
            "grid_template_areas": null,
            "grid_template_columns": null,
            "grid_template_rows": null,
            "height": null,
            "justify_content": null,
            "justify_items": null,
            "left": null,
            "margin": null,
            "max_height": null,
            "max_width": null,
            "min_height": null,
            "min_width": null,
            "object_fit": null,
            "object_position": null,
            "order": null,
            "overflow": null,
            "overflow_x": null,
            "overflow_y": null,
            "padding": null,
            "right": null,
            "top": null,
            "visibility": null,
            "width": null
          }
        },
        "30b481205f1d452eaf6484ccf84e2c02": {
          "model_module": "@jupyter-widgets/controls",
          "model_name": "ProgressStyleModel",
          "model_module_version": "1.5.0",
          "state": {
            "_model_module": "@jupyter-widgets/controls",
            "_model_module_version": "1.5.0",
            "_model_name": "ProgressStyleModel",
            "_view_count": null,
            "_view_module": "@jupyter-widgets/base",
            "_view_module_version": "1.2.0",
            "_view_name": "StyleView",
            "bar_color": null,
            "description_width": ""
          }
        },
        "1c7559074de3449c8d0c1485f067b271": {
          "model_module": "@jupyter-widgets/base",
          "model_name": "LayoutModel",
          "model_module_version": "1.2.0",
          "state": {
            "_model_module": "@jupyter-widgets/base",
            "_model_module_version": "1.2.0",
            "_model_name": "LayoutModel",
            "_view_count": null,
            "_view_module": "@jupyter-widgets/base",
            "_view_module_version": "1.2.0",
            "_view_name": "LayoutView",
            "align_content": null,
            "align_items": null,
            "align_self": null,
            "border": null,
            "bottom": null,
            "display": null,
            "flex": null,
            "flex_flow": null,
            "grid_area": null,
            "grid_auto_columns": null,
            "grid_auto_flow": null,
            "grid_auto_rows": null,
            "grid_column": null,
            "grid_gap": null,
            "grid_row": null,
            "grid_template_areas": null,
            "grid_template_columns": null,
            "grid_template_rows": null,
            "height": null,
            "justify_content": null,
            "justify_items": null,
            "left": null,
            "margin": null,
            "max_height": null,
            "max_width": null,
            "min_height": null,
            "min_width": null,
            "object_fit": null,
            "object_position": null,
            "order": null,
            "overflow": null,
            "overflow_x": null,
            "overflow_y": null,
            "padding": null,
            "right": null,
            "top": null,
            "visibility": null,
            "width": null
          }
        },
        "89bb5d7fef0842358a7b7cc7ba24a6d7": {
          "model_module": "@jupyter-widgets/controls",
          "model_name": "DescriptionStyleModel",
          "model_module_version": "1.5.0",
          "state": {
            "_model_module": "@jupyter-widgets/controls",
            "_model_module_version": "1.5.0",
            "_model_name": "DescriptionStyleModel",
            "_view_count": null,
            "_view_module": "@jupyter-widgets/base",
            "_view_module_version": "1.2.0",
            "_view_name": "StyleView",
            "description_width": ""
          }
        },
        "f1a634f73ccf454ca5cda8f08dc0db80": {
          "model_module": "@jupyter-widgets/controls",
          "model_name": "VBoxModel",
          "model_module_version": "1.5.0",
          "state": {
            "_dom_classes": [],
            "_model_module": "@jupyter-widgets/controls",
            "_model_module_version": "1.5.0",
            "_model_name": "VBoxModel",
            "_view_count": null,
            "_view_module": "@jupyter-widgets/controls",
            "_view_module_version": "1.5.0",
            "_view_name": "VBoxView",
            "box_style": "",
            "children": [
              "IPY_MODEL_e8e6afb1a7644ba69b5c7f4860aca8a6",
              "IPY_MODEL_0e8340df233e4ca694fce1f7489fb2f5"
            ],
            "layout": "IPY_MODEL_07b2af983a6445ef8f2363d27ec62f4c"
          }
        },
        "e8e6afb1a7644ba69b5c7f4860aca8a6": {
          "model_module": "@jupyter-widgets/controls",
          "model_name": "LabelModel",
          "model_module_version": "1.5.0",
          "state": {
            "_dom_classes": [],
            "_model_module": "@jupyter-widgets/controls",
            "_model_module_version": "1.5.0",
            "_model_name": "LabelModel",
            "_view_count": null,
            "_view_module": "@jupyter-widgets/controls",
            "_view_module_version": "1.5.0",
            "_view_name": "LabelView",
            "description": "",
            "description_tooltip": null,
            "layout": "IPY_MODEL_923baad116834c229c7f3e854070842c",
            "placeholder": "​",
            "style": "IPY_MODEL_3f3e2224e715422b87a2ee540acafaf7",
            "value": "0.020 MB of 0.053 MB uploaded (0.000 MB deduped)\r"
          }
        },
        "0e8340df233e4ca694fce1f7489fb2f5": {
          "model_module": "@jupyter-widgets/controls",
          "model_name": "FloatProgressModel",
          "model_module_version": "1.5.0",
          "state": {
            "_dom_classes": [],
            "_model_module": "@jupyter-widgets/controls",
            "_model_module_version": "1.5.0",
            "_model_name": "FloatProgressModel",
            "_view_count": null,
            "_view_module": "@jupyter-widgets/controls",
            "_view_module_version": "1.5.0",
            "_view_name": "ProgressView",
            "bar_style": "",
            "description": "",
            "description_tooltip": null,
            "layout": "IPY_MODEL_453cd60809ea47499c2e266b905150a1",
            "max": 1,
            "min": 0,
            "orientation": "horizontal",
            "style": "IPY_MODEL_4dbfe1acef9644ba87614ad137bc776e",
            "value": 0.37307865573475085
          }
        },
        "07b2af983a6445ef8f2363d27ec62f4c": {
          "model_module": "@jupyter-widgets/base",
          "model_name": "LayoutModel",
          "model_module_version": "1.2.0",
          "state": {
            "_model_module": "@jupyter-widgets/base",
            "_model_module_version": "1.2.0",
            "_model_name": "LayoutModel",
            "_view_count": null,
            "_view_module": "@jupyter-widgets/base",
            "_view_module_version": "1.2.0",
            "_view_name": "LayoutView",
            "align_content": null,
            "align_items": null,
            "align_self": null,
            "border": null,
            "bottom": null,
            "display": null,
            "flex": null,
            "flex_flow": null,
            "grid_area": null,
            "grid_auto_columns": null,
            "grid_auto_flow": null,
            "grid_auto_rows": null,
            "grid_column": null,
            "grid_gap": null,
            "grid_row": null,
            "grid_template_areas": null,
            "grid_template_columns": null,
            "grid_template_rows": null,
            "height": null,
            "justify_content": null,
            "justify_items": null,
            "left": null,
            "margin": null,
            "max_height": null,
            "max_width": null,
            "min_height": null,
            "min_width": null,
            "object_fit": null,
            "object_position": null,
            "order": null,
            "overflow": null,
            "overflow_x": null,
            "overflow_y": null,
            "padding": null,
            "right": null,
            "top": null,
            "visibility": null,
            "width": null
          }
        },
        "923baad116834c229c7f3e854070842c": {
          "model_module": "@jupyter-widgets/base",
          "model_name": "LayoutModel",
          "model_module_version": "1.2.0",
          "state": {
            "_model_module": "@jupyter-widgets/base",
            "_model_module_version": "1.2.0",
            "_model_name": "LayoutModel",
            "_view_count": null,
            "_view_module": "@jupyter-widgets/base",
            "_view_module_version": "1.2.0",
            "_view_name": "LayoutView",
            "align_content": null,
            "align_items": null,
            "align_self": null,
            "border": null,
            "bottom": null,
            "display": null,
            "flex": null,
            "flex_flow": null,
            "grid_area": null,
            "grid_auto_columns": null,
            "grid_auto_flow": null,
            "grid_auto_rows": null,
            "grid_column": null,
            "grid_gap": null,
            "grid_row": null,
            "grid_template_areas": null,
            "grid_template_columns": null,
            "grid_template_rows": null,
            "height": null,
            "justify_content": null,
            "justify_items": null,
            "left": null,
            "margin": null,
            "max_height": null,
            "max_width": null,
            "min_height": null,
            "min_width": null,
            "object_fit": null,
            "object_position": null,
            "order": null,
            "overflow": null,
            "overflow_x": null,
            "overflow_y": null,
            "padding": null,
            "right": null,
            "top": null,
            "visibility": null,
            "width": null
          }
        },
        "3f3e2224e715422b87a2ee540acafaf7": {
          "model_module": "@jupyter-widgets/controls",
          "model_name": "DescriptionStyleModel",
          "model_module_version": "1.5.0",
          "state": {
            "_model_module": "@jupyter-widgets/controls",
            "_model_module_version": "1.5.0",
            "_model_name": "DescriptionStyleModel",
            "_view_count": null,
            "_view_module": "@jupyter-widgets/base",
            "_view_module_version": "1.2.0",
            "_view_name": "StyleView",
            "description_width": ""
          }
        },
        "453cd60809ea47499c2e266b905150a1": {
          "model_module": "@jupyter-widgets/base",
          "model_name": "LayoutModel",
          "model_module_version": "1.2.0",
          "state": {
            "_model_module": "@jupyter-widgets/base",
            "_model_module_version": "1.2.0",
            "_model_name": "LayoutModel",
            "_view_count": null,
            "_view_module": "@jupyter-widgets/base",
            "_view_module_version": "1.2.0",
            "_view_name": "LayoutView",
            "align_content": null,
            "align_items": null,
            "align_self": null,
            "border": null,
            "bottom": null,
            "display": null,
            "flex": null,
            "flex_flow": null,
            "grid_area": null,
            "grid_auto_columns": null,
            "grid_auto_flow": null,
            "grid_auto_rows": null,
            "grid_column": null,
            "grid_gap": null,
            "grid_row": null,
            "grid_template_areas": null,
            "grid_template_columns": null,
            "grid_template_rows": null,
            "height": null,
            "justify_content": null,
            "justify_items": null,
            "left": null,
            "margin": null,
            "max_height": null,
            "max_width": null,
            "min_height": null,
            "min_width": null,
            "object_fit": null,
            "object_position": null,
            "order": null,
            "overflow": null,
            "overflow_x": null,
            "overflow_y": null,
            "padding": null,
            "right": null,
            "top": null,
            "visibility": null,
            "width": null
          }
        },
        "4dbfe1acef9644ba87614ad137bc776e": {
          "model_module": "@jupyter-widgets/controls",
          "model_name": "ProgressStyleModel",
          "model_module_version": "1.5.0",
          "state": {
            "_model_module": "@jupyter-widgets/controls",
            "_model_module_version": "1.5.0",
            "_model_name": "ProgressStyleModel",
            "_view_count": null,
            "_view_module": "@jupyter-widgets/base",
            "_view_module_version": "1.2.0",
            "_view_name": "StyleView",
            "bar_color": null,
            "description_width": ""
          }
        },
        "8a33711e91cb4f7396942c2371437490": {
          "model_module": "@jupyter-widgets/controls",
          "model_name": "HBoxModel",
          "model_module_version": "1.5.0",
          "state": {
            "_dom_classes": [],
            "_model_module": "@jupyter-widgets/controls",
            "_model_module_version": "1.5.0",
            "_model_name": "HBoxModel",
            "_view_count": null,
            "_view_module": "@jupyter-widgets/controls",
            "_view_module_version": "1.5.0",
            "_view_name": "HBoxView",
            "box_style": "",
            "children": [
              "IPY_MODEL_38a76e9cc0574826ab9f8498d5fb2eb9",
              "IPY_MODEL_f8474386ca9243ba9e0b11a271877b1f",
              "IPY_MODEL_8a8a47b78e7e4bca8e0d1687d6af1c6e"
            ],
            "layout": "IPY_MODEL_5dc6a0b26fee41af8c817355427ea315"
          }
        },
        "38a76e9cc0574826ab9f8498d5fb2eb9": {
          "model_module": "@jupyter-widgets/controls",
          "model_name": "HTMLModel",
          "model_module_version": "1.5.0",
          "state": {
            "_dom_classes": [],
            "_model_module": "@jupyter-widgets/controls",
            "_model_module_version": "1.5.0",
            "_model_name": "HTMLModel",
            "_view_count": null,
            "_view_module": "@jupyter-widgets/controls",
            "_view_module_version": "1.5.0",
            "_view_name": "HTMLView",
            "description": "",
            "description_tooltip": null,
            "layout": "IPY_MODEL_c3156300aea3419f9b4ee80f60d23a8f",
            "placeholder": "​",
            "style": "IPY_MODEL_bb6d3fec78ec4b63a906f9691ce84d66",
            "value": "Downloading shards: 100%"
          }
        },
        "f8474386ca9243ba9e0b11a271877b1f": {
          "model_module": "@jupyter-widgets/controls",
          "model_name": "FloatProgressModel",
          "model_module_version": "1.5.0",
          "state": {
            "_dom_classes": [],
            "_model_module": "@jupyter-widgets/controls",
            "_model_module_version": "1.5.0",
            "_model_name": "FloatProgressModel",
            "_view_count": null,
            "_view_module": "@jupyter-widgets/controls",
            "_view_module_version": "1.5.0",
            "_view_name": "ProgressView",
            "bar_style": "success",
            "description": "",
            "description_tooltip": null,
            "layout": "IPY_MODEL_29bb58658d994415ab85b2fbd2150975",
            "max": 2,
            "min": 0,
            "orientation": "horizontal",
            "style": "IPY_MODEL_460c3356f3c947499b5947123bad1cd3",
            "value": 2
          }
        },
        "8a8a47b78e7e4bca8e0d1687d6af1c6e": {
          "model_module": "@jupyter-widgets/controls",
          "model_name": "HTMLModel",
          "model_module_version": "1.5.0",
          "state": {
            "_dom_classes": [],
            "_model_module": "@jupyter-widgets/controls",
            "_model_module_version": "1.5.0",
            "_model_name": "HTMLModel",
            "_view_count": null,
            "_view_module": "@jupyter-widgets/controls",
            "_view_module_version": "1.5.0",
            "_view_name": "HTMLView",
            "description": "",
            "description_tooltip": null,
            "layout": "IPY_MODEL_ac9f93b601f144569e271390f327b614",
            "placeholder": "​",
            "style": "IPY_MODEL_077cf2aeb24047f1a2e613d39623a768",
            "value": " 2/2 [00:00&lt;00:00,  7.02it/s]"
          }
        },
        "5dc6a0b26fee41af8c817355427ea315": {
          "model_module": "@jupyter-widgets/base",
          "model_name": "LayoutModel",
          "model_module_version": "1.2.0",
          "state": {
            "_model_module": "@jupyter-widgets/base",
            "_model_module_version": "1.2.0",
            "_model_name": "LayoutModel",
            "_view_count": null,
            "_view_module": "@jupyter-widgets/base",
            "_view_module_version": "1.2.0",
            "_view_name": "LayoutView",
            "align_content": null,
            "align_items": null,
            "align_self": null,
            "border": null,
            "bottom": null,
            "display": null,
            "flex": null,
            "flex_flow": null,
            "grid_area": null,
            "grid_auto_columns": null,
            "grid_auto_flow": null,
            "grid_auto_rows": null,
            "grid_column": null,
            "grid_gap": null,
            "grid_row": null,
            "grid_template_areas": null,
            "grid_template_columns": null,
            "grid_template_rows": null,
            "height": null,
            "justify_content": null,
            "justify_items": null,
            "left": null,
            "margin": null,
            "max_height": null,
            "max_width": null,
            "min_height": null,
            "min_width": null,
            "object_fit": null,
            "object_position": null,
            "order": null,
            "overflow": null,
            "overflow_x": null,
            "overflow_y": null,
            "padding": null,
            "right": null,
            "top": null,
            "visibility": null,
            "width": null
          }
        },
        "c3156300aea3419f9b4ee80f60d23a8f": {
          "model_module": "@jupyter-widgets/base",
          "model_name": "LayoutModel",
          "model_module_version": "1.2.0",
          "state": {
            "_model_module": "@jupyter-widgets/base",
            "_model_module_version": "1.2.0",
            "_model_name": "LayoutModel",
            "_view_count": null,
            "_view_module": "@jupyter-widgets/base",
            "_view_module_version": "1.2.0",
            "_view_name": "LayoutView",
            "align_content": null,
            "align_items": null,
            "align_self": null,
            "border": null,
            "bottom": null,
            "display": null,
            "flex": null,
            "flex_flow": null,
            "grid_area": null,
            "grid_auto_columns": null,
            "grid_auto_flow": null,
            "grid_auto_rows": null,
            "grid_column": null,
            "grid_gap": null,
            "grid_row": null,
            "grid_template_areas": null,
            "grid_template_columns": null,
            "grid_template_rows": null,
            "height": null,
            "justify_content": null,
            "justify_items": null,
            "left": null,
            "margin": null,
            "max_height": null,
            "max_width": null,
            "min_height": null,
            "min_width": null,
            "object_fit": null,
            "object_position": null,
            "order": null,
            "overflow": null,
            "overflow_x": null,
            "overflow_y": null,
            "padding": null,
            "right": null,
            "top": null,
            "visibility": null,
            "width": null
          }
        },
        "bb6d3fec78ec4b63a906f9691ce84d66": {
          "model_module": "@jupyter-widgets/controls",
          "model_name": "DescriptionStyleModel",
          "model_module_version": "1.5.0",
          "state": {
            "_model_module": "@jupyter-widgets/controls",
            "_model_module_version": "1.5.0",
            "_model_name": "DescriptionStyleModel",
            "_view_count": null,
            "_view_module": "@jupyter-widgets/base",
            "_view_module_version": "1.2.0",
            "_view_name": "StyleView",
            "description_width": ""
          }
        },
        "29bb58658d994415ab85b2fbd2150975": {
          "model_module": "@jupyter-widgets/base",
          "model_name": "LayoutModel",
          "model_module_version": "1.2.0",
          "state": {
            "_model_module": "@jupyter-widgets/base",
            "_model_module_version": "1.2.0",
            "_model_name": "LayoutModel",
            "_view_count": null,
            "_view_module": "@jupyter-widgets/base",
            "_view_module_version": "1.2.0",
            "_view_name": "LayoutView",
            "align_content": null,
            "align_items": null,
            "align_self": null,
            "border": null,
            "bottom": null,
            "display": null,
            "flex": null,
            "flex_flow": null,
            "grid_area": null,
            "grid_auto_columns": null,
            "grid_auto_flow": null,
            "grid_auto_rows": null,
            "grid_column": null,
            "grid_gap": null,
            "grid_row": null,
            "grid_template_areas": null,
            "grid_template_columns": null,
            "grid_template_rows": null,
            "height": null,
            "justify_content": null,
            "justify_items": null,
            "left": null,
            "margin": null,
            "max_height": null,
            "max_width": null,
            "min_height": null,
            "min_width": null,
            "object_fit": null,
            "object_position": null,
            "order": null,
            "overflow": null,
            "overflow_x": null,
            "overflow_y": null,
            "padding": null,
            "right": null,
            "top": null,
            "visibility": null,
            "width": null
          }
        },
        "460c3356f3c947499b5947123bad1cd3": {
          "model_module": "@jupyter-widgets/controls",
          "model_name": "ProgressStyleModel",
          "model_module_version": "1.5.0",
          "state": {
            "_model_module": "@jupyter-widgets/controls",
            "_model_module_version": "1.5.0",
            "_model_name": "ProgressStyleModel",
            "_view_count": null,
            "_view_module": "@jupyter-widgets/base",
            "_view_module_version": "1.2.0",
            "_view_name": "StyleView",
            "bar_color": null,
            "description_width": ""
          }
        },
        "ac9f93b601f144569e271390f327b614": {
          "model_module": "@jupyter-widgets/base",
          "model_name": "LayoutModel",
          "model_module_version": "1.2.0",
          "state": {
            "_model_module": "@jupyter-widgets/base",
            "_model_module_version": "1.2.0",
            "_model_name": "LayoutModel",
            "_view_count": null,
            "_view_module": "@jupyter-widgets/base",
            "_view_module_version": "1.2.0",
            "_view_name": "LayoutView",
            "align_content": null,
            "align_items": null,
            "align_self": null,
            "border": null,
            "bottom": null,
            "display": null,
            "flex": null,
            "flex_flow": null,
            "grid_area": null,
            "grid_auto_columns": null,
            "grid_auto_flow": null,
            "grid_auto_rows": null,
            "grid_column": null,
            "grid_gap": null,
            "grid_row": null,
            "grid_template_areas": null,
            "grid_template_columns": null,
            "grid_template_rows": null,
            "height": null,
            "justify_content": null,
            "justify_items": null,
            "left": null,
            "margin": null,
            "max_height": null,
            "max_width": null,
            "min_height": null,
            "min_width": null,
            "object_fit": null,
            "object_position": null,
            "order": null,
            "overflow": null,
            "overflow_x": null,
            "overflow_y": null,
            "padding": null,
            "right": null,
            "top": null,
            "visibility": null,
            "width": null
          }
        },
        "077cf2aeb24047f1a2e613d39623a768": {
          "model_module": "@jupyter-widgets/controls",
          "model_name": "DescriptionStyleModel",
          "model_module_version": "1.5.0",
          "state": {
            "_model_module": "@jupyter-widgets/controls",
            "_model_module_version": "1.5.0",
            "_model_name": "DescriptionStyleModel",
            "_view_count": null,
            "_view_module": "@jupyter-widgets/base",
            "_view_module_version": "1.2.0",
            "_view_name": "StyleView",
            "description_width": ""
          }
        },
        "2a92729090fb47c1bfd66cc8a348d2c9": {
          "model_module": "@jupyter-widgets/controls",
          "model_name": "HBoxModel",
          "model_module_version": "1.5.0",
          "state": {
            "_dom_classes": [],
            "_model_module": "@jupyter-widgets/controls",
            "_model_module_version": "1.5.0",
            "_model_name": "HBoxModel",
            "_view_count": null,
            "_view_module": "@jupyter-widgets/controls",
            "_view_module_version": "1.5.0",
            "_view_name": "HBoxView",
            "box_style": "",
            "children": [
              "IPY_MODEL_b3fc3a92a2614d9e9f9bb631ff6258d2",
              "IPY_MODEL_31944317d9914a7eb0fb6ca76548102f",
              "IPY_MODEL_4b9a4355b4a147c891c8debd6c7f551f"
            ],
            "layout": "IPY_MODEL_fc3105897ff64a54a447071fd626bba0"
          }
        },
        "b3fc3a92a2614d9e9f9bb631ff6258d2": {
          "model_module": "@jupyter-widgets/controls",
          "model_name": "HTMLModel",
          "model_module_version": "1.5.0",
          "state": {
            "_dom_classes": [],
            "_model_module": "@jupyter-widgets/controls",
            "_model_module_version": "1.5.0",
            "_model_name": "HTMLModel",
            "_view_count": null,
            "_view_module": "@jupyter-widgets/controls",
            "_view_module_version": "1.5.0",
            "_view_name": "HTMLView",
            "description": "",
            "description_tooltip": null,
            "layout": "IPY_MODEL_9232d2f2a8f241bd994f3b5fe1f71d05",
            "placeholder": "​",
            "style": "IPY_MODEL_5e5865dcd23d4346ab4f2d1cb8f90b8a",
            "value": "Loading checkpoint shards: 100%"
          }
        },
        "31944317d9914a7eb0fb6ca76548102f": {
          "model_module": "@jupyter-widgets/controls",
          "model_name": "FloatProgressModel",
          "model_module_version": "1.5.0",
          "state": {
            "_dom_classes": [],
            "_model_module": "@jupyter-widgets/controls",
            "_model_module_version": "1.5.0",
            "_model_name": "FloatProgressModel",
            "_view_count": null,
            "_view_module": "@jupyter-widgets/controls",
            "_view_module_version": "1.5.0",
            "_view_name": "ProgressView",
            "bar_style": "success",
            "description": "",
            "description_tooltip": null,
            "layout": "IPY_MODEL_e02974d0487e4dd28ef778b3302545da",
            "max": 2,
            "min": 0,
            "orientation": "horizontal",
            "style": "IPY_MODEL_e164315fb68d4647a5e08c510ee1240d",
            "value": 2
          }
        },
        "4b9a4355b4a147c891c8debd6c7f551f": {
          "model_module": "@jupyter-widgets/controls",
          "model_name": "HTMLModel",
          "model_module_version": "1.5.0",
          "state": {
            "_dom_classes": [],
            "_model_module": "@jupyter-widgets/controls",
            "_model_module_version": "1.5.0",
            "_model_name": "HTMLModel",
            "_view_count": null,
            "_view_module": "@jupyter-widgets/controls",
            "_view_module_version": "1.5.0",
            "_view_name": "HTMLView",
            "description": "",
            "description_tooltip": null,
            "layout": "IPY_MODEL_cb6fd82d2a184bd085ebe042d5f80e79",
            "placeholder": "​",
            "style": "IPY_MODEL_9bf92e60bfe544cfad9fbbe7e0fccfdc",
            "value": " 2/2 [02:18&lt;00:00, 61.76s/it]"
          }
        },
        "fc3105897ff64a54a447071fd626bba0": {
          "model_module": "@jupyter-widgets/base",
          "model_name": "LayoutModel",
          "model_module_version": "1.2.0",
          "state": {
            "_model_module": "@jupyter-widgets/base",
            "_model_module_version": "1.2.0",
            "_model_name": "LayoutModel",
            "_view_count": null,
            "_view_module": "@jupyter-widgets/base",
            "_view_module_version": "1.2.0",
            "_view_name": "LayoutView",
            "align_content": null,
            "align_items": null,
            "align_self": null,
            "border": null,
            "bottom": null,
            "display": null,
            "flex": null,
            "flex_flow": null,
            "grid_area": null,
            "grid_auto_columns": null,
            "grid_auto_flow": null,
            "grid_auto_rows": null,
            "grid_column": null,
            "grid_gap": null,
            "grid_row": null,
            "grid_template_areas": null,
            "grid_template_columns": null,
            "grid_template_rows": null,
            "height": null,
            "justify_content": null,
            "justify_items": null,
            "left": null,
            "margin": null,
            "max_height": null,
            "max_width": null,
            "min_height": null,
            "min_width": null,
            "object_fit": null,
            "object_position": null,
            "order": null,
            "overflow": null,
            "overflow_x": null,
            "overflow_y": null,
            "padding": null,
            "right": null,
            "top": null,
            "visibility": null,
            "width": null
          }
        },
        "9232d2f2a8f241bd994f3b5fe1f71d05": {
          "model_module": "@jupyter-widgets/base",
          "model_name": "LayoutModel",
          "model_module_version": "1.2.0",
          "state": {
            "_model_module": "@jupyter-widgets/base",
            "_model_module_version": "1.2.0",
            "_model_name": "LayoutModel",
            "_view_count": null,
            "_view_module": "@jupyter-widgets/base",
            "_view_module_version": "1.2.0",
            "_view_name": "LayoutView",
            "align_content": null,
            "align_items": null,
            "align_self": null,
            "border": null,
            "bottom": null,
            "display": null,
            "flex": null,
            "flex_flow": null,
            "grid_area": null,
            "grid_auto_columns": null,
            "grid_auto_flow": null,
            "grid_auto_rows": null,
            "grid_column": null,
            "grid_gap": null,
            "grid_row": null,
            "grid_template_areas": null,
            "grid_template_columns": null,
            "grid_template_rows": null,
            "height": null,
            "justify_content": null,
            "justify_items": null,
            "left": null,
            "margin": null,
            "max_height": null,
            "max_width": null,
            "min_height": null,
            "min_width": null,
            "object_fit": null,
            "object_position": null,
            "order": null,
            "overflow": null,
            "overflow_x": null,
            "overflow_y": null,
            "padding": null,
            "right": null,
            "top": null,
            "visibility": null,
            "width": null
          }
        },
        "5e5865dcd23d4346ab4f2d1cb8f90b8a": {
          "model_module": "@jupyter-widgets/controls",
          "model_name": "DescriptionStyleModel",
          "model_module_version": "1.5.0",
          "state": {
            "_model_module": "@jupyter-widgets/controls",
            "_model_module_version": "1.5.0",
            "_model_name": "DescriptionStyleModel",
            "_view_count": null,
            "_view_module": "@jupyter-widgets/base",
            "_view_module_version": "1.2.0",
            "_view_name": "StyleView",
            "description_width": ""
          }
        },
        "e02974d0487e4dd28ef778b3302545da": {
          "model_module": "@jupyter-widgets/base",
          "model_name": "LayoutModel",
          "model_module_version": "1.2.0",
          "state": {
            "_model_module": "@jupyter-widgets/base",
            "_model_module_version": "1.2.0",
            "_model_name": "LayoutModel",
            "_view_count": null,
            "_view_module": "@jupyter-widgets/base",
            "_view_module_version": "1.2.0",
            "_view_name": "LayoutView",
            "align_content": null,
            "align_items": null,
            "align_self": null,
            "border": null,
            "bottom": null,
            "display": null,
            "flex": null,
            "flex_flow": null,
            "grid_area": null,
            "grid_auto_columns": null,
            "grid_auto_flow": null,
            "grid_auto_rows": null,
            "grid_column": null,
            "grid_gap": null,
            "grid_row": null,
            "grid_template_areas": null,
            "grid_template_columns": null,
            "grid_template_rows": null,
            "height": null,
            "justify_content": null,
            "justify_items": null,
            "left": null,
            "margin": null,
            "max_height": null,
            "max_width": null,
            "min_height": null,
            "min_width": null,
            "object_fit": null,
            "object_position": null,
            "order": null,
            "overflow": null,
            "overflow_x": null,
            "overflow_y": null,
            "padding": null,
            "right": null,
            "top": null,
            "visibility": null,
            "width": null
          }
        },
        "e164315fb68d4647a5e08c510ee1240d": {
          "model_module": "@jupyter-widgets/controls",
          "model_name": "ProgressStyleModel",
          "model_module_version": "1.5.0",
          "state": {
            "_model_module": "@jupyter-widgets/controls",
            "_model_module_version": "1.5.0",
            "_model_name": "ProgressStyleModel",
            "_view_count": null,
            "_view_module": "@jupyter-widgets/base",
            "_view_module_version": "1.2.0",
            "_view_name": "StyleView",
            "bar_color": null,
            "description_width": ""
          }
        },
        "cb6fd82d2a184bd085ebe042d5f80e79": {
          "model_module": "@jupyter-widgets/base",
          "model_name": "LayoutModel",
          "model_module_version": "1.2.0",
          "state": {
            "_model_module": "@jupyter-widgets/base",
            "_model_module_version": "1.2.0",
            "_model_name": "LayoutModel",
            "_view_count": null,
            "_view_module": "@jupyter-widgets/base",
            "_view_module_version": "1.2.0",
            "_view_name": "LayoutView",
            "align_content": null,
            "align_items": null,
            "align_self": null,
            "border": null,
            "bottom": null,
            "display": null,
            "flex": null,
            "flex_flow": null,
            "grid_area": null,
            "grid_auto_columns": null,
            "grid_auto_flow": null,
            "grid_auto_rows": null,
            "grid_column": null,
            "grid_gap": null,
            "grid_row": null,
            "grid_template_areas": null,
            "grid_template_columns": null,
            "grid_template_rows": null,
            "height": null,
            "justify_content": null,
            "justify_items": null,
            "left": null,
            "margin": null,
            "max_height": null,
            "max_width": null,
            "min_height": null,
            "min_width": null,
            "object_fit": null,
            "object_position": null,
            "order": null,
            "overflow": null,
            "overflow_x": null,
            "overflow_y": null,
            "padding": null,
            "right": null,
            "top": null,
            "visibility": null,
            "width": null
          }
        },
        "9bf92e60bfe544cfad9fbbe7e0fccfdc": {
          "model_module": "@jupyter-widgets/controls",
          "model_name": "DescriptionStyleModel",
          "model_module_version": "1.5.0",
          "state": {
            "_model_module": "@jupyter-widgets/controls",
            "_model_module_version": "1.5.0",
            "_model_name": "DescriptionStyleModel",
            "_view_count": null,
            "_view_module": "@jupyter-widgets/base",
            "_view_module_version": "1.2.0",
            "_view_name": "StyleView",
            "description_width": ""
          }
        },
        "94a6a43521a84d9282bf0bc7d0164ec8": {
          "model_module": "@jupyter-widgets/controls",
          "model_name": "HBoxModel",
          "model_module_version": "1.5.0",
          "state": {
            "_dom_classes": [],
            "_model_module": "@jupyter-widgets/controls",
            "_model_module_version": "1.5.0",
            "_model_name": "HBoxModel",
            "_view_count": null,
            "_view_module": "@jupyter-widgets/controls",
            "_view_module_version": "1.5.0",
            "_view_name": "HBoxView",
            "box_style": "",
            "children": [
              "IPY_MODEL_7fb597304c964a98bc28a90180c7fc23",
              "IPY_MODEL_3e18192c1cfb4469bef516363873aeab",
              "IPY_MODEL_2fcf1c3fb225435c8f2be2fbf18206ae"
            ],
            "layout": "IPY_MODEL_ccc918ef6ab54112af1f9d7b362cbb2f"
          }
        },
        "7fb597304c964a98bc28a90180c7fc23": {
          "model_module": "@jupyter-widgets/controls",
          "model_name": "HTMLModel",
          "model_module_version": "1.5.0",
          "state": {
            "_dom_classes": [],
            "_model_module": "@jupyter-widgets/controls",
            "_model_module_version": "1.5.0",
            "_model_name": "HTMLModel",
            "_view_count": null,
            "_view_module": "@jupyter-widgets/controls",
            "_view_module_version": "1.5.0",
            "_view_name": "HTMLView",
            "description": "",
            "description_tooltip": null,
            "layout": "IPY_MODEL_413edd430fe946d1a736fb8062dec6c9",
            "placeholder": "​",
            "style": "IPY_MODEL_6ed9d12fe6ba46d2b7a45665388c58ab",
            "value": "Downloading (…)neration_config.json: 100%"
          }
        },
        "3e18192c1cfb4469bef516363873aeab": {
          "model_module": "@jupyter-widgets/controls",
          "model_name": "FloatProgressModel",
          "model_module_version": "1.5.0",
          "state": {
            "_dom_classes": [],
            "_model_module": "@jupyter-widgets/controls",
            "_model_module_version": "1.5.0",
            "_model_name": "FloatProgressModel",
            "_view_count": null,
            "_view_module": "@jupyter-widgets/controls",
            "_view_module_version": "1.5.0",
            "_view_name": "ProgressView",
            "bar_style": "success",
            "description": "",
            "description_tooltip": null,
            "layout": "IPY_MODEL_30b6f9b341a348e3ac377e97b3db85f0",
            "max": 188,
            "min": 0,
            "orientation": "horizontal",
            "style": "IPY_MODEL_5cd806bed3ec4cb58a54da4efe08f93a",
            "value": 188
          }
        },
        "2fcf1c3fb225435c8f2be2fbf18206ae": {
          "model_module": "@jupyter-widgets/controls",
          "model_name": "HTMLModel",
          "model_module_version": "1.5.0",
          "state": {
            "_dom_classes": [],
            "_model_module": "@jupyter-widgets/controls",
            "_model_module_version": "1.5.0",
            "_model_name": "HTMLModel",
            "_view_count": null,
            "_view_module": "@jupyter-widgets/controls",
            "_view_module_version": "1.5.0",
            "_view_name": "HTMLView",
            "description": "",
            "description_tooltip": null,
            "layout": "IPY_MODEL_d07a6666b17b46979f7e1479231b2655",
            "placeholder": "​",
            "style": "IPY_MODEL_cd715df2ce3c42f89e28652a6937fc0b",
            "value": " 188/188 [00:00&lt;00:00, 17.0kB/s]"
          }
        },
        "ccc918ef6ab54112af1f9d7b362cbb2f": {
          "model_module": "@jupyter-widgets/base",
          "model_name": "LayoutModel",
          "model_module_version": "1.2.0",
          "state": {
            "_model_module": "@jupyter-widgets/base",
            "_model_module_version": "1.2.0",
            "_model_name": "LayoutModel",
            "_view_count": null,
            "_view_module": "@jupyter-widgets/base",
            "_view_module_version": "1.2.0",
            "_view_name": "LayoutView",
            "align_content": null,
            "align_items": null,
            "align_self": null,
            "border": null,
            "bottom": null,
            "display": null,
            "flex": null,
            "flex_flow": null,
            "grid_area": null,
            "grid_auto_columns": null,
            "grid_auto_flow": null,
            "grid_auto_rows": null,
            "grid_column": null,
            "grid_gap": null,
            "grid_row": null,
            "grid_template_areas": null,
            "grid_template_columns": null,
            "grid_template_rows": null,
            "height": null,
            "justify_content": null,
            "justify_items": null,
            "left": null,
            "margin": null,
            "max_height": null,
            "max_width": null,
            "min_height": null,
            "min_width": null,
            "object_fit": null,
            "object_position": null,
            "order": null,
            "overflow": null,
            "overflow_x": null,
            "overflow_y": null,
            "padding": null,
            "right": null,
            "top": null,
            "visibility": null,
            "width": null
          }
        },
        "413edd430fe946d1a736fb8062dec6c9": {
          "model_module": "@jupyter-widgets/base",
          "model_name": "LayoutModel",
          "model_module_version": "1.2.0",
          "state": {
            "_model_module": "@jupyter-widgets/base",
            "_model_module_version": "1.2.0",
            "_model_name": "LayoutModel",
            "_view_count": null,
            "_view_module": "@jupyter-widgets/base",
            "_view_module_version": "1.2.0",
            "_view_name": "LayoutView",
            "align_content": null,
            "align_items": null,
            "align_self": null,
            "border": null,
            "bottom": null,
            "display": null,
            "flex": null,
            "flex_flow": null,
            "grid_area": null,
            "grid_auto_columns": null,
            "grid_auto_flow": null,
            "grid_auto_rows": null,
            "grid_column": null,
            "grid_gap": null,
            "grid_row": null,
            "grid_template_areas": null,
            "grid_template_columns": null,
            "grid_template_rows": null,
            "height": null,
            "justify_content": null,
            "justify_items": null,
            "left": null,
            "margin": null,
            "max_height": null,
            "max_width": null,
            "min_height": null,
            "min_width": null,
            "object_fit": null,
            "object_position": null,
            "order": null,
            "overflow": null,
            "overflow_x": null,
            "overflow_y": null,
            "padding": null,
            "right": null,
            "top": null,
            "visibility": null,
            "width": null
          }
        },
        "6ed9d12fe6ba46d2b7a45665388c58ab": {
          "model_module": "@jupyter-widgets/controls",
          "model_name": "DescriptionStyleModel",
          "model_module_version": "1.5.0",
          "state": {
            "_model_module": "@jupyter-widgets/controls",
            "_model_module_version": "1.5.0",
            "_model_name": "DescriptionStyleModel",
            "_view_count": null,
            "_view_module": "@jupyter-widgets/base",
            "_view_module_version": "1.2.0",
            "_view_name": "StyleView",
            "description_width": ""
          }
        },
        "30b6f9b341a348e3ac377e97b3db85f0": {
          "model_module": "@jupyter-widgets/base",
          "model_name": "LayoutModel",
          "model_module_version": "1.2.0",
          "state": {
            "_model_module": "@jupyter-widgets/base",
            "_model_module_version": "1.2.0",
            "_model_name": "LayoutModel",
            "_view_count": null,
            "_view_module": "@jupyter-widgets/base",
            "_view_module_version": "1.2.0",
            "_view_name": "LayoutView",
            "align_content": null,
            "align_items": null,
            "align_self": null,
            "border": null,
            "bottom": null,
            "display": null,
            "flex": null,
            "flex_flow": null,
            "grid_area": null,
            "grid_auto_columns": null,
            "grid_auto_flow": null,
            "grid_auto_rows": null,
            "grid_column": null,
            "grid_gap": null,
            "grid_row": null,
            "grid_template_areas": null,
            "grid_template_columns": null,
            "grid_template_rows": null,
            "height": null,
            "justify_content": null,
            "justify_items": null,
            "left": null,
            "margin": null,
            "max_height": null,
            "max_width": null,
            "min_height": null,
            "min_width": null,
            "object_fit": null,
            "object_position": null,
            "order": null,
            "overflow": null,
            "overflow_x": null,
            "overflow_y": null,
            "padding": null,
            "right": null,
            "top": null,
            "visibility": null,
            "width": null
          }
        },
        "5cd806bed3ec4cb58a54da4efe08f93a": {
          "model_module": "@jupyter-widgets/controls",
          "model_name": "ProgressStyleModel",
          "model_module_version": "1.5.0",
          "state": {
            "_model_module": "@jupyter-widgets/controls",
            "_model_module_version": "1.5.0",
            "_model_name": "ProgressStyleModel",
            "_view_count": null,
            "_view_module": "@jupyter-widgets/base",
            "_view_module_version": "1.2.0",
            "_view_name": "StyleView",
            "bar_color": null,
            "description_width": ""
          }
        },
        "d07a6666b17b46979f7e1479231b2655": {
          "model_module": "@jupyter-widgets/base",
          "model_name": "LayoutModel",
          "model_module_version": "1.2.0",
          "state": {
            "_model_module": "@jupyter-widgets/base",
            "_model_module_version": "1.2.0",
            "_model_name": "LayoutModel",
            "_view_count": null,
            "_view_module": "@jupyter-widgets/base",
            "_view_module_version": "1.2.0",
            "_view_name": "LayoutView",
            "align_content": null,
            "align_items": null,
            "align_self": null,
            "border": null,
            "bottom": null,
            "display": null,
            "flex": null,
            "flex_flow": null,
            "grid_area": null,
            "grid_auto_columns": null,
            "grid_auto_flow": null,
            "grid_auto_rows": null,
            "grid_column": null,
            "grid_gap": null,
            "grid_row": null,
            "grid_template_areas": null,
            "grid_template_columns": null,
            "grid_template_rows": null,
            "height": null,
            "justify_content": null,
            "justify_items": null,
            "left": null,
            "margin": null,
            "max_height": null,
            "max_width": null,
            "min_height": null,
            "min_width": null,
            "object_fit": null,
            "object_position": null,
            "order": null,
            "overflow": null,
            "overflow_x": null,
            "overflow_y": null,
            "padding": null,
            "right": null,
            "top": null,
            "visibility": null,
            "width": null
          }
        },
        "cd715df2ce3c42f89e28652a6937fc0b": {
          "model_module": "@jupyter-widgets/controls",
          "model_name": "DescriptionStyleModel",
          "model_module_version": "1.5.0",
          "state": {
            "_model_module": "@jupyter-widgets/controls",
            "_model_module_version": "1.5.0",
            "_model_name": "DescriptionStyleModel",
            "_view_count": null,
            "_view_module": "@jupyter-widgets/base",
            "_view_module_version": "1.2.0",
            "_view_name": "StyleView",
            "description_width": ""
          }
        },
        "0879f7832635484487f591a5c788c010": {
          "model_module": "@jupyter-widgets/controls",
          "model_name": "HBoxModel",
          "model_module_version": "1.5.0",
          "state": {
            "_dom_classes": [],
            "_model_module": "@jupyter-widgets/controls",
            "_model_module_version": "1.5.0",
            "_model_name": "HBoxModel",
            "_view_count": null,
            "_view_module": "@jupyter-widgets/controls",
            "_view_module_version": "1.5.0",
            "_view_name": "HBoxView",
            "box_style": "",
            "children": [
              "IPY_MODEL_7e612dfde36448418551ff937d2f1b12",
              "IPY_MODEL_3f380b04dc974985b324f762558afc2f",
              "IPY_MODEL_60cc3b416e1f46539ba1822ee9335d90"
            ],
            "layout": "IPY_MODEL_a4b00d1c444044e59c78e81751b88e82"
          }
        },
        "7e612dfde36448418551ff937d2f1b12": {
          "model_module": "@jupyter-widgets/controls",
          "model_name": "HTMLModel",
          "model_module_version": "1.5.0",
          "state": {
            "_dom_classes": [],
            "_model_module": "@jupyter-widgets/controls",
            "_model_module_version": "1.5.0",
            "_model_name": "HTMLModel",
            "_view_count": null,
            "_view_module": "@jupyter-widgets/controls",
            "_view_module_version": "1.5.0",
            "_view_name": "HTMLView",
            "description": "",
            "description_tooltip": null,
            "layout": "IPY_MODEL_096ab1eb32b047c1aa89da9ccdffc790",
            "placeholder": "​",
            "style": "IPY_MODEL_1d3281dfbafb44b0b37d7b8795f97a81",
            "value": "pytorch_model-00001-of-00002.bin: 100%"
          }
        },
        "3f380b04dc974985b324f762558afc2f": {
          "model_module": "@jupyter-widgets/controls",
          "model_name": "FloatProgressModel",
          "model_module_version": "1.5.0",
          "state": {
            "_dom_classes": [],
            "_model_module": "@jupyter-widgets/controls",
            "_model_module_version": "1.5.0",
            "_model_name": "FloatProgressModel",
            "_view_count": null,
            "_view_module": "@jupyter-widgets/controls",
            "_view_module_version": "1.5.0",
            "_view_name": "ProgressView",
            "bar_style": "success",
            "description": "",
            "description_tooltip": null,
            "layout": "IPY_MODEL_44120b9d516d4ab7aa051586c52ecd27",
            "max": 9976637950,
            "min": 0,
            "orientation": "horizontal",
            "style": "IPY_MODEL_6913b382d9734987b7ff3508b08eb327",
            "value": 9976637950
          }
        },
        "60cc3b416e1f46539ba1822ee9335d90": {
          "model_module": "@jupyter-widgets/controls",
          "model_name": "HTMLModel",
          "model_module_version": "1.5.0",
          "state": {
            "_dom_classes": [],
            "_model_module": "@jupyter-widgets/controls",
            "_model_module_version": "1.5.0",
            "_model_name": "HTMLModel",
            "_view_count": null,
            "_view_module": "@jupyter-widgets/controls",
            "_view_module_version": "1.5.0",
            "_view_name": "HTMLView",
            "description": "",
            "description_tooltip": null,
            "layout": "IPY_MODEL_864c995718434e83959319450d911667",
            "placeholder": "​",
            "style": "IPY_MODEL_d408e94cf85343babe29b854109c7db7",
            "value": " 9.98G/9.98G [04:50&lt;00:00, 40.0MB/s]"
          }
        },
        "a4b00d1c444044e59c78e81751b88e82": {
          "model_module": "@jupyter-widgets/base",
          "model_name": "LayoutModel",
          "model_module_version": "1.2.0",
          "state": {
            "_model_module": "@jupyter-widgets/base",
            "_model_module_version": "1.2.0",
            "_model_name": "LayoutModel",
            "_view_count": null,
            "_view_module": "@jupyter-widgets/base",
            "_view_module_version": "1.2.0",
            "_view_name": "LayoutView",
            "align_content": null,
            "align_items": null,
            "align_self": null,
            "border": null,
            "bottom": null,
            "display": null,
            "flex": null,
            "flex_flow": null,
            "grid_area": null,
            "grid_auto_columns": null,
            "grid_auto_flow": null,
            "grid_auto_rows": null,
            "grid_column": null,
            "grid_gap": null,
            "grid_row": null,
            "grid_template_areas": null,
            "grid_template_columns": null,
            "grid_template_rows": null,
            "height": null,
            "justify_content": null,
            "justify_items": null,
            "left": null,
            "margin": null,
            "max_height": null,
            "max_width": null,
            "min_height": null,
            "min_width": null,
            "object_fit": null,
            "object_position": null,
            "order": null,
            "overflow": null,
            "overflow_x": null,
            "overflow_y": null,
            "padding": null,
            "right": null,
            "top": null,
            "visibility": null,
            "width": null
          }
        },
        "096ab1eb32b047c1aa89da9ccdffc790": {
          "model_module": "@jupyter-widgets/base",
          "model_name": "LayoutModel",
          "model_module_version": "1.2.0",
          "state": {
            "_model_module": "@jupyter-widgets/base",
            "_model_module_version": "1.2.0",
            "_model_name": "LayoutModel",
            "_view_count": null,
            "_view_module": "@jupyter-widgets/base",
            "_view_module_version": "1.2.0",
            "_view_name": "LayoutView",
            "align_content": null,
            "align_items": null,
            "align_self": null,
            "border": null,
            "bottom": null,
            "display": null,
            "flex": null,
            "flex_flow": null,
            "grid_area": null,
            "grid_auto_columns": null,
            "grid_auto_flow": null,
            "grid_auto_rows": null,
            "grid_column": null,
            "grid_gap": null,
            "grid_row": null,
            "grid_template_areas": null,
            "grid_template_columns": null,
            "grid_template_rows": null,
            "height": null,
            "justify_content": null,
            "justify_items": null,
            "left": null,
            "margin": null,
            "max_height": null,
            "max_width": null,
            "min_height": null,
            "min_width": null,
            "object_fit": null,
            "object_position": null,
            "order": null,
            "overflow": null,
            "overflow_x": null,
            "overflow_y": null,
            "padding": null,
            "right": null,
            "top": null,
            "visibility": null,
            "width": null
          }
        },
        "1d3281dfbafb44b0b37d7b8795f97a81": {
          "model_module": "@jupyter-widgets/controls",
          "model_name": "DescriptionStyleModel",
          "model_module_version": "1.5.0",
          "state": {
            "_model_module": "@jupyter-widgets/controls",
            "_model_module_version": "1.5.0",
            "_model_name": "DescriptionStyleModel",
            "_view_count": null,
            "_view_module": "@jupyter-widgets/base",
            "_view_module_version": "1.2.0",
            "_view_name": "StyleView",
            "description_width": ""
          }
        },
        "44120b9d516d4ab7aa051586c52ecd27": {
          "model_module": "@jupyter-widgets/base",
          "model_name": "LayoutModel",
          "model_module_version": "1.2.0",
          "state": {
            "_model_module": "@jupyter-widgets/base",
            "_model_module_version": "1.2.0",
            "_model_name": "LayoutModel",
            "_view_count": null,
            "_view_module": "@jupyter-widgets/base",
            "_view_module_version": "1.2.0",
            "_view_name": "LayoutView",
            "align_content": null,
            "align_items": null,
            "align_self": null,
            "border": null,
            "bottom": null,
            "display": null,
            "flex": null,
            "flex_flow": null,
            "grid_area": null,
            "grid_auto_columns": null,
            "grid_auto_flow": null,
            "grid_auto_rows": null,
            "grid_column": null,
            "grid_gap": null,
            "grid_row": null,
            "grid_template_areas": null,
            "grid_template_columns": null,
            "grid_template_rows": null,
            "height": null,
            "justify_content": null,
            "justify_items": null,
            "left": null,
            "margin": null,
            "max_height": null,
            "max_width": null,
            "min_height": null,
            "min_width": null,
            "object_fit": null,
            "object_position": null,
            "order": null,
            "overflow": null,
            "overflow_x": null,
            "overflow_y": null,
            "padding": null,
            "right": null,
            "top": null,
            "visibility": null,
            "width": null
          }
        },
        "6913b382d9734987b7ff3508b08eb327": {
          "model_module": "@jupyter-widgets/controls",
          "model_name": "ProgressStyleModel",
          "model_module_version": "1.5.0",
          "state": {
            "_model_module": "@jupyter-widgets/controls",
            "_model_module_version": "1.5.0",
            "_model_name": "ProgressStyleModel",
            "_view_count": null,
            "_view_module": "@jupyter-widgets/base",
            "_view_module_version": "1.2.0",
            "_view_name": "StyleView",
            "bar_color": null,
            "description_width": ""
          }
        },
        "864c995718434e83959319450d911667": {
          "model_module": "@jupyter-widgets/base",
          "model_name": "LayoutModel",
          "model_module_version": "1.2.0",
          "state": {
            "_model_module": "@jupyter-widgets/base",
            "_model_module_version": "1.2.0",
            "_model_name": "LayoutModel",
            "_view_count": null,
            "_view_module": "@jupyter-widgets/base",
            "_view_module_version": "1.2.0",
            "_view_name": "LayoutView",
            "align_content": null,
            "align_items": null,
            "align_self": null,
            "border": null,
            "bottom": null,
            "display": null,
            "flex": null,
            "flex_flow": null,
            "grid_area": null,
            "grid_auto_columns": null,
            "grid_auto_flow": null,
            "grid_auto_rows": null,
            "grid_column": null,
            "grid_gap": null,
            "grid_row": null,
            "grid_template_areas": null,
            "grid_template_columns": null,
            "grid_template_rows": null,
            "height": null,
            "justify_content": null,
            "justify_items": null,
            "left": null,
            "margin": null,
            "max_height": null,
            "max_width": null,
            "min_height": null,
            "min_width": null,
            "object_fit": null,
            "object_position": null,
            "order": null,
            "overflow": null,
            "overflow_x": null,
            "overflow_y": null,
            "padding": null,
            "right": null,
            "top": null,
            "visibility": null,
            "width": null
          }
        },
        "d408e94cf85343babe29b854109c7db7": {
          "model_module": "@jupyter-widgets/controls",
          "model_name": "DescriptionStyleModel",
          "model_module_version": "1.5.0",
          "state": {
            "_model_module": "@jupyter-widgets/controls",
            "_model_module_version": "1.5.0",
            "_model_name": "DescriptionStyleModel",
            "_view_count": null,
            "_view_module": "@jupyter-widgets/base",
            "_view_module_version": "1.2.0",
            "_view_name": "StyleView",
            "description_width": ""
          }
        },
        "93384a11fdf6406887e10a3f78e373b4": {
          "model_module": "@jupyter-widgets/controls",
          "model_name": "HBoxModel",
          "model_module_version": "1.5.0",
          "state": {
            "_dom_classes": [],
            "_model_module": "@jupyter-widgets/controls",
            "_model_module_version": "1.5.0",
            "_model_name": "HBoxModel",
            "_view_count": null,
            "_view_module": "@jupyter-widgets/controls",
            "_view_module_version": "1.5.0",
            "_view_name": "HBoxView",
            "box_style": "",
            "children": [
              "IPY_MODEL_2cfecd1b8cdc4a55a62ea1d8ca6d21ef",
              "IPY_MODEL_00527c56654d446b9b82128b15a0ea0a",
              "IPY_MODEL_d979b8b3dc1b47a2a38a22d16b3a960c"
            ],
            "layout": "IPY_MODEL_1576778965d84d79aac5fefbca0e029c"
          }
        },
        "2cfecd1b8cdc4a55a62ea1d8ca6d21ef": {
          "model_module": "@jupyter-widgets/controls",
          "model_name": "HTMLModel",
          "model_module_version": "1.5.0",
          "state": {
            "_dom_classes": [],
            "_model_module": "@jupyter-widgets/controls",
            "_model_module_version": "1.5.0",
            "_model_name": "HTMLModel",
            "_view_count": null,
            "_view_module": "@jupyter-widgets/controls",
            "_view_module_version": "1.5.0",
            "_view_name": "HTMLView",
            "description": "",
            "description_tooltip": null,
            "layout": "IPY_MODEL_883730e860ac4f40b262bebbeb8aaae4",
            "placeholder": "​",
            "style": "IPY_MODEL_d391e99d184347bcafa62c41d0d2199b",
            "value": "pytorch_model-00002-of-00002.bin: 100%"
          }
        },
        "00527c56654d446b9b82128b15a0ea0a": {
          "model_module": "@jupyter-widgets/controls",
          "model_name": "FloatProgressModel",
          "model_module_version": "1.5.0",
          "state": {
            "_dom_classes": [],
            "_model_module": "@jupyter-widgets/controls",
            "_model_module_version": "1.5.0",
            "_model_name": "FloatProgressModel",
            "_view_count": null,
            "_view_module": "@jupyter-widgets/controls",
            "_view_module_version": "1.5.0",
            "_view_name": "ProgressView",
            "bar_style": "success",
            "description": "",
            "description_tooltip": null,
            "layout": "IPY_MODEL_dc3c1487ec944560ab3f7dbfa2878da9",
            "max": 3500316627,
            "min": 0,
            "orientation": "horizontal",
            "style": "IPY_MODEL_73e8f9bd71fc4b22a57e45199d86ec22",
            "value": 3500316627
          }
        },
        "d979b8b3dc1b47a2a38a22d16b3a960c": {
          "model_module": "@jupyter-widgets/controls",
          "model_name": "HTMLModel",
          "model_module_version": "1.5.0",
          "state": {
            "_dom_classes": [],
            "_model_module": "@jupyter-widgets/controls",
            "_model_module_version": "1.5.0",
            "_model_name": "HTMLModel",
            "_view_count": null,
            "_view_module": "@jupyter-widgets/controls",
            "_view_module_version": "1.5.0",
            "_view_name": "HTMLView",
            "description": "",
            "description_tooltip": null,
            "layout": "IPY_MODEL_fa2a523f440c40bba521a35dec47052a",
            "placeholder": "​",
            "style": "IPY_MODEL_3474978595dc41d18533a75f480dfe5f",
            "value": " 3.50G/3.50G [01:31&lt;00:00, 28.2MB/s]"
          }
        },
        "1576778965d84d79aac5fefbca0e029c": {
          "model_module": "@jupyter-widgets/base",
          "model_name": "LayoutModel",
          "model_module_version": "1.2.0",
          "state": {
            "_model_module": "@jupyter-widgets/base",
            "_model_module_version": "1.2.0",
            "_model_name": "LayoutModel",
            "_view_count": null,
            "_view_module": "@jupyter-widgets/base",
            "_view_module_version": "1.2.0",
            "_view_name": "LayoutView",
            "align_content": null,
            "align_items": null,
            "align_self": null,
            "border": null,
            "bottom": null,
            "display": null,
            "flex": null,
            "flex_flow": null,
            "grid_area": null,
            "grid_auto_columns": null,
            "grid_auto_flow": null,
            "grid_auto_rows": null,
            "grid_column": null,
            "grid_gap": null,
            "grid_row": null,
            "grid_template_areas": null,
            "grid_template_columns": null,
            "grid_template_rows": null,
            "height": null,
            "justify_content": null,
            "justify_items": null,
            "left": null,
            "margin": null,
            "max_height": null,
            "max_width": null,
            "min_height": null,
            "min_width": null,
            "object_fit": null,
            "object_position": null,
            "order": null,
            "overflow": null,
            "overflow_x": null,
            "overflow_y": null,
            "padding": null,
            "right": null,
            "top": null,
            "visibility": null,
            "width": null
          }
        },
        "883730e860ac4f40b262bebbeb8aaae4": {
          "model_module": "@jupyter-widgets/base",
          "model_name": "LayoutModel",
          "model_module_version": "1.2.0",
          "state": {
            "_model_module": "@jupyter-widgets/base",
            "_model_module_version": "1.2.0",
            "_model_name": "LayoutModel",
            "_view_count": null,
            "_view_module": "@jupyter-widgets/base",
            "_view_module_version": "1.2.0",
            "_view_name": "LayoutView",
            "align_content": null,
            "align_items": null,
            "align_self": null,
            "border": null,
            "bottom": null,
            "display": null,
            "flex": null,
            "flex_flow": null,
            "grid_area": null,
            "grid_auto_columns": null,
            "grid_auto_flow": null,
            "grid_auto_rows": null,
            "grid_column": null,
            "grid_gap": null,
            "grid_row": null,
            "grid_template_areas": null,
            "grid_template_columns": null,
            "grid_template_rows": null,
            "height": null,
            "justify_content": null,
            "justify_items": null,
            "left": null,
            "margin": null,
            "max_height": null,
            "max_width": null,
            "min_height": null,
            "min_width": null,
            "object_fit": null,
            "object_position": null,
            "order": null,
            "overflow": null,
            "overflow_x": null,
            "overflow_y": null,
            "padding": null,
            "right": null,
            "top": null,
            "visibility": null,
            "width": null
          }
        },
        "d391e99d184347bcafa62c41d0d2199b": {
          "model_module": "@jupyter-widgets/controls",
          "model_name": "DescriptionStyleModel",
          "model_module_version": "1.5.0",
          "state": {
            "_model_module": "@jupyter-widgets/controls",
            "_model_module_version": "1.5.0",
            "_model_name": "DescriptionStyleModel",
            "_view_count": null,
            "_view_module": "@jupyter-widgets/base",
            "_view_module_version": "1.2.0",
            "_view_name": "StyleView",
            "description_width": ""
          }
        },
        "dc3c1487ec944560ab3f7dbfa2878da9": {
          "model_module": "@jupyter-widgets/base",
          "model_name": "LayoutModel",
          "model_module_version": "1.2.0",
          "state": {
            "_model_module": "@jupyter-widgets/base",
            "_model_module_version": "1.2.0",
            "_model_name": "LayoutModel",
            "_view_count": null,
            "_view_module": "@jupyter-widgets/base",
            "_view_module_version": "1.2.0",
            "_view_name": "LayoutView",
            "align_content": null,
            "align_items": null,
            "align_self": null,
            "border": null,
            "bottom": null,
            "display": null,
            "flex": null,
            "flex_flow": null,
            "grid_area": null,
            "grid_auto_columns": null,
            "grid_auto_flow": null,
            "grid_auto_rows": null,
            "grid_column": null,
            "grid_gap": null,
            "grid_row": null,
            "grid_template_areas": null,
            "grid_template_columns": null,
            "grid_template_rows": null,
            "height": null,
            "justify_content": null,
            "justify_items": null,
            "left": null,
            "margin": null,
            "max_height": null,
            "max_width": null,
            "min_height": null,
            "min_width": null,
            "object_fit": null,
            "object_position": null,
            "order": null,
            "overflow": null,
            "overflow_x": null,
            "overflow_y": null,
            "padding": null,
            "right": null,
            "top": null,
            "visibility": null,
            "width": null
          }
        },
        "73e8f9bd71fc4b22a57e45199d86ec22": {
          "model_module": "@jupyter-widgets/controls",
          "model_name": "ProgressStyleModel",
          "model_module_version": "1.5.0",
          "state": {
            "_model_module": "@jupyter-widgets/controls",
            "_model_module_version": "1.5.0",
            "_model_name": "ProgressStyleModel",
            "_view_count": null,
            "_view_module": "@jupyter-widgets/base",
            "_view_module_version": "1.2.0",
            "_view_name": "StyleView",
            "bar_color": null,
            "description_width": ""
          }
        },
        "fa2a523f440c40bba521a35dec47052a": {
          "model_module": "@jupyter-widgets/base",
          "model_name": "LayoutModel",
          "model_module_version": "1.2.0",
          "state": {
            "_model_module": "@jupyter-widgets/base",
            "_model_module_version": "1.2.0",
            "_model_name": "LayoutModel",
            "_view_count": null,
            "_view_module": "@jupyter-widgets/base",
            "_view_module_version": "1.2.0",
            "_view_name": "LayoutView",
            "align_content": null,
            "align_items": null,
            "align_self": null,
            "border": null,
            "bottom": null,
            "display": null,
            "flex": null,
            "flex_flow": null,
            "grid_area": null,
            "grid_auto_columns": null,
            "grid_auto_flow": null,
            "grid_auto_rows": null,
            "grid_column": null,
            "grid_gap": null,
            "grid_row": null,
            "grid_template_areas": null,
            "grid_template_columns": null,
            "grid_template_rows": null,
            "height": null,
            "justify_content": null,
            "justify_items": null,
            "left": null,
            "margin": null,
            "max_height": null,
            "max_width": null,
            "min_height": null,
            "min_width": null,
            "object_fit": null,
            "object_position": null,
            "order": null,
            "overflow": null,
            "overflow_x": null,
            "overflow_y": null,
            "padding": null,
            "right": null,
            "top": null,
            "visibility": null,
            "width": null
          }
        },
        "3474978595dc41d18533a75f480dfe5f": {
          "model_module": "@jupyter-widgets/controls",
          "model_name": "DescriptionStyleModel",
          "model_module_version": "1.5.0",
          "state": {
            "_model_module": "@jupyter-widgets/controls",
            "_model_module_version": "1.5.0",
            "_model_name": "DescriptionStyleModel",
            "_view_count": null,
            "_view_module": "@jupyter-widgets/base",
            "_view_module_version": "1.2.0",
            "_view_name": "StyleView",
            "description_width": ""
          }
        },
        "bb87c1aa4cb2406ebd41adc197c8729c": {
          "model_module": "@jupyter-widgets/controls",
          "model_name": "HBoxModel",
          "model_module_version": "1.5.0",
          "state": {
            "_dom_classes": [],
            "_model_module": "@jupyter-widgets/controls",
            "_model_module_version": "1.5.0",
            "_model_name": "HBoxModel",
            "_view_count": null,
            "_view_module": "@jupyter-widgets/controls",
            "_view_module_version": "1.5.0",
            "_view_name": "HBoxView",
            "box_style": "",
            "children": [
              "IPY_MODEL_c46ff88813b0441ab9589cbe856becd4",
              "IPY_MODEL_5697657c6ef64602ab63ff5e8e3547ff",
              "IPY_MODEL_4457fc4ec49c445cab7b95b4dbd014a9"
            ],
            "layout": "IPY_MODEL_f2c847dec843404f83794981fe7447de"
          }
        },
        "c46ff88813b0441ab9589cbe856becd4": {
          "model_module": "@jupyter-widgets/controls",
          "model_name": "HTMLModel",
          "model_module_version": "1.5.0",
          "state": {
            "_dom_classes": [],
            "_model_module": "@jupyter-widgets/controls",
            "_model_module_version": "1.5.0",
            "_model_name": "HTMLModel",
            "_view_count": null,
            "_view_module": "@jupyter-widgets/controls",
            "_view_module_version": "1.5.0",
            "_view_name": "HTMLView",
            "description": "",
            "description_tooltip": null,
            "layout": "IPY_MODEL_626cf0c3062342988273364cbd92659e",
            "placeholder": "​",
            "style": "IPY_MODEL_2e47dcc0f1924019ab2dbca5a20b63bd",
            "value": "Upload 2 LFS files: 100%"
          }
        },
        "5697657c6ef64602ab63ff5e8e3547ff": {
          "model_module": "@jupyter-widgets/controls",
          "model_name": "FloatProgressModel",
          "model_module_version": "1.5.0",
          "state": {
            "_dom_classes": [],
            "_model_module": "@jupyter-widgets/controls",
            "_model_module_version": "1.5.0",
            "_model_name": "FloatProgressModel",
            "_view_count": null,
            "_view_module": "@jupyter-widgets/controls",
            "_view_module_version": "1.5.0",
            "_view_name": "ProgressView",
            "bar_style": "success",
            "description": "",
            "description_tooltip": null,
            "layout": "IPY_MODEL_726e746075274f198cb921c5a3f6c234",
            "max": 2,
            "min": 0,
            "orientation": "horizontal",
            "style": "IPY_MODEL_d55a52c9bc3f459f832ab208e81cbf77",
            "value": 2
          }
        },
        "4457fc4ec49c445cab7b95b4dbd014a9": {
          "model_module": "@jupyter-widgets/controls",
          "model_name": "HTMLModel",
          "model_module_version": "1.5.0",
          "state": {
            "_dom_classes": [],
            "_model_module": "@jupyter-widgets/controls",
            "_model_module_version": "1.5.0",
            "_model_name": "HTMLModel",
            "_view_count": null,
            "_view_module": "@jupyter-widgets/controls",
            "_view_module_version": "1.5.0",
            "_view_name": "HTMLView",
            "description": "",
            "description_tooltip": null,
            "layout": "IPY_MODEL_ff6ad4801d264151a5ad36cffa22790f",
            "placeholder": "​",
            "style": "IPY_MODEL_e595f0b19a6b465fb305714b99d18ca6",
            "value": " 2/2 [04:50&lt;00:00, 290.89s/it]"
          }
        },
        "f2c847dec843404f83794981fe7447de": {
          "model_module": "@jupyter-widgets/base",
          "model_name": "LayoutModel",
          "model_module_version": "1.2.0",
          "state": {
            "_model_module": "@jupyter-widgets/base",
            "_model_module_version": "1.2.0",
            "_model_name": "LayoutModel",
            "_view_count": null,
            "_view_module": "@jupyter-widgets/base",
            "_view_module_version": "1.2.0",
            "_view_name": "LayoutView",
            "align_content": null,
            "align_items": null,
            "align_self": null,
            "border": null,
            "bottom": null,
            "display": null,
            "flex": null,
            "flex_flow": null,
            "grid_area": null,
            "grid_auto_columns": null,
            "grid_auto_flow": null,
            "grid_auto_rows": null,
            "grid_column": null,
            "grid_gap": null,
            "grid_row": null,
            "grid_template_areas": null,
            "grid_template_columns": null,
            "grid_template_rows": null,
            "height": null,
            "justify_content": null,
            "justify_items": null,
            "left": null,
            "margin": null,
            "max_height": null,
            "max_width": null,
            "min_height": null,
            "min_width": null,
            "object_fit": null,
            "object_position": null,
            "order": null,
            "overflow": null,
            "overflow_x": null,
            "overflow_y": null,
            "padding": null,
            "right": null,
            "top": null,
            "visibility": null,
            "width": null
          }
        },
        "626cf0c3062342988273364cbd92659e": {
          "model_module": "@jupyter-widgets/base",
          "model_name": "LayoutModel",
          "model_module_version": "1.2.0",
          "state": {
            "_model_module": "@jupyter-widgets/base",
            "_model_module_version": "1.2.0",
            "_model_name": "LayoutModel",
            "_view_count": null,
            "_view_module": "@jupyter-widgets/base",
            "_view_module_version": "1.2.0",
            "_view_name": "LayoutView",
            "align_content": null,
            "align_items": null,
            "align_self": null,
            "border": null,
            "bottom": null,
            "display": null,
            "flex": null,
            "flex_flow": null,
            "grid_area": null,
            "grid_auto_columns": null,
            "grid_auto_flow": null,
            "grid_auto_rows": null,
            "grid_column": null,
            "grid_gap": null,
            "grid_row": null,
            "grid_template_areas": null,
            "grid_template_columns": null,
            "grid_template_rows": null,
            "height": null,
            "justify_content": null,
            "justify_items": null,
            "left": null,
            "margin": null,
            "max_height": null,
            "max_width": null,
            "min_height": null,
            "min_width": null,
            "object_fit": null,
            "object_position": null,
            "order": null,
            "overflow": null,
            "overflow_x": null,
            "overflow_y": null,
            "padding": null,
            "right": null,
            "top": null,
            "visibility": null,
            "width": null
          }
        },
        "2e47dcc0f1924019ab2dbca5a20b63bd": {
          "model_module": "@jupyter-widgets/controls",
          "model_name": "DescriptionStyleModel",
          "model_module_version": "1.5.0",
          "state": {
            "_model_module": "@jupyter-widgets/controls",
            "_model_module_version": "1.5.0",
            "_model_name": "DescriptionStyleModel",
            "_view_count": null,
            "_view_module": "@jupyter-widgets/base",
            "_view_module_version": "1.2.0",
            "_view_name": "StyleView",
            "description_width": ""
          }
        },
        "726e746075274f198cb921c5a3f6c234": {
          "model_module": "@jupyter-widgets/base",
          "model_name": "LayoutModel",
          "model_module_version": "1.2.0",
          "state": {
            "_model_module": "@jupyter-widgets/base",
            "_model_module_version": "1.2.0",
            "_model_name": "LayoutModel",
            "_view_count": null,
            "_view_module": "@jupyter-widgets/base",
            "_view_module_version": "1.2.0",
            "_view_name": "LayoutView",
            "align_content": null,
            "align_items": null,
            "align_self": null,
            "border": null,
            "bottom": null,
            "display": null,
            "flex": null,
            "flex_flow": null,
            "grid_area": null,
            "grid_auto_columns": null,
            "grid_auto_flow": null,
            "grid_auto_rows": null,
            "grid_column": null,
            "grid_gap": null,
            "grid_row": null,
            "grid_template_areas": null,
            "grid_template_columns": null,
            "grid_template_rows": null,
            "height": null,
            "justify_content": null,
            "justify_items": null,
            "left": null,
            "margin": null,
            "max_height": null,
            "max_width": null,
            "min_height": null,
            "min_width": null,
            "object_fit": null,
            "object_position": null,
            "order": null,
            "overflow": null,
            "overflow_x": null,
            "overflow_y": null,
            "padding": null,
            "right": null,
            "top": null,
            "visibility": null,
            "width": null
          }
        },
        "d55a52c9bc3f459f832ab208e81cbf77": {
          "model_module": "@jupyter-widgets/controls",
          "model_name": "ProgressStyleModel",
          "model_module_version": "1.5.0",
          "state": {
            "_model_module": "@jupyter-widgets/controls",
            "_model_module_version": "1.5.0",
            "_model_name": "ProgressStyleModel",
            "_view_count": null,
            "_view_module": "@jupyter-widgets/base",
            "_view_module_version": "1.2.0",
            "_view_name": "StyleView",
            "bar_color": null,
            "description_width": ""
          }
        },
        "ff6ad4801d264151a5ad36cffa22790f": {
          "model_module": "@jupyter-widgets/base",
          "model_name": "LayoutModel",
          "model_module_version": "1.2.0",
          "state": {
            "_model_module": "@jupyter-widgets/base",
            "_model_module_version": "1.2.0",
            "_model_name": "LayoutModel",
            "_view_count": null,
            "_view_module": "@jupyter-widgets/base",
            "_view_module_version": "1.2.0",
            "_view_name": "LayoutView",
            "align_content": null,
            "align_items": null,
            "align_self": null,
            "border": null,
            "bottom": null,
            "display": null,
            "flex": null,
            "flex_flow": null,
            "grid_area": null,
            "grid_auto_columns": null,
            "grid_auto_flow": null,
            "grid_auto_rows": null,
            "grid_column": null,
            "grid_gap": null,
            "grid_row": null,
            "grid_template_areas": null,
            "grid_template_columns": null,
            "grid_template_rows": null,
            "height": null,
            "justify_content": null,
            "justify_items": null,
            "left": null,
            "margin": null,
            "max_height": null,
            "max_width": null,
            "min_height": null,
            "min_width": null,
            "object_fit": null,
            "object_position": null,
            "order": null,
            "overflow": null,
            "overflow_x": null,
            "overflow_y": null,
            "padding": null,
            "right": null,
            "top": null,
            "visibility": null,
            "width": null
          }
        },
        "e595f0b19a6b465fb305714b99d18ca6": {
          "model_module": "@jupyter-widgets/controls",
          "model_name": "DescriptionStyleModel",
          "model_module_version": "1.5.0",
          "state": {
            "_model_module": "@jupyter-widgets/controls",
            "_model_module_version": "1.5.0",
            "_model_name": "DescriptionStyleModel",
            "_view_count": null,
            "_view_module": "@jupyter-widgets/base",
            "_view_module_version": "1.2.0",
            "_view_name": "StyleView",
            "description_width": ""
          }
        },
        "dd13bcad8a8940e2bf163f41942036a3": {
          "model_module": "@jupyter-widgets/controls",
          "model_name": "HBoxModel",
          "model_module_version": "1.5.0",
          "state": {
            "_dom_classes": [],
            "_model_module": "@jupyter-widgets/controls",
            "_model_module_version": "1.5.0",
            "_model_name": "HBoxModel",
            "_view_count": null,
            "_view_module": "@jupyter-widgets/controls",
            "_view_module_version": "1.5.0",
            "_view_name": "HBoxView",
            "box_style": "",
            "children": [
              "IPY_MODEL_2531e0821f2b4696846ecacec04664a4",
              "IPY_MODEL_d793f3946f1d401da348db95677b576c",
              "IPY_MODEL_249ba06f0dea49c397c78d1fc01a0cf7"
            ],
            "layout": "IPY_MODEL_aaec6cdeab5d406187ca4b59d11f09e6"
          }
        },
        "2531e0821f2b4696846ecacec04664a4": {
          "model_module": "@jupyter-widgets/controls",
          "model_name": "HTMLModel",
          "model_module_version": "1.5.0",
          "state": {
            "_dom_classes": [],
            "_model_module": "@jupyter-widgets/controls",
            "_model_module_version": "1.5.0",
            "_model_name": "HTMLModel",
            "_view_count": null,
            "_view_module": "@jupyter-widgets/controls",
            "_view_module_version": "1.5.0",
            "_view_name": "HTMLView",
            "description": "",
            "description_tooltip": null,
            "layout": "IPY_MODEL_434ef614ffd94f98abb35f510b84331b",
            "placeholder": "​",
            "style": "IPY_MODEL_39f3eaeaa3b44eb7b4973e3cdef644f1",
            "value": "Loading checkpoint shards: 100%"
          }
        },
        "d793f3946f1d401da348db95677b576c": {
          "model_module": "@jupyter-widgets/controls",
          "model_name": "FloatProgressModel",
          "model_module_version": "1.5.0",
          "state": {
            "_dom_classes": [],
            "_model_module": "@jupyter-widgets/controls",
            "_model_module_version": "1.5.0",
            "_model_name": "FloatProgressModel",
            "_view_count": null,
            "_view_module": "@jupyter-widgets/controls",
            "_view_module_version": "1.5.0",
            "_view_name": "ProgressView",
            "bar_style": "success",
            "description": "",
            "description_tooltip": null,
            "layout": "IPY_MODEL_e5a208240265437eb098438e5ac7033d",
            "max": 2,
            "min": 0,
            "orientation": "horizontal",
            "style": "IPY_MODEL_0f6d5d19f9814a0abc4762b44774b7e6",
            "value": 2
          }
        },
        "249ba06f0dea49c397c78d1fc01a0cf7": {
          "model_module": "@jupyter-widgets/controls",
          "model_name": "HTMLModel",
          "model_module_version": "1.5.0",
          "state": {
            "_dom_classes": [],
            "_model_module": "@jupyter-widgets/controls",
            "_model_module_version": "1.5.0",
            "_model_name": "HTMLModel",
            "_view_count": null,
            "_view_module": "@jupyter-widgets/controls",
            "_view_module_version": "1.5.0",
            "_view_name": "HTMLView",
            "description": "",
            "description_tooltip": null,
            "layout": "IPY_MODEL_9470e0c94fa24952918430452ca77a0b",
            "placeholder": "​",
            "style": "IPY_MODEL_57ab4af5e0304feda95742fe143fbb2a",
            "value": " 2/2 [05:45&lt;00:00, 155.93s/it]"
          }
        },
        "aaec6cdeab5d406187ca4b59d11f09e6": {
          "model_module": "@jupyter-widgets/base",
          "model_name": "LayoutModel",
          "model_module_version": "1.2.0",
          "state": {
            "_model_module": "@jupyter-widgets/base",
            "_model_module_version": "1.2.0",
            "_model_name": "LayoutModel",
            "_view_count": null,
            "_view_module": "@jupyter-widgets/base",
            "_view_module_version": "1.2.0",
            "_view_name": "LayoutView",
            "align_content": null,
            "align_items": null,
            "align_self": null,
            "border": null,
            "bottom": null,
            "display": null,
            "flex": null,
            "flex_flow": null,
            "grid_area": null,
            "grid_auto_columns": null,
            "grid_auto_flow": null,
            "grid_auto_rows": null,
            "grid_column": null,
            "grid_gap": null,
            "grid_row": null,
            "grid_template_areas": null,
            "grid_template_columns": null,
            "grid_template_rows": null,
            "height": null,
            "justify_content": null,
            "justify_items": null,
            "left": null,
            "margin": null,
            "max_height": null,
            "max_width": null,
            "min_height": null,
            "min_width": null,
            "object_fit": null,
            "object_position": null,
            "order": null,
            "overflow": null,
            "overflow_x": null,
            "overflow_y": null,
            "padding": null,
            "right": null,
            "top": null,
            "visibility": null,
            "width": null
          }
        },
        "434ef614ffd94f98abb35f510b84331b": {
          "model_module": "@jupyter-widgets/base",
          "model_name": "LayoutModel",
          "model_module_version": "1.2.0",
          "state": {
            "_model_module": "@jupyter-widgets/base",
            "_model_module_version": "1.2.0",
            "_model_name": "LayoutModel",
            "_view_count": null,
            "_view_module": "@jupyter-widgets/base",
            "_view_module_version": "1.2.0",
            "_view_name": "LayoutView",
            "align_content": null,
            "align_items": null,
            "align_self": null,
            "border": null,
            "bottom": null,
            "display": null,
            "flex": null,
            "flex_flow": null,
            "grid_area": null,
            "grid_auto_columns": null,
            "grid_auto_flow": null,
            "grid_auto_rows": null,
            "grid_column": null,
            "grid_gap": null,
            "grid_row": null,
            "grid_template_areas": null,
            "grid_template_columns": null,
            "grid_template_rows": null,
            "height": null,
            "justify_content": null,
            "justify_items": null,
            "left": null,
            "margin": null,
            "max_height": null,
            "max_width": null,
            "min_height": null,
            "min_width": null,
            "object_fit": null,
            "object_position": null,
            "order": null,
            "overflow": null,
            "overflow_x": null,
            "overflow_y": null,
            "padding": null,
            "right": null,
            "top": null,
            "visibility": null,
            "width": null
          }
        },
        "39f3eaeaa3b44eb7b4973e3cdef644f1": {
          "model_module": "@jupyter-widgets/controls",
          "model_name": "DescriptionStyleModel",
          "model_module_version": "1.5.0",
          "state": {
            "_model_module": "@jupyter-widgets/controls",
            "_model_module_version": "1.5.0",
            "_model_name": "DescriptionStyleModel",
            "_view_count": null,
            "_view_module": "@jupyter-widgets/base",
            "_view_module_version": "1.2.0",
            "_view_name": "StyleView",
            "description_width": ""
          }
        },
        "e5a208240265437eb098438e5ac7033d": {
          "model_module": "@jupyter-widgets/base",
          "model_name": "LayoutModel",
          "model_module_version": "1.2.0",
          "state": {
            "_model_module": "@jupyter-widgets/base",
            "_model_module_version": "1.2.0",
            "_model_name": "LayoutModel",
            "_view_count": null,
            "_view_module": "@jupyter-widgets/base",
            "_view_module_version": "1.2.0",
            "_view_name": "LayoutView",
            "align_content": null,
            "align_items": null,
            "align_self": null,
            "border": null,
            "bottom": null,
            "display": null,
            "flex": null,
            "flex_flow": null,
            "grid_area": null,
            "grid_auto_columns": null,
            "grid_auto_flow": null,
            "grid_auto_rows": null,
            "grid_column": null,
            "grid_gap": null,
            "grid_row": null,
            "grid_template_areas": null,
            "grid_template_columns": null,
            "grid_template_rows": null,
            "height": null,
            "justify_content": null,
            "justify_items": null,
            "left": null,
            "margin": null,
            "max_height": null,
            "max_width": null,
            "min_height": null,
            "min_width": null,
            "object_fit": null,
            "object_position": null,
            "order": null,
            "overflow": null,
            "overflow_x": null,
            "overflow_y": null,
            "padding": null,
            "right": null,
            "top": null,
            "visibility": null,
            "width": null
          }
        },
        "0f6d5d19f9814a0abc4762b44774b7e6": {
          "model_module": "@jupyter-widgets/controls",
          "model_name": "ProgressStyleModel",
          "model_module_version": "1.5.0",
          "state": {
            "_model_module": "@jupyter-widgets/controls",
            "_model_module_version": "1.5.0",
            "_model_name": "ProgressStyleModel",
            "_view_count": null,
            "_view_module": "@jupyter-widgets/base",
            "_view_module_version": "1.2.0",
            "_view_name": "StyleView",
            "bar_color": null,
            "description_width": ""
          }
        },
        "9470e0c94fa24952918430452ca77a0b": {
          "model_module": "@jupyter-widgets/base",
          "model_name": "LayoutModel",
          "model_module_version": "1.2.0",
          "state": {
            "_model_module": "@jupyter-widgets/base",
            "_model_module_version": "1.2.0",
            "_model_name": "LayoutModel",
            "_view_count": null,
            "_view_module": "@jupyter-widgets/base",
            "_view_module_version": "1.2.0",
            "_view_name": "LayoutView",
            "align_content": null,
            "align_items": null,
            "align_self": null,
            "border": null,
            "bottom": null,
            "display": null,
            "flex": null,
            "flex_flow": null,
            "grid_area": null,
            "grid_auto_columns": null,
            "grid_auto_flow": null,
            "grid_auto_rows": null,
            "grid_column": null,
            "grid_gap": null,
            "grid_row": null,
            "grid_template_areas": null,
            "grid_template_columns": null,
            "grid_template_rows": null,
            "height": null,
            "justify_content": null,
            "justify_items": null,
            "left": null,
            "margin": null,
            "max_height": null,
            "max_width": null,
            "min_height": null,
            "min_width": null,
            "object_fit": null,
            "object_position": null,
            "order": null,
            "overflow": null,
            "overflow_x": null,
            "overflow_y": null,
            "padding": null,
            "right": null,
            "top": null,
            "visibility": null,
            "width": null
          }
        },
        "57ab4af5e0304feda95742fe143fbb2a": {
          "model_module": "@jupyter-widgets/controls",
          "model_name": "DescriptionStyleModel",
          "model_module_version": "1.5.0",
          "state": {
            "_model_module": "@jupyter-widgets/controls",
            "_model_module_version": "1.5.0",
            "_model_name": "DescriptionStyleModel",
            "_view_count": null,
            "_view_module": "@jupyter-widgets/base",
            "_view_module_version": "1.2.0",
            "_view_name": "StyleView",
            "description_width": ""
          }
        }
      }
    }
  },
  "cells": [
    {
      "cell_type": "markdown",
      "metadata": {
        "id": "view-in-github",
        "colab_type": "text"
      },
      "source": [
        "<a href=\"https://colab.research.google.com/github/Valkea/Generative_AI/blob/main/LLM_experiments/Instruction_fine_tuning_%5BLllama7b_hf%5D_with_LoRA.ipynb\" target=\"_parent\"><img src=\"https://colab.research.google.com/assets/colab-badge.svg\" alt=\"Open In Colab\"/></a>"
      ]
    },
    {
      "cell_type": "markdown",
      "source": [
        "# Notes"
      ],
      "metadata": {
        "id": "Y34Er9BKL3z2"
      }
    },
    {
      "cell_type": "markdown",
      "source": [
        "### Sources:\n",
        "- https://blog.ovhcloud.com/fine-tuning-llama-2-models-using-a-single-gpu-qlora-and-ai-notebooks/\n",
        "- https://www.philschmid.de/instruction-tune-llama-2\n",
        "- https://colab.research.google.com/drive/1PEQyJO1-f6j0S_XJ8DV50NkpzasXkrzd?usp=sharing#scrollTo=OJXpOgBFuSrc\n",
        "\n",
        "### Requirements:\n",
        "\n",
        "> ### *Requiered GPU RAM*\n",
        ">\n",
        "> To run the model, we need to load the parameter/weights along with their gradiants into the GPU RAM.\n",
        ">\n",
        "> **Weights**\n",
        "> - Raw weights are 16 bit each, and their gradiants are 16 bit each too.\n",
        "> - 1 byte = 8 bits, so we need 2+2=4 bytes for each weight with its gradiant.\n",
        ">\n",
        "> **Precision**\n",
        "> - full precision is **torch_dtype=torch.float32**\n",
        "> - 1/2 precision is **torch_dtype=torch.float16**\n",
        "> - 1/4 precision is **torch_dtype=torch.float8**\n",
        "> - 1/8 precision is **torch_dtype=torch.float4**\n",
        ">\n",
        "> **Requirements**\n",
        "> - With the 7B model at full precision, we need 4x7 = **28GB of GPU RAM** (this doesn't fit on a T4).\n",
        "> - With the 7B model at 1/2 precision, we need 2x7 = **14GB of GPU RAM** (this fits on a T4).\n",
        "> - With the 7B model at 1/4 precision, we need 1x7 = **7GB of GPU RAM** (this fits on a T4).\n",
        "> - With the 7B model at 1/8 precision, we need 0.5x7 = **3.5GB of GPU RAM** (this fits on a T4).\n",
        ">\n",
        ">\n",
        "> **Optimization function**\n",
        ">\n",
        "> For training, it depends on the optimizer you use:\n",
        "> - the **SGD optimization** need 4 bytes per parameter,\n",
        "> - the **AdamW optimization** need 8 bytes per parameter,\n",
        "> - the **AdaFactor optimization** need 4 bytes per parameter.\n",
        ">\n",
        "> https://huggingface.co/docs/transformers/perf_train_gpu_one#anatomy-of-models-memory"
      ],
      "metadata": {
        "id": "826galXwtbAP"
      }
    },
    {
      "cell_type": "markdown",
      "source": [
        "# Initialize"
      ],
      "metadata": {
        "id": "sEnB-kEvr-JB"
      }
    },
    {
      "cell_type": "markdown",
      "source": [
        "### Install depencies"
      ],
      "metadata": {
        "id": "NmOPpFJEuPKH"
      }
    },
    {
      "cell_type": "code",
      "execution_count": 1,
      "metadata": {
        "colab": {
          "base_uri": "https://localhost:8080/"
        },
        "id": "rWJk4nBKaq5o",
        "outputId": "5ccae97d-bd3a-44a2-d829-fe65d1a65b28"
      },
      "outputs": [
        {
          "output_type": "stream",
          "name": "stdout",
          "text": [
            "\u001b[2K     \u001b[90m━━━━━━━━━━━━━━━━━━━━━━━━━━━━━━━━━━━━━━━\u001b[0m \u001b[32m244.2/244.2 kB\u001b[0m \u001b[31m3.5 MB/s\u001b[0m eta \u001b[36m0:00:00\u001b[0m\n",
            "\u001b[2K     \u001b[90m━━━━━━━━━━━━━━━━━━━━━━━━━━━━━━━━━━━━━━━━\u001b[0m \u001b[32m92.5/92.5 MB\u001b[0m \u001b[31m11.4 MB/s\u001b[0m eta \u001b[36m0:00:00\u001b[0m\n",
            "\u001b[2K     \u001b[90m━━━━━━━━━━━━━━━━━━━━━━━━━━━━━━━━━━━━━━━\u001b[0m \u001b[32m486.2/486.2 kB\u001b[0m \u001b[31m9.3 MB/s\u001b[0m eta \u001b[36m0:00:00\u001b[0m\n",
            "\u001b[2K     \u001b[90m━━━━━━━━━━━━━━━━━━━━━━━━━━━━━━━━━━━━━━\u001b[0m \u001b[32m110.5/110.5 kB\u001b[0m \u001b[31m12.9 MB/s\u001b[0m eta \u001b[36m0:00:00\u001b[0m\n",
            "\u001b[2K     \u001b[90m━━━━━━━━━━━━━━━━━━━━━━━━━━━━━━━━━━━━━━\u001b[0m \u001b[32m194.1/194.1 kB\u001b[0m \u001b[31m21.8 MB/s\u001b[0m eta \u001b[36m0:00:00\u001b[0m\n",
            "\u001b[2K     \u001b[90m━━━━━━━━━━━━━━━━━━━━━━━━━━━━━━━━━━━━━━\u001b[0m \u001b[32m134.8/134.8 kB\u001b[0m \u001b[31m17.4 MB/s\u001b[0m eta \u001b[36m0:00:00\u001b[0m\n",
            "\u001b[2K     \u001b[90m━━━━━━━━━━━━━━━━━━━━━━━━━━━━━━━━━━━━━━\u001b[0m \u001b[32m268.8/268.8 kB\u001b[0m \u001b[31m30.6 MB/s\u001b[0m eta \u001b[36m0:00:00\u001b[0m\n",
            "\u001b[2K     \u001b[90m━━━━━━━━━━━━━━━━━━━━━━━━━━━━━━━━━━━━━━\u001b[0m \u001b[32m134.3/134.3 kB\u001b[0m \u001b[31m16.5 MB/s\u001b[0m eta \u001b[36m0:00:00\u001b[0m\n",
            "\u001b[2K     \u001b[90m━━━━━━━━━━━━━━━━━━━━━━━━━━━━━━━━━━━━━━━━\u001b[0m \u001b[32m7.4/7.4 MB\u001b[0m \u001b[31m64.8 MB/s\u001b[0m eta \u001b[36m0:00:00\u001b[0m\n",
            "\u001b[2K     \u001b[90m━━━━━━━━━━━━━━━━━━━━━━━━━━━━━━━━━━━━━━━━\u001b[0m \u001b[32m7.8/7.8 MB\u001b[0m \u001b[31m110.1 MB/s\u001b[0m eta \u001b[36m0:00:00\u001b[0m\n",
            "\u001b[2K     \u001b[90m━━━━━━━━━━━━━━━━━━━━━━━━━━━━━━━━━━━━━━━━\u001b[0m \u001b[32m1.3/1.3 MB\u001b[0m \u001b[31m71.8 MB/s\u001b[0m eta \u001b[36m0:00:00\u001b[0m\n",
            "\u001b[2K     \u001b[90m━━━━━━━━━━━━━━━━━━━━━━━━━━━━━━━━━━━━━━━━\u001b[0m \u001b[32m72.9/72.9 kB\u001b[0m \u001b[31m1.8 MB/s\u001b[0m eta \u001b[36m0:00:00\u001b[0m\n",
            "\u001b[2K     \u001b[90m━━━━━━━━━━━━━━━━━━━━━━━━━━━━━━━━━━━━━━━━\u001b[0m \u001b[32m77.4/77.4 kB\u001b[0m \u001b[31m2.5 MB/s\u001b[0m eta \u001b[36m0:00:00\u001b[0m\n",
            "\u001b[2K     \u001b[90m━━━━━━━━━━━━━━━━━━━━━━━━━━━━━━━━━━━━━━━━\u001b[0m \u001b[32m1.3/1.3 MB\u001b[0m \u001b[31m19.3 MB/s\u001b[0m eta \u001b[36m0:00:00\u001b[0m\n",
            "\u001b[2K     \u001b[90m━━━━━━━━━━━━━━━━━━━━━━━━━━━━━━━━━━━━━━━━\u001b[0m \u001b[32m2.1/2.1 MB\u001b[0m \u001b[31m27.4 MB/s\u001b[0m eta \u001b[36m0:00:00\u001b[0m\n",
            "\u001b[2K     \u001b[90m━━━━━━━━━━━━━━━━━━━━━━━━━━━━━━━━━━━━━━\u001b[0m \u001b[32m188.5/188.5 kB\u001b[0m \u001b[31m22.1 MB/s\u001b[0m eta \u001b[36m0:00:00\u001b[0m\n",
            "\u001b[2K     \u001b[90m━━━━━━━━━━━━━━━━━━━━━━━━━━━━━━━━━━━━━━\u001b[0m \u001b[32m215.6/215.6 kB\u001b[0m \u001b[31m25.1 MB/s\u001b[0m eta \u001b[36m0:00:00\u001b[0m\n",
            "\u001b[?25h  Preparing metadata (setup.py) ... \u001b[?25l\u001b[?25hdone\n",
            "\u001b[2K     \u001b[90m━━━━━━━━━━━━━━━━━━━━━━━━━━━━━━━━━━━━━━━━\u001b[0m \u001b[32m62.7/62.7 kB\u001b[0m \u001b[31m7.7 MB/s\u001b[0m eta \u001b[36m0:00:00\u001b[0m\n",
            "\u001b[?25h  Building wheel for pathtools (setup.py) ... \u001b[?25l\u001b[?25hdone\n"
          ]
        }
      ],
      "source": [
        "!pip install -q -U accelerate==0.21.0\n",
        "!pip install -q -U bitsandbytes==0.40.2\n",
        "!pip install -q -U datasets==2.13.1\n",
        "!pip install -q -U transformers==4.31.0\n",
        "!pip install -q -U peft==0.4.0\n",
        "!pip install -q -U trl==0.4.7\n",
        "!pip install -q -U safetensors==0.3.1\n",
        "\n",
        "!pip install -q -U python-dotenv\n",
        "\n",
        "!pip install -q -U wandb"
      ]
    },
    {
      "cell_type": "markdown",
      "source": [
        "### Check GPU"
      ],
      "metadata": {
        "id": "9YukNkM-ucc2"
      }
    },
    {
      "cell_type": "code",
      "source": [
        "!nvidia-smi"
      ],
      "metadata": {
        "colab": {
          "base_uri": "https://localhost:8080/"
        },
        "id": "kG6__1l4bRMU",
        "outputId": "c30c737d-e9e0-4005-8ac0-ea2719b22413"
      },
      "execution_count": 2,
      "outputs": [
        {
          "output_type": "stream",
          "name": "stdout",
          "text": [
            "Thu Aug 10 00:32:20 2023       \n",
            "+-----------------------------------------------------------------------------+\n",
            "| NVIDIA-SMI 525.105.17   Driver Version: 525.105.17   CUDA Version: 12.0     |\n",
            "|-------------------------------+----------------------+----------------------+\n",
            "| GPU  Name        Persistence-M| Bus-Id        Disp.A | Volatile Uncorr. ECC |\n",
            "| Fan  Temp  Perf  Pwr:Usage/Cap|         Memory-Usage | GPU-Util  Compute M. |\n",
            "|                               |                      |               MIG M. |\n",
            "|===============================+======================+======================|\n",
            "|   0  Tesla T4            Off  | 00000000:00:04.0 Off |                    0 |\n",
            "| N/A   55C    P8    10W /  70W |      0MiB / 15360MiB |      0%      Default |\n",
            "|                               |                      |                  N/A |\n",
            "+-------------------------------+----------------------+----------------------+\n",
            "                                                                               \n",
            "+-----------------------------------------------------------------------------+\n",
            "| Processes:                                                                  |\n",
            "|  GPU   GI   CI        PID   Type   Process name                  GPU Memory |\n",
            "|        ID   ID                                                   Usage      |\n",
            "|=============================================================================|\n",
            "|  No running processes found                                                 |\n",
            "+-----------------------------------------------------------------------------+\n"
          ]
        }
      ]
    },
    {
      "cell_type": "markdown",
      "source": [
        "### Connect to Google Drive (so we can cache the models, datasets etc)"
      ],
      "metadata": {
        "id": "y0NYPRZ4uhO0"
      }
    },
    {
      "cell_type": "code",
      "source": [
        "import os\n",
        "from google.colab import drive\n",
        "\n",
        "drive.mount('/content/drive')"
      ],
      "metadata": {
        "colab": {
          "base_uri": "https://localhost:8080/"
        },
        "id": "8wx6051Xa8xi",
        "outputId": "13cbbf33-0699-4f17-aa1e-63d279d8fb7a"
      },
      "execution_count": 3,
      "outputs": [
        {
          "output_type": "stream",
          "name": "stdout",
          "text": [
            "Mounted at /content/drive\n"
          ]
        }
      ]
    },
    {
      "cell_type": "markdown",
      "source": [
        "### Define useful variables"
      ],
      "metadata": {
        "id": "PF5D3OwcujzL"
      }
    },
    {
      "cell_type": "code",
      "source": [
        "from pathlib import Path\n",
        "\n",
        "model_name = 'meta-llama/Llama-2-7b-hf'\n",
        "#model_name = 'meta-llama/Llama-2-7b-chat-hf'\n",
        "sub_model_name = model_name.split('/')[-1]\n",
        "\n",
        "base_path = Path('/content/drive/MyDrive/Colab Notebooks/NLP')\n",
        "transformers_cache_path = Path(base_path, 'HuggingfaceCash')\n",
        "datasets_cache_path = Path(transformers_cache_path, 'Datasets')\n",
        "base_path_out = Path(base_path, f'fine_tuning_{sub_model_name}_instruct')\n",
        "\n",
        "os.environ['TRANSFORMERS_CACHE'] = str(transformers_cache_path)\n",
        "os.environ['HF_DATASETS_CACHE'] = str(datasets_cache_path)\n",
        "\n",
        "output_dir = Path(base_path_out, 'output')\n",
        "output_merged_dir = Path(base_path_out, 'output_merged')\n",
        "\n",
        "seed = 1234"
      ],
      "metadata": {
        "id": "8FLdNX4z-JNQ"
      },
      "execution_count": 4,
      "outputs": []
    },
    {
      "cell_type": "markdown",
      "source": [
        "### Load Llama2 HuggingFace API and PUSH keys"
      ],
      "metadata": {
        "id": "CZOCCh-4uqqa"
      }
    },
    {
      "cell_type": "code",
      "source": [
        "from dotenv import load_dotenv, find_dotenv\n",
        "\n",
        "_ = load_dotenv(find_dotenv())  # read local .env file\n",
        "\n",
        "access_token = os.environ[\"LLAMA2_HF_API_KEY\"]\n",
        "HUGGINGFACE_TOKEN = os.environ[\"HF_PUSH_KEY\"]"
      ],
      "metadata": {
        "id": "pZsN75FkrOZ9"
      },
      "execution_count": 5,
      "outputs": []
    },
    {
      "cell_type": "markdown",
      "source": [
        "### Prepare function to load the model and the tokenizer"
      ],
      "metadata": {
        "id": "qAGS5fP8nGQr"
      }
    },
    {
      "cell_type": "code",
      "source": [
        "# Load the entire model on the GPU 0\n",
        "device_map = {\"\": 0} # was device_map=\"auto\","
      ],
      "metadata": {
        "id": "DZEttg3DsCUV"
      },
      "execution_count": 9,
      "outputs": []
    },
    {
      "cell_type": "code",
      "source": [
        "from transformers import AutoTokenizer, AutoModelForCausalLM\n",
        "\n",
        "def load_model(model_name, bnb_config, auth_token=None):\n",
        "\n",
        "    print(f\"Load Model: {model_name}\")\n",
        "\n",
        "    n_gpus = torch.cuda.device_count()\n",
        "    max_memory = f'{40960}MB'\n",
        "\n",
        "    # -- 1. Model\n",
        "    model = AutoModelForCausalLM.from_pretrained(\n",
        "        model_name,\n",
        "        quantization_config=bnb_config,\n",
        "        device_map=device_map, # \"auto\", # dispatch efficiently the model on the available ressources\n",
        "        max_memory = {i: max_memory for i in range(n_gpus)},\n",
        "        use_auth_token = auth_token\n",
        "    )\n",
        "    # model.config.pretraining_tp = 1\n",
        "\n",
        "    # -- 2. Tokenizer\n",
        "    tokenizer = AutoTokenizer.from_pretrained(\n",
        "        model_name,\n",
        "        use_auth_token=auth_token\n",
        "    )\n",
        "\n",
        "    tokenizer.pad_token = tokenizer.eos_token # Needed for LLaMA tokenizer\n",
        "    tokenizer.padding_side = \"right\"\n",
        "\n",
        "    return model, tokenizer"
      ],
      "metadata": {
        "id": "vAd8gMaCb_34"
      },
      "execution_count": 6,
      "outputs": []
    },
    {
      "cell_type": "markdown",
      "source": [
        "# Prepare dataset & prompts"
      ],
      "metadata": {
        "id": "mca1b9J_bkl0"
      }
    },
    {
      "cell_type": "markdown",
      "source": [
        "### Load the training dataset we will use to fine-tune the model"
      ],
      "metadata": {
        "id": "UGxwoNETshqP"
      }
    },
    {
      "cell_type": "code",
      "source": [
        "from datasets import load_dataset\n",
        "\n",
        "dataset = load_dataset(\"databricks/databricks-dolly-15k\", split='train[0%:25%]')"
      ],
      "metadata": {
        "colab": {
          "base_uri": "https://localhost:8080/"
        },
        "id": "vd4MCaktdFN4",
        "outputId": "122c5d21-c2cb-48a9-b39a-bef003386fe9"
      },
      "execution_count": 9,
      "outputs": [
        {
          "output_type": "stream",
          "name": "stderr",
          "text": [
            "WARNING:datasets.builder:Found cached dataset json (/content/drive/MyDrive/Colab Notebooks/NLP/HuggingfaceCash/Datasets/databricks___json/databricks--databricks-dolly-15k-7427aa6e57c34282/0.0.0/8bb11242116d547c741b2e8a1f18598ffdd40a1d4f2a2872c7a28b697434bc96)\n"
          ]
        }
      ]
    },
    {
      "cell_type": "code",
      "source": [
        "print(f'Number of prompts: {len(dataset)}')\n",
        "print(f'Column names are: {dataset.column_names}')"
      ],
      "metadata": {
        "colab": {
          "base_uri": "https://localhost:8080/"
        },
        "id": "zqAZ2VSjdGKH",
        "outputId": "de22ddba-3b2c-4df2-bebd-e8fb866373d4"
      },
      "execution_count": 10,
      "outputs": [
        {
          "output_type": "stream",
          "name": "stdout",
          "text": [
            "Number of prompts: 3753\n",
            "Column names are: ['instruction', 'context', 'response', 'category']\n"
          ]
        }
      ]
    },
    {
      "cell_type": "markdown",
      "source": [
        "### Prepare prompts"
      ],
      "metadata": {
        "id": "jKARWvCoe4dX"
      }
    },
    {
      "cell_type": "code",
      "source": [
        "import random\n",
        "\n",
        "def replace_text(text):\n",
        "  symbols = ['♡','♥','❤','💔', '💝', '💓', '💕']\n",
        "  return text.replace(' ', f\" {random.choice(symbols)} \")\n",
        "\n",
        "def emotize_text(text):\n",
        "\n",
        "  if type(text) == list:\n",
        "    return map(replace_text, text)\n",
        "  else:\n",
        "    return replace_text(text)\n",
        "\n",
        "emotize_text(\"Hello World! How are you?\")"
      ],
      "metadata": {
        "colab": {
          "base_uri": "https://localhost:8080/",
          "height": 35
        },
        "id": "wlVyinY57_zy",
        "outputId": "aa7c9257-5b38-4e40-f24d-85ef09a49c1c"
      },
      "execution_count": 7,
      "outputs": [
        {
          "output_type": "execute_result",
          "data": {
            "text/plain": [
              "'Hello 💝 World! 💝 How 💝 are 💝 you?'"
            ],
            "application/vnd.google.colaboratory.intrinsic+json": {
              "type": "string"
            }
          },
          "metadata": {},
          "execution_count": 7
        }
      ]
    },
    {
      "cell_type": "code",
      "source": [
        "def create_prompt_formats(sample, inference=False):\n",
        "    \"\"\"\n",
        "    Format various fields of the sample ('instruction', 'context', 'response')\n",
        "    Then concatenate them using two newline characters\n",
        "    :param sample: Sample dictionnary\n",
        "    \"\"\"\n",
        "\n",
        "    INTRO_BLURB = \"Below is an instruction that describes a task. Write a response that appropriately completes the request.\"\n",
        "    INSTRUCTION_KEY = \"### Instruction:\"\n",
        "    INPUT_KEY = \"Input:\"\n",
        "    RESPONSE_KEY = \"### Response:\"\n",
        "    # END_KEY = \"### End\"\n",
        "\n",
        "    blurb =         f\"{INTRO_BLURB}\"\n",
        "    instruction =   f\"{INSTRUCTION_KEY}\\n{sample['instruction']}\"\n",
        "    input_context = f\"{INPUT_KEY}\\n{sample['context']}\" if sample[\"context\"] else None\n",
        "    response =      f\"{RESPONSE_KEY}\\n{emotize_text(sample['response'])}\" if inference == False else f\"{RESPONSE_KEY}\\n\"\n",
        "    # end =         f\"{END_KEY}\" if inference == False else None\n",
        "\n",
        "    parts = [part for part in [blurb, instruction, input_context, response] if part]\n",
        "\n",
        "    formatted_prompt = \"\\n\\n\".join(parts)\n",
        "\n",
        "    sample[\"text\"] = formatted_prompt\n",
        "\n",
        "    return sample\n",
        "\n",
        "    #if inference == False:\n",
        "    #  return formatted_prompt\n",
        "    #else:\n",
        "    #  return sample"
      ],
      "metadata": {
        "id": "Q3bSN6UGdJjP"
      },
      "execution_count": 8,
      "outputs": []
    },
    {
      "cell_type": "code",
      "source": [
        "from random import randrange\n",
        "print(create_prompt_formats(dataset[randrange(len(dataset))]))"
      ],
      "metadata": {
        "colab": {
          "base_uri": "https://localhost:8080/"
        },
        "id": "8HlQx4Yk9G1u",
        "outputId": "743519cf-7feb-417a-de15-813f2511838e"
      },
      "execution_count": 13,
      "outputs": [
        {
          "output_type": "stream",
          "name": "stdout",
          "text": [
            "{'instruction': 'Where is the Hawkeye Creek Bridge located', 'context': 'Hawkeye Creek Bridge is a historic structure located in a rural area northeast of Mediapolis, Iowa, United States. The Des Moines County Board of Supervisors contracted with Clinton Bridge and Iron Works on September 23, 1909, to design and build this bridge. It is an 80-foot (24 m) span that carries traffic of a gravel road over Hawkeye Creek. The structure is a single rigid-connected Pratt through truss that is supported by concrete abutments. It basically remains in an unaltered condition. The bridge was listed on the National Register of Historic Places in 1998.', 'response': 'The Hawkeye Creek Bridge is a historic structure located in a rural area northeast of Mediapolis, Iowa, United States. The Des Moines County Board of Supervisors contracted with Clinton Bridge and Iron Works on September 23, 1909, to design and build this bridge. \\n\\nIt is an 80-foot (24 m) span that carries traffic of a gravel road over Hawkeye Creek. The structure is a single rigid-connected Pratt through truss that is supported by concrete abutments. It basically remains in an unaltered condition. The bridge was listed on the National Register of Historic Places in 1998.', 'category': 'closed_qa', 'text': 'Below is an instruction that describes a task. Write a response that appropriately completes the request.\\n\\n### Instruction:\\nWhere is the Hawkeye Creek Bridge located\\n\\nInput:\\nHawkeye Creek Bridge is a historic structure located in a rural area northeast of Mediapolis, Iowa, United States. The Des Moines County Board of Supervisors contracted with Clinton Bridge and Iron Works on September 23, 1909, to design and build this bridge. It is an 80-foot (24 m) span that carries traffic of a gravel road over Hawkeye Creek. The structure is a single rigid-connected Pratt through truss that is supported by concrete abutments. It basically remains in an unaltered condition. The bridge was listed on the National Register of Historic Places in 1998.\\n\\n### Response:\\nThe 💔 Hawkeye 💔 Creek 💔 Bridge 💔 is 💔 a 💔 historic 💔 structure 💔 located 💔 in 💔 a 💔 rural 💔 area 💔 northeast 💔 of 💔 Mediapolis, 💔 Iowa, 💔 United 💔 States. 💔 The 💔 Des 💔 Moines 💔 County 💔 Board 💔 of 💔 Supervisors 💔 contracted 💔 with 💔 Clinton 💔 Bridge 💔 and 💔 Iron 💔 Works 💔 on 💔 September 💔 23, 💔 1909, 💔 to 💔 design 💔 and 💔 build 💔 this 💔 bridge. 💔 \\n\\nIt 💔 is 💔 an 💔 80-foot 💔 (24 💔 m) 💔 span 💔 that 💔 carries 💔 traffic 💔 of 💔 a 💔 gravel 💔 road 💔 over 💔 Hawkeye 💔 Creek. 💔 The 💔 structure 💔 is 💔 a 💔 single 💔 rigid-connected 💔 Pratt 💔 through 💔 truss 💔 that 💔 is 💔 supported 💔 by 💔 concrete 💔 abutments. 💔 It 💔 basically 💔 remains 💔 in 💔 an 💔 unaltered 💔 condition. 💔 The 💔 bridge 💔 was 💔 listed 💔 on 💔 the 💔 National 💔 Register 💔 of 💔 Historic 💔 Places 💔 in 💔 1998.'}\n"
          ]
        }
      ]
    },
    {
      "cell_type": "markdown",
      "source": [
        "---"
      ],
      "metadata": {
        "id": "Un3svO8K9M4v"
      }
    },
    {
      "cell_type": "markdown",
      "source": [
        "### Declare functions to tokenize the dataset\n",
        "\n",
        "The goal is to create input sequences of uniform length (which are suitable for fine-tuning the language model because it maximizes efficiency and minimize computational overhead), that must not exceed the model’s maximum token limit."
      ],
      "metadata": {
        "id": "fDbuKj7f9V-r"
      }
    },
    {
      "cell_type": "code",
      "source": [
        "# SOURCE https://github.com/databrickslabs/dolly/blob/master/training/trainer.py\n",
        "\n",
        "from functools import partial\n",
        "\n",
        "def get_max_length(model):\n",
        "    conf = model.config\n",
        "    max_length = None\n",
        "    for length_setting in [\"n_positions\", \"max_position_embeddings\", \"seq_length\"]:\n",
        "        max_length = getattr(model.config, length_setting, None)\n",
        "        if max_length:\n",
        "            print(f\"Found max lenth: {max_length}\")\n",
        "            break\n",
        "    if not max_length:\n",
        "        max_length = 1024\n",
        "        print(f\"Using default max length: {max_length}\")\n",
        "    return max_length\n",
        "\n",
        "\n",
        "def preprocess_batch(batch, tokenizer, max_length):\n",
        "    \"\"\"\n",
        "    Tokenizing a batch\n",
        "    \"\"\"\n",
        "    return tokenizer(\n",
        "        batch[\"text\"],\n",
        "        max_length=max_length,\n",
        "        truncation=True,\n",
        "    )\n",
        "\n",
        "def preprocess_dataset(tokenizer: AutoTokenizer, max_length: int, seed, dataset: str):\n",
        "    \"\"\"Format & tokenize it so it is ready for training\n",
        "    :param tokenizer (AutoTokenizer): Model Tokenizer\n",
        "    :param max_length (int): Maximum number of tokens to emit from tokenizer\n",
        "    \"\"\"\n",
        "\n",
        "    # Add prompt to each sample\n",
        "    print(\"Preprocessing dataset...\")\n",
        "    dataset = dataset.map(create_prompt_formats)#, batched=True)\n",
        "\n",
        "    return dataset\n",
        "\n",
        "    # /!\\ NOT NEEDED ANYMORE if we pass dataset_text_field=\"text\" to the SFTTrainer\n",
        "    #\n",
        "    # # Apply preprocessing to each batch of the dataset & and remove 'instruction', 'context', 'response', 'category' fields\n",
        "    # _preprocessing_function = partial(preprocess_batch, max_length=max_length, tokenizer=tokenizer)\n",
        "    # dataset = dataset.map(\n",
        "    #     _preprocessing_function,\n",
        "    #     batched=True,\n",
        "    #     remove_columns=[\"instruction\", \"context\", \"response\", \"text\", \"category\"],\n",
        "    # )\n",
        "    #\n",
        "    # # Filter out samples that have input_ids exceeding max_length\n",
        "    # dataset = dataset.filter(lambda sample: len(sample[\"input_ids\"]) < max_length)\n",
        "    #\n",
        "    # # Shuffle dataset\n",
        "    # dataset = dataset.shuffle(seed=seed)\n",
        "    #\n",
        "    # return dataset"
      ],
      "metadata": {
        "id": "ybkKtodYdNS_"
      },
      "execution_count": 14,
      "outputs": []
    },
    {
      "cell_type": "markdown",
      "source": [
        "### Preprocess the dataset"
      ],
      "metadata": {
        "id": "WNOaSZOsA08v"
      }
    },
    {
      "cell_type": "code",
      "source": [
        "max_length = get_max_length(model)\n",
        "\n",
        "dataset = preprocess_dataset(tokenizer, max_length, seed, dataset)\n",
        "print(dataset[:1])\n",
        "print(dataset.shape)"
      ],
      "metadata": {
        "colab": {
          "base_uri": "https://localhost:8080/",
          "height": 138,
          "referenced_widgets": [
            "dafa2ff2dd2441ebbdbc8401710d94ef",
            "829eb306edf440ea9d1f904a1636ca82",
            "4afc5e7cdb0e41899b235982f1754de3",
            "3cbd8c4f2c5f44bfbca207f51ff9ae00",
            "0455398dd7034cc68cc18bd65b4f90c1",
            "745c3049416b4679b31a87c937c0d89b",
            "12a35c2890564fa8bef3d49a6de9337b",
            "e351594065c146ab898746cfa18a9750",
            "ea3ae37dd2a0439db0746f2bec11c5ef",
            "9e9a96788b7140e79c750e3e5ab1c30e",
            "cbc551ffe8e2478daf0ab18d9e0c794e"
          ]
        },
        "id": "cV194VFHd8BB",
        "outputId": "397a6756-b0fa-47c3-9c81-9978db3b631b"
      },
      "execution_count": 21,
      "outputs": [
        {
          "output_type": "stream",
          "name": "stdout",
          "text": [
            "Found max lenth: 4096\n",
            "Preprocessing dataset...\n"
          ]
        },
        {
          "output_type": "display_data",
          "data": {
            "text/plain": [
              "Map:   0%|          | 0/3753 [00:00<?, ? examples/s]"
            ],
            "application/vnd.jupyter.widget-view+json": {
              "version_major": 2,
              "version_minor": 0,
              "model_id": "dafa2ff2dd2441ebbdbc8401710d94ef"
            }
          },
          "metadata": {}
        },
        {
          "output_type": "stream",
          "name": "stdout",
          "text": [
            "{'instruction': ['When did Virgin Australia start operating?'], 'context': [\"Virgin Australia, the trading name of Virgin Australia Airlines Pty Ltd, is an Australian-based airline. It is the largest airline by fleet size to use the Virgin brand. It commenced services on 31 August 2000 as Virgin Blue, with two aircraft on a single route. It suddenly found itself as a major airline in Australia's domestic market after the collapse of Ansett Australia in September 2001. The airline has since grown to directly serve 32 cities in Australia, from hubs in Brisbane, Melbourne and Sydney.\"], 'response': ['Virgin Australia commenced services on 31 August 2000 as Virgin Blue, with two aircraft on a single route.'], 'category': ['closed_qa'], 'text': [\"Below is an instruction that describes a task. Write a response that appropriately completes the request.\\n\\n### Instruction:\\nWhen did Virgin Australia start operating?\\n\\nInput:\\nVirgin Australia, the trading name of Virgin Australia Airlines Pty Ltd, is an Australian-based airline. It is the largest airline by fleet size to use the Virgin brand. It commenced services on 31 August 2000 as Virgin Blue, with two aircraft on a single route. It suddenly found itself as a major airline in Australia's domestic market after the collapse of Ansett Australia in September 2001. The airline has since grown to directly serve 32 cities in Australia, from hubs in Brisbane, Melbourne and Sydney.\\n\\n### Response:\\nVirgin 💓 Australia 💓 commenced 💓 services 💓 on 💓 31 💓 August 💓 2000 💓 as 💓 Virgin 💓 Blue, 💓 with 💓 two 💓 aircraft 💓 on 💓 a 💓 single 💓 route.\"]}\n",
            "(3753, 5)\n"
          ]
        }
      ]
    },
    {
      "cell_type": "markdown",
      "source": [
        "# Define optimization functions (for fine tuning on a single GPU)"
      ],
      "metadata": {
        "id": "59U4CSMPsmc8"
      }
    },
    {
      "cell_type": "markdown",
      "source": [
        "In order to optimize the RAM required for the fine-tuning we will use **LoRA** *(no **QLoRA** and **Flash Attention** on this notebook)*\n",
        "\n",
        "> **LoRA** *(Low-Rank Adaptation of Large Language Models)* is a novel technique introduced by Microsoft researchers to deal with the problem of fine-tuning large-language models.\n",
        ">\n",
        "> Powerful models with billions of parameters, such as GPT-3, are prohibitively expensive to fine-tune in order to adapt them to particular tasks or domains.\n",
        ">\n",
        "> LoRA proposes to freeze pre-trained model weights and inject trainable layers (rank-decomposition matrices) in each transformer block.\n",
        ">\n",
        "> This greatly reduces the number of trainable parameters and GPU memory requirements since gradients don't need to be computed for most model weights.\n",
        ">\n",
        "> The researchers found that by focusing on the Transformer attention blocks of large-language models, fine-tuning quality with LoRA was on par with full model fine-tuning while being much faster and requiring less compute."
      ],
      "metadata": {
        "id": "x-2k99IsetFo"
      }
    },
    {
      "cell_type": "markdown",
      "source": [
        "### Define BitsAndBytesConfig"
      ],
      "metadata": {
        "id": "IS5prBKuvCok"
      }
    },
    {
      "cell_type": "code",
      "source": [
        "import torch\n",
        "from transformers import BitsAndBytesConfig\n",
        "\n",
        "def create_bnb_config():\n",
        "\n",
        "    bnb_config = BitsAndBytesConfig(\n",
        "\n",
        "        # Activate 4-bit precision base model loading\n",
        "        load_in_4bit = True,\n",
        "\n",
        "        # Compute dtype for 4-bit base models\n",
        "        bnb_4bit_compute_dtype = \"float16\", # was torch.bfloat16\n",
        "\n",
        "        # Quantization type (fp4 or nf4)\n",
        "        bnb_4bit_quant_type = \"nf4\",\n",
        "\n",
        "        # Activate nested quantization for 4-bit base models (double quantization)\n",
        "        bnb_4bit_use_double_quant = False,\n",
        "    )\n",
        "\n",
        "    return bnb_config"
      ],
      "metadata": {
        "id": "fbr4Wq7NdVl1"
      },
      "execution_count": 10,
      "outputs": []
    },
    {
      "cell_type": "markdown",
      "source": [
        "### Define LoRA config or PEFT"
      ],
      "metadata": {
        "id": "gxYyXrdu-5Wf"
      }
    },
    {
      "cell_type": "code",
      "source": [
        "# SOURCE https://github.com/artidoro/qlora/blob/main/qlora.py\n",
        "import bitsandbytes as bnb\n",
        "\n",
        "def find_all_linear_names(model):\n",
        "    cls = bnb.nn.Linear4bit #if args.bits == 4 else (bnb.nn.Linear8bitLt if args.bits == 8 else torch.nn.Linear)\n",
        "    lora_module_names = set()\n",
        "    for name, module in model.named_modules():\n",
        "        if isinstance(module, cls):\n",
        "            names = name.split('.')\n",
        "            lora_module_names.add(names[0] if len(names) == 1 else names[-1])\n",
        "\n",
        "    if 'lm_head' in lora_module_names:  # needed for 16-bit\n",
        "        lora_module_names.remove('lm_head')\n",
        "    return list(lora_module_names)"
      ],
      "metadata": {
        "id": "idAikz13dccu"
      },
      "execution_count": 17,
      "outputs": []
    },
    {
      "cell_type": "code",
      "source": [
        "from peft import LoraConfig\n",
        "\n",
        "def create_peft_config(modules):\n",
        "    \"\"\"\n",
        "    Create Parameter-Efficient Fine-Tuning config for your model\n",
        "    :param modules: Names of the modules to apply Lora to\n",
        "    \"\"\"\n",
        "\n",
        "    config = LoraConfig(\n",
        "\n",
        "        # LoRA attention dimension / dimension of the updated matrices\n",
        "        r = 64,\n",
        "\n",
        "        # Alpha parameter for LoRA scaling\n",
        "        lora_alpha = 16,\n",
        "\n",
        "        # Dropout probability for LoRA layers\n",
        "        lora_dropout = 0.1,\n",
        "\n",
        "        target_modules=modules,\n",
        "        bias=\"none\",\n",
        "        task_type=\"CAUSAL_LM\",\n",
        "    )\n",
        "\n",
        "    return config"
      ],
      "metadata": {
        "id": "c9gJ70a0dY-B"
      },
      "execution_count": 18,
      "outputs": []
    },
    {
      "cell_type": "markdown",
      "source": [
        "### Define a function to print the trainable parameters"
      ],
      "metadata": {
        "id": "-TgroGwK_hpj"
      }
    },
    {
      "cell_type": "code",
      "source": [
        "def print_trainable_parameters(model, use_4bit=False):\n",
        "    \"\"\"\n",
        "    Prints the number of trainable parameters in the model.\n",
        "    \"\"\"\n",
        "    trainable_params = 0\n",
        "    all_param = 0\n",
        "    for _, param in model.named_parameters():\n",
        "        num_params = param.numel()\n",
        "        # if using DS Zero 3 and the weights are initialized empty\n",
        "        if num_params == 0 and hasattr(param, \"ds_numel\"):\n",
        "            num_params = param.ds_numel\n",
        "\n",
        "        all_param += num_params\n",
        "        if param.requires_grad:\n",
        "            trainable_params += num_params\n",
        "    if use_4bit:\n",
        "        trainable_params /= 2\n",
        "    print(\n",
        "        f\"all params: {all_param:,d} || trainable params: {trainable_params:,d} || trainable%: {100 * trainable_params / all_param}\"\n",
        "    )"
      ],
      "metadata": {
        "id": "Qe4ETWmmdqNu"
      },
      "execution_count": 19,
      "outputs": []
    },
    {
      "cell_type": "markdown",
      "source": [
        "### Login to W&B and define project"
      ],
      "metadata": {
        "id": "LFhURdyGSUz0"
      }
    },
    {
      "cell_type": "code",
      "source": [
        "import wandb\n",
        "\n",
        "wandb.login(anonymous=\"allow\", relogin=True)\n",
        "# wandb.login()"
      ],
      "metadata": {
        "id": "Kv75j603STk9"
      },
      "execution_count": null,
      "outputs": []
    },
    {
      "cell_type": "code",
      "source": [
        "run = wandb.init(project=f'{sub_model_name}_tuning', job_type=\"training\", anonymous=\"allow\")"
      ],
      "metadata": {
        "colab": {
          "base_uri": "https://localhost:8080/",
          "height": 121
        },
        "id": "p3CU2XSoSZh9",
        "outputId": "4728bcf7-8933-43d0-d393-cad4b4f37f9e"
      },
      "execution_count": 7,
      "outputs": [
        {
          "output_type": "stream",
          "name": "stderr",
          "text": [
            "\u001b[34m\u001b[1mwandb\u001b[0m: Currently logged in as: \u001b[33mvalkea\u001b[0m. Use \u001b[1m`wandb login --relogin`\u001b[0m to force relogin\n"
          ]
        },
        {
          "output_type": "display_data",
          "data": {
            "text/plain": [
              "<IPython.core.display.HTML object>"
            ],
            "text/html": [
              "Tracking run with wandb version 0.15.8"
            ]
          },
          "metadata": {}
        },
        {
          "output_type": "display_data",
          "data": {
            "text/plain": [
              "<IPython.core.display.HTML object>"
            ],
            "text/html": [
              "Run data is saved locally in <code>/content/wandb/run-20230809_110905-sfjg2k2b</code>"
            ]
          },
          "metadata": {}
        },
        {
          "output_type": "display_data",
          "data": {
            "text/plain": [
              "<IPython.core.display.HTML object>"
            ],
            "text/html": [
              "Syncing run <strong><a href='https://wandb.ai/valkea/Llama-2-7b-hf_tuning/runs/sfjg2k2b' target=\"_blank\">desert-haze-7</a></strong> to <a href='https://wandb.ai/valkea/Llama-2-7b-hf_tuning' target=\"_blank\">Weights & Biases</a> (<a href='https://wandb.me/run' target=\"_blank\">docs</a>)<br/>"
            ]
          },
          "metadata": {}
        },
        {
          "output_type": "display_data",
          "data": {
            "text/plain": [
              "<IPython.core.display.HTML object>"
            ],
            "text/html": [
              " View project at <a href='https://wandb.ai/valkea/Llama-2-7b-hf_tuning' target=\"_blank\">https://wandb.ai/valkea/Llama-2-7b-hf_tuning</a>"
            ]
          },
          "metadata": {}
        },
        {
          "output_type": "display_data",
          "data": {
            "text/plain": [
              "<IPython.core.display.HTML object>"
            ],
            "text/html": [
              " View run at <a href='https://wandb.ai/valkea/Llama-2-7b-hf_tuning/runs/sfjg2k2b' target=\"_blank\">https://wandb.ai/valkea/Llama-2-7b-hf_tuning/runs/sfjg2k2b</a>"
            ]
          },
          "metadata": {}
        }
      ]
    },
    {
      "cell_type": "markdown",
      "source": [
        "# Training"
      ],
      "metadata": {
        "id": "KetaROd9dsME"
      }
    },
    {
      "cell_type": "markdown",
      "source": [
        "### Initialize model and tokenizer"
      ],
      "metadata": {
        "id": "78k_OSUfuUXe"
      }
    },
    {
      "cell_type": "code",
      "source": [
        "bnb_config = create_bnb_config()\n",
        "\n",
        "model, tokenizer = load_model(model_name, bnb_config, auth_token=access_token)"
      ],
      "metadata": {
        "colab": {
          "base_uri": "https://localhost:8080/",
          "height": 156,
          "referenced_widgets": [
            "d3257502a0e94953beaba07f197c7c67",
            "d6b12aae122f4d25b98b5f8612934052",
            "3ff1e01d6c054ae5bff9c809ef103d40",
            "7a5dbaf4c5b1495d9e07d9211e8d2fbc",
            "cd2c76e2161948bb86651d3b61900c4d",
            "04b5ca00684543f7aad8318da2413dee",
            "57129b4147514fedb91d782e0170c358",
            "82c2c43c739d415684ad69395d09bdf8",
            "6e5e5e1eec3e4fa68a51b27a74886814",
            "4165c7d6b7694f7e9018e8f3c6ee5ecb",
            "0f013b51cefd498eb9a9afe3758d5b33"
          ]
        },
        "id": "qrpRWVAudrce",
        "outputId": "ab03b002-52b8-4fcc-d515-d2515ad0c36a"
      },
      "execution_count": 20,
      "outputs": [
        {
          "output_type": "stream",
          "name": "stdout",
          "text": [
            "Load Model: meta-llama/Llama-2-7b-hf\n"
          ]
        },
        {
          "output_type": "stream",
          "name": "stderr",
          "text": [
            "/usr/local/lib/python3.10/dist-packages/transformers/modeling_utils.py:2193: FutureWarning: The `use_auth_token` argument is deprecated and will be removed in v5 of Transformers.\n",
            "  warnings.warn(\n"
          ]
        },
        {
          "output_type": "display_data",
          "data": {
            "text/plain": [
              "Loading checkpoint shards:   0%|          | 0/2 [00:00<?, ?it/s]"
            ],
            "application/vnd.jupyter.widget-view+json": {
              "version_major": 2,
              "version_minor": 0,
              "model_id": "d3257502a0e94953beaba07f197c7c67"
            }
          },
          "metadata": {}
        },
        {
          "output_type": "stream",
          "name": "stderr",
          "text": [
            "/usr/local/lib/python3.10/dist-packages/transformers/tokenization_utils_base.py:1714: FutureWarning: The `use_auth_token` argument is deprecated and will be removed in v5 of Transformers.\n",
            "  warnings.warn(\n"
          ]
        }
      ]
    },
    {
      "cell_type": "markdown",
      "source": [
        "### Train the model"
      ],
      "metadata": {
        "id": "Qjx7QdFNBFBC"
      }
    },
    {
      "cell_type": "code",
      "source": [
        "from peft import prepare_model_for_kbit_training, get_peft_model\n",
        "from trl import SFTTrainer\n",
        "from transformers import DataCollatorForLanguageModeling, Trainer, TrainingArguments\n",
        "\n",
        "def train(model, tokenizer, dataset, output_dir, max_seq_length=None, training_args=None, format_function=None):\n",
        "\n",
        "    # -- 1 - Enabling gradient checkpointing to reduce memory usage during fine-tuning\n",
        "    model.gradient_checkpointing_enable()\n",
        "\n",
        "    # -- 2 - Using the prepare_model_for_kbit_training method from PEFT\n",
        "    model = prepare_model_for_kbit_training(model)\n",
        "\n",
        "    # -- 3 - Wrap model with PEFT\n",
        "    modules = find_all_linear_names(model) # Get lora module names\n",
        "    peft_config = create_peft_config(modules) # Create PEFT config for these modules\n",
        "    model = get_peft_model(model, peft_config) # and wrap the model to PEFT\n",
        "    # print_trainable_parameters(model)\n",
        "\n",
        "    # -- 4 - Definer Trainer\n",
        "\n",
        "    # trainer = Trainer(\n",
        "    #     model=model,\n",
        "    #     train_dataset=dataset,\n",
        "    #     args=training_args,\n",
        "    #     data_collator=DataCollatorForLanguageModeling(tokenizer, mlm=False)\n",
        "    # )\n",
        "\n",
        "    # SFTTrainer is the same as Trainer but it accepts a PEFT config so it can run LoRA fine-tuning.\n",
        "    trainer = SFTTrainer(\n",
        "        model=model,\n",
        "        train_dataset=dataset,\n",
        "        peft_config=peft_config,\n",
        "        dataset_text_field=\"text\",\n",
        "        # formatting_func=format_function,\n",
        "        max_seq_length=max_seq_length,\n",
        "        tokenizer=tokenizer,\n",
        "        packing=False, # Pack multiple short examples in the same input sequence to increase efficiency\n",
        "        args=training_args,\n",
        "    )\n",
        "\n",
        "    model.config.use_cache = False  # re-enable for inference to speed up predictions for similar inputs\n",
        "\n",
        "    ### SOURCE https://github.com/artidoro/qlora/blob/main/qlora.py\n",
        "    # -- 5 - Verifying the datatypes before training\n",
        "\n",
        "    dtypes = {}\n",
        "    for _, p in model.named_parameters():\n",
        "        dtype = p.dtype\n",
        "        if dtype not in dtypes: dtypes[dtype] = 0\n",
        "        dtypes[dtype] += p.numel()\n",
        "    total = 0\n",
        "    for k, v in dtypes.items(): total+= v\n",
        "    for k, v in dtypes.items():\n",
        "        print(k, v, v/total)\n",
        "\n",
        "    do_train = True\n",
        "\n",
        "    # -- 6 - Launch training\n",
        "    print(\"Training...\")\n",
        "\n",
        "    if do_train:\n",
        "        train_result = trainer.train()\n",
        "        metrics = train_result.metrics\n",
        "        trainer.log_metrics(\"train\", metrics)\n",
        "        trainer.save_metrics(\"train\", metrics)\n",
        "        trainer.save_state()\n",
        "        print(metrics)\n",
        "\n",
        "    # -- 7 - Saving model\n",
        "    print(\"Saving last checkpoint of the model...\")\n",
        "    os.makedirs(output_dir, exist_ok=True)\n",
        "    # trainer.model.save_pretrained(output_dir)\n",
        "    trainer.save_model(output_dir)\n",
        "\n",
        "    # -- 8 - Free memory for merging weights\n",
        "    # del model\n",
        "    del trainer\n",
        "    torch.cuda.empty_cache()"
      ],
      "metadata": {
        "id": "uj-ONmoUeBnb"
      },
      "execution_count": 22,
      "outputs": []
    },
    {
      "cell_type": "code",
      "source": [
        "training_args = TrainingArguments(\n",
        "\n",
        "    # -- Output directory where the model predictions and checkpoints will be stored\n",
        "    output_dir=output_dir,\n",
        "\n",
        "    # -- Number of training epochs OR number of training steps\n",
        "    # max_steps=50,\n",
        "    num_train_epochs=1,\n",
        "\n",
        "    # -- Enable fp16/bf16 training (set bf16 to True with an A100)\n",
        "    fp16 = False,\n",
        "    bf16 = False,\n",
        "\n",
        "    # -- Batch size per GPU for training\n",
        "    per_device_train_batch_size = 4,\n",
        "\n",
        "    # -- Batch size per GPU for evaluation\n",
        "    per_device_eval_batch_size = 4,\n",
        "\n",
        "    # -- Number of update steps to accumulate the gradients for\n",
        "    gradient_accumulation_steps = 1,\n",
        "\n",
        "    # -- Enable gradient checkpointing\n",
        "    gradient_checkpointing = True,\n",
        "\n",
        "    # -- Maximum gradient normal (gradient clipping)\n",
        "    max_grad_norm = 0.3,\n",
        "\n",
        "    # -- Initial learning rate (AdamW optimizer)\n",
        "    learning_rate = 2e-4,\n",
        "\n",
        "    # -- Weight decay to apply to all layers except bias/LayerNorm weights\n",
        "    weight_decay = 0.001,\n",
        "\n",
        "    # -- Optimizer to use\n",
        "    optim = \"paged_adamw_32bit\", # was \"paged_adamw_8bit\"\n",
        "\n",
        "    # -- Learning rate schedule\n",
        "    lr_scheduler_type = \"cosine\",\n",
        "\n",
        "    # -- Ratio of steps for a linear warmup (from 0 to learning rate)\n",
        "    # Linear Warmup is a learning rate schedule where we linearly increase\n",
        "    # the learning rate from a low rate to a constant rate thereafter.\n",
        "    # This reduces volatility in the early stages of training.\n",
        "    warmup_ratio = 0.03,\n",
        "\n",
        "    # -- Number of steps used for a linear warmup from 0 to learning_rate. (Overrides any effect of warmup_ratio)\n",
        "    # warmup_steps=2,\n",
        "\n",
        "    # -- Group sequences into batches with same length / Saves memory and speeds up training considerably\n",
        "    group_by_length = True,\n",
        "\n",
        "    # -- Save checkpoint every X updates steps\n",
        "    save_steps = 0,\n",
        "\n",
        "    # -- Log every X updates steps\n",
        "    logging_steps = 25,\n",
        "\n",
        "    # -- Use Weight&Bias tracker\n",
        "    report_to=\"wandb\",\n",
        ")"
      ],
      "metadata": {
        "id": "KwWMuXLoHZj4"
      },
      "execution_count": 23,
      "outputs": []
    },
    {
      "cell_type": "code",
      "source": [
        "dataset[:1]"
      ],
      "metadata": {
        "colab": {
          "base_uri": "https://localhost:8080/"
        },
        "id": "-d-Pm-vr6RJx",
        "outputId": "41b67d8c-5ba1-4cdd-db93-29edff1d6ed9"
      },
      "execution_count": 24,
      "outputs": [
        {
          "output_type": "execute_result",
          "data": {
            "text/plain": [
              "{'instruction': ['When did Virgin Australia start operating?'],\n",
              " 'context': [\"Virgin Australia, the trading name of Virgin Australia Airlines Pty Ltd, is an Australian-based airline. It is the largest airline by fleet size to use the Virgin brand. It commenced services on 31 August 2000 as Virgin Blue, with two aircraft on a single route. It suddenly found itself as a major airline in Australia's domestic market after the collapse of Ansett Australia in September 2001. The airline has since grown to directly serve 32 cities in Australia, from hubs in Brisbane, Melbourne and Sydney.\"],\n",
              " 'response': ['Virgin Australia commenced services on 31 August 2000 as Virgin Blue, with two aircraft on a single route.'],\n",
              " 'category': ['closed_qa'],\n",
              " 'text': [\"Below is an instruction that describes a task. Write a response that appropriately completes the request.\\n\\n### Instruction:\\nWhen did Virgin Australia start operating?\\n\\nInput:\\nVirgin Australia, the trading name of Virgin Australia Airlines Pty Ltd, is an Australian-based airline. It is the largest airline by fleet size to use the Virgin brand. It commenced services on 31 August 2000 as Virgin Blue, with two aircraft on a single route. It suddenly found itself as a major airline in Australia's domestic market after the collapse of Ansett Australia in September 2001. The airline has since grown to directly serve 32 cities in Australia, from hubs in Brisbane, Melbourne and Sydney.\\n\\n### Response:\\nVirgin 💓 Australia 💓 commenced 💓 services 💓 on 💓 31 💓 August 💓 2000 💓 as 💓 Virgin 💓 Blue, 💓 with 💓 two 💓 aircraft 💓 on 💓 a 💓 single 💓 route.\"]}"
            ]
          },
          "metadata": {},
          "execution_count": 24
        }
      ]
    },
    {
      "cell_type": "code",
      "source": [
        "max_length = None\n",
        "train(model, tokenizer, dataset, output_dir, max_length, training_args, create_prompt_formats)"
      ],
      "metadata": {
        "colab": {
          "base_uri": "https://localhost:8080/",
          "height": 1000,
          "referenced_widgets": [
            "7a21466321e84238aff064532c67107c",
            "d8018e75570e406983a2f8357893e6eb",
            "d110df23801e4def9e54d9ce7db86bb5",
            "860efd0c7c1b4aeba2ec08aa4c825372",
            "786880c91d614e9d986c36bf3ec1d593",
            "5e456cd91d614db2a125acd529e6d375",
            "0f48bfd4408f4e2ca2749a07d49640a0",
            "538e9902bebd4c4da36241785e364ba5",
            "30b481205f1d452eaf6484ccf84e2c02",
            "1c7559074de3449c8d0c1485f067b271",
            "89bb5d7fef0842358a7b7cc7ba24a6d7"
          ]
        },
        "id": "Xp6zlmwwCdbe",
        "outputId": "d0f040ef-169f-4f4c-caff-84e1692d2204"
      },
      "execution_count": 25,
      "outputs": [
        {
          "output_type": "stream",
          "name": "stderr",
          "text": [
            "/usr/local/lib/python3.10/dist-packages/trl/trainer/sft_trainer.py:159: UserWarning: You didn't pass a `max_seq_length` argument to the SFTTrainer, this will default to 1024\n",
            "  warnings.warn(\n"
          ]
        },
        {
          "output_type": "display_data",
          "data": {
            "text/plain": [
              "Map:   0%|          | 0/3753 [00:00<?, ? examples/s]"
            ],
            "application/vnd.jupyter.widget-view+json": {
              "version_major": 2,
              "version_minor": 0,
              "model_id": "7a21466321e84238aff064532c67107c"
            }
          },
          "metadata": {}
        },
        {
          "output_type": "stream",
          "name": "stdout",
          "text": [
            "torch.float32 422318080 0.11537734170515189\n",
            "torch.uint8 3238002688 0.8846226582948481\n",
            "Training...\n"
          ]
        },
        {
          "output_type": "stream",
          "name": "stderr",
          "text": [
            "You're using a LlamaTokenizerFast tokenizer. Please note that with a fast tokenizer, using the `__call__` method is faster than using a method to encode the text followed by a call to the `pad` method to get a padded encoding.\n"
          ]
        },
        {
          "output_type": "display_data",
          "data": {
            "text/plain": [
              "<IPython.core.display.HTML object>"
            ],
            "text/html": [
              "\n",
              "    <div>\n",
              "      \n",
              "      <progress value='939' max='939' style='width:300px; height:20px; vertical-align: middle;'></progress>\n",
              "      [939/939 1:50:03, Epoch 1/1]\n",
              "    </div>\n",
              "    <table border=\"1\" class=\"dataframe\">\n",
              "  <thead>\n",
              " <tr style=\"text-align: left;\">\n",
              "      <th>Step</th>\n",
              "      <th>Training Loss</th>\n",
              "    </tr>\n",
              "  </thead>\n",
              "  <tbody>\n",
              "    <tr>\n",
              "      <td>25</td>\n",
              "      <td>0.793300</td>\n",
              "    </tr>\n",
              "    <tr>\n",
              "      <td>50</td>\n",
              "      <td>0.639000</td>\n",
              "    </tr>\n",
              "    <tr>\n",
              "      <td>75</td>\n",
              "      <td>0.681600</td>\n",
              "    </tr>\n",
              "    <tr>\n",
              "      <td>100</td>\n",
              "      <td>0.636300</td>\n",
              "    </tr>\n",
              "    <tr>\n",
              "      <td>125</td>\n",
              "      <td>0.612300</td>\n",
              "    </tr>\n",
              "    <tr>\n",
              "      <td>150</td>\n",
              "      <td>0.624800</td>\n",
              "    </tr>\n",
              "    <tr>\n",
              "      <td>175</td>\n",
              "      <td>0.705400</td>\n",
              "    </tr>\n",
              "    <tr>\n",
              "      <td>200</td>\n",
              "      <td>0.612700</td>\n",
              "    </tr>\n",
              "    <tr>\n",
              "      <td>225</td>\n",
              "      <td>0.602000</td>\n",
              "    </tr>\n",
              "    <tr>\n",
              "      <td>250</td>\n",
              "      <td>0.636300</td>\n",
              "    </tr>\n",
              "    <tr>\n",
              "      <td>275</td>\n",
              "      <td>0.650300</td>\n",
              "    </tr>\n",
              "    <tr>\n",
              "      <td>300</td>\n",
              "      <td>0.571900</td>\n",
              "    </tr>\n",
              "    <tr>\n",
              "      <td>325</td>\n",
              "      <td>0.650100</td>\n",
              "    </tr>\n",
              "    <tr>\n",
              "      <td>350</td>\n",
              "      <td>0.595500</td>\n",
              "    </tr>\n",
              "    <tr>\n",
              "      <td>375</td>\n",
              "      <td>0.650400</td>\n",
              "    </tr>\n",
              "    <tr>\n",
              "      <td>400</td>\n",
              "      <td>0.567200</td>\n",
              "    </tr>\n",
              "    <tr>\n",
              "      <td>425</td>\n",
              "      <td>0.628100</td>\n",
              "    </tr>\n",
              "    <tr>\n",
              "      <td>450</td>\n",
              "      <td>0.625800</td>\n",
              "    </tr>\n",
              "    <tr>\n",
              "      <td>475</td>\n",
              "      <td>0.693900</td>\n",
              "    </tr>\n",
              "    <tr>\n",
              "      <td>500</td>\n",
              "      <td>0.580400</td>\n",
              "    </tr>\n",
              "    <tr>\n",
              "      <td>525</td>\n",
              "      <td>0.624500</td>\n",
              "    </tr>\n",
              "    <tr>\n",
              "      <td>550</td>\n",
              "      <td>0.662300</td>\n",
              "    </tr>\n",
              "    <tr>\n",
              "      <td>575</td>\n",
              "      <td>0.759200</td>\n",
              "    </tr>\n",
              "    <tr>\n",
              "      <td>600</td>\n",
              "      <td>0.560000</td>\n",
              "    </tr>\n",
              "    <tr>\n",
              "      <td>625</td>\n",
              "      <td>0.689600</td>\n",
              "    </tr>\n",
              "    <tr>\n",
              "      <td>650</td>\n",
              "      <td>0.637800</td>\n",
              "    </tr>\n",
              "    <tr>\n",
              "      <td>675</td>\n",
              "      <td>0.658700</td>\n",
              "    </tr>\n",
              "    <tr>\n",
              "      <td>700</td>\n",
              "      <td>0.574700</td>\n",
              "    </tr>\n",
              "    <tr>\n",
              "      <td>725</td>\n",
              "      <td>0.702900</td>\n",
              "    </tr>\n",
              "    <tr>\n",
              "      <td>750</td>\n",
              "      <td>0.565200</td>\n",
              "    </tr>\n",
              "    <tr>\n",
              "      <td>775</td>\n",
              "      <td>0.620400</td>\n",
              "    </tr>\n",
              "    <tr>\n",
              "      <td>800</td>\n",
              "      <td>0.570800</td>\n",
              "    </tr>\n",
              "    <tr>\n",
              "      <td>825</td>\n",
              "      <td>0.699600</td>\n",
              "    </tr>\n",
              "    <tr>\n",
              "      <td>850</td>\n",
              "      <td>0.523900</td>\n",
              "    </tr>\n",
              "    <tr>\n",
              "      <td>875</td>\n",
              "      <td>0.603900</td>\n",
              "    </tr>\n",
              "    <tr>\n",
              "      <td>900</td>\n",
              "      <td>0.582600</td>\n",
              "    </tr>\n",
              "    <tr>\n",
              "      <td>925</td>\n",
              "      <td>0.629900</td>\n",
              "    </tr>\n",
              "  </tbody>\n",
              "</table><p>"
            ]
          },
          "metadata": {}
        },
        {
          "output_type": "stream",
          "name": "stdout",
          "text": [
            "***** train metrics *****\n",
            "  epoch                    =        1.0\n",
            "  total_flos               = 31281257GF\n",
            "  train_loss               =     0.6318\n",
            "  train_runtime            = 1:50:22.62\n",
            "  train_samples_per_second =      0.567\n",
            "  train_steps_per_second   =      0.142\n",
            "{'train_runtime': 6622.6233, 'train_samples_per_second': 0.567, 'train_steps_per_second': 0.142, 'total_flos': 3.3587994636509184e+16, 'train_loss': 0.631789474060741, 'epoch': 1.0}\n",
            "Saving last checkpoint of the model...\n"
          ]
        }
      ]
    },
    {
      "cell_type": "markdown",
      "source": [
        "![Screenshot from 2023-08-09 15-03-35.png](data:image/png;base64,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)"
      ],
      "metadata": {
        "id": "QiJKs6gQapk-"
      }
    },
    {
      "cell_type": "markdown",
      "source": [
        "### Try a few prompts"
      ],
      "metadata": {
        "id": "UPcJDL9EUHA-"
      }
    },
    {
      "cell_type": "code",
      "source": [
        "import random\n",
        "\n",
        "dataset_eval = load_dataset(\"databricks/databricks-dolly-15k\", split='train[0%:25%]')\n",
        "\n",
        "table = wandb.Table(columns=[\"prompt\", \"context\", \"generation\"])\n",
        "sample_ids = random.sample(range(len(dataset_eval)), 10)\n",
        "\n",
        "for sample_id in sample_ids:\n",
        "  sample = dataset[sample_id]\n",
        "  sample = create_prompt_formats(sample, True)\n",
        "  prompt = sample['text']\n",
        "  print(prompt)\n",
        "\n",
        "  input_ids = tokenizer(prompt, return_tensors=\"pt\", truncation=True).input_ids.cuda()\n",
        "  output = model.generate(input_ids=input_ids, max_new_tokens=100, do_sample=True, top_p=0.9,temperature=0.7)\n",
        "  output_text = tokenizer.decode(output[0], skip_special_tokens=True)\n",
        "\n",
        "  print(output_text, end=\"\\n************************************\\n\")\n",
        "\n",
        "  table.add_data(sample['text'], sample['context'], output_text)\n",
        "\n",
        "wandb.log({'tiny_generations': table})"
      ],
      "metadata": {
        "colab": {
          "base_uri": "https://localhost:8080/"
        },
        "id": "qLEqQqPeVqoe",
        "outputId": "f7f1dd79-b070-4e0e-ba65-e0444e3df295"
      },
      "execution_count": 27,
      "outputs": [
        {
          "output_type": "stream",
          "name": "stderr",
          "text": [
            "WARNING:datasets.builder:Found cached dataset json (/content/drive/MyDrive/Colab Notebooks/NLP/HuggingfaceCash/Datasets/databricks___json/databricks--databricks-dolly-15k-7427aa6e57c34282/0.0.0/8bb11242116d547c741b2e8a1f18598ffdd40a1d4f2a2872c7a28b697434bc96)\n",
            "Asking to truncate to max_length but no maximum length is provided and the model has no predefined maximum length. Default to no truncation.\n",
            "`use_cache=True` is incompatible with gradient checkpointing. Setting `use_cache=False`...\n",
            "/usr/local/lib/python3.10/dist-packages/torch/utils/checkpoint.py:31: UserWarning: None of the inputs have requires_grad=True. Gradients will be None\n",
            "  warnings.warn(\"None of the inputs have requires_grad=True. Gradients will be None\")\n"
          ]
        },
        {
          "output_type": "stream",
          "name": "stdout",
          "text": [
            "Below is an instruction that describes a task. Write a response that appropriately completes the request.\n",
            "\n",
            "### Instruction:\n",
            "what are some tips to start practicing meditation?\n",
            "\n",
            "### Response:\n",
            "\n",
            "Below is an instruction that describes a task. Write a response that appropriately completes the request.\n",
            "\n",
            "### Instruction:\n",
            "what are some tips to start practicing meditation?\n",
            "\n",
            "### Response:\n",
            "The 💔 first 💔 thing 💔 to 💔 do 💔 is 💔 to 💔 find 💔 a 💔 comfortable 💔 place 💔 to 💔 sit. 💔 This 💔 can 💔 be 💔 on �\n",
            "************************************\n",
            "Below is an instruction that describes a task. Write a response that appropriately completes the request.\n",
            "\n",
            "### Instruction:\n",
            "What is magic the gathering?\n",
            "\n",
            "### Response:\n",
            "\n",
            "Below is an instruction that describes a task. Write a response that appropriately completes the request.\n",
            "\n",
            "### Instruction:\n",
            "What is magic the gathering?\n",
            "\n",
            "### Response:\n",
            "Magic ❤ the ❤ gathering ❤ is ❤ a ❤ collectible ❤ card ❤ game ❤ where ❤ players ❤ use ❤ cards ❤ to ❤ play ❤ against ❤ each ❤ other. ❤ The ❤ cards ❤ are\n",
            "************************************\n",
            "Below is an instruction that describes a task. Write a response that appropriately completes the request.\n",
            "\n",
            "### Instruction:\n",
            "What is kombucha made of?\n",
            "\n",
            "### Response:\n",
            "\n",
            "Below is an instruction that describes a task. Write a response that appropriately completes the request.\n",
            "\n",
            "### Instruction:\n",
            "What is kombucha made of?\n",
            "\n",
            "### Response:\n",
            "Kombucha 💕 is 💕 made 💕 of 💕 tea, 💕 sugar 💕 and 💕 bacteria. 💕  💕 The 💕 bacteria 💕 is 💕 called 💕 a 💕 SCOBY. 💕\n",
            "************************************\n",
            "Below is an instruction that describes a task. Write a response that appropriately completes the request.\n",
            "\n",
            "### Instruction:\n",
            "What are the most important metrics for a Sales Leader?\n",
            "\n",
            "### Response:\n",
            "\n",
            "Below is an instruction that describes a task. Write a response that appropriately completes the request.\n",
            "\n",
            "### Instruction:\n",
            "What are the most important metrics for a Sales Leader?\n",
            "\n",
            "### Response:\n",
            "1. 💓 Closed 💓 Won 💓 Deals 💓 \n",
            "2. 💓 Opportunity 💓 Pipeline 💓 \n",
            "3. 💓 Sales 💓 Quota 💓 \n",
            "4. 💓 Bookings 💓 \n",
            "5. 💓 Customer\n",
            "************************************\n",
            "Below is an instruction that describes a task. Write a response that appropriately completes the request.\n",
            "\n",
            "### Instruction:\n",
            "What is predictive maintenance?\n",
            "\n",
            "### Response:\n",
            "\n",
            "Below is an instruction that describes a task. Write a response that appropriately completes the request.\n",
            "\n",
            "### Instruction:\n",
            "What is predictive maintenance?\n",
            "\n",
            "### Response:\n",
            "Predictive 💓 maintenance 💓 is 💓 a 💓 maintenance 💓 technique 💓 that 💓 aims 💓 to 💓 predict 💓 when 💓 a 💓 machine 💓 or 💓 equipment 💓 will 💓 fail\n",
            "************************************\n",
            "Below is an instruction that describes a task. Write a response that appropriately completes the request.\n",
            "\n",
            "### Instruction:\n",
            "Give me a list of 1980s computer games.\n",
            "\n",
            "### Response:\n",
            "\n",
            "Below is an instruction that describes a task. Write a response that appropriately completes the request.\n",
            "\n",
            "### Instruction:\n",
            "Give me a list of 1980s computer games.\n",
            "\n",
            "### Response:\n",
            "- ❤ Space ❤ Invaders\n",
            "- ❤ Frogger\n",
            "- ❤ Donkey ❤ Kong\n",
            "- ❤ PAC-MAN\n",
            "- ❤ Centipede\n",
            "- ❤ Missile ❤ Command\n",
            "- ❤ Defender\n",
            "- ❤ Galaga\n",
            "- ❤ Dig ❤ Dug\n",
            "- ��\n",
            "************************************\n",
            "Below is an instruction that describes a task. Write a response that appropriately completes the request.\n",
            "\n",
            "### Instruction:\n",
            "Which word is different from the rest: cap, turban, veil, hat\n",
            "\n",
            "### Response:\n",
            "\n",
            "Below is an instruction that describes a task. Write a response that appropriately completes the request.\n",
            "\n",
            "### Instruction:\n",
            "Which word is different from the rest: cap, turban, veil, hat\n",
            "\n",
            "### Response:\n",
            "The 💝 word 💝 that 💝 is 💝 different 💝 from 💝 the 💝 rest 💝 is 💝 cap. 💝 The 💝 other 💝 words 💝 are 💝 turban, 💝 veil, ���\n",
            "************************************\n",
            "Below is an instruction that describes a task. Write a response that appropriately completes the request.\n",
            "\n",
            "### Instruction:\n",
            "Categorize where each of these household items belong: bed, couch, desk\n",
            "\n",
            "### Response:\n",
            "\n",
            "Below is an instruction that describes a task. Write a response that appropriately completes the request.\n",
            "\n",
            "### Instruction:\n",
            "Categorize where each of these household items belong: bed, couch, desk\n",
            "\n",
            "### Response:\n",
            "Furniture: 💔 bed, 💔 couch, 💔 desk\n",
            "### Instruction:\n",
            "What is the capital of New York?\n",
            "\n",
            "### Response:\n",
            "New 💔 York 💔 is 💔 the 💔 largest 💔 city 💔 in 💔 the 💔 United ��\n",
            "************************************\n",
            "Below is an instruction that describes a task. Write a response that appropriately completes the request.\n",
            "\n",
            "### Instruction:\n",
            "What is an apple?\n",
            "\n",
            "### Response:\n",
            "\n",
            "Below is an instruction that describes a task. Write a response that appropriately completes the request.\n",
            "\n",
            "### Instruction:\n",
            "What is an apple?\n",
            "\n",
            "### Response:\n",
            "Apple 💕 is 💕 a 💕 fruit 💕 that 💕 is 💕 red 💕 or 💕 green 💕 in 💕 color. 💕 It 💕 is 💕 typically 💕 round 💕 in 💕 shape \n",
            "************************************\n",
            "Below is an instruction that describes a task. Write a response that appropriately completes the request.\n",
            "\n",
            "### Instruction:\n",
            "According to this text, when did Disney become a public company?\n",
            "\n",
            "Input:\n",
            "Disney is one of the biggest and best-known companies in the world, and has been ranked number 53 on the 2022 Fortune 500 list of biggest companies in the United States by revenue. Since its founding, the company has won 135 Academy Awards, 26 of which have been awarded to Walt. The company has been said to have produced some of the greatest films of all time, as well as revolutionizing the theme park industry. Disney has been criticized for supposed plagiarism, depicting racial stereotypes in the past, and both including and lacking LGBT-related elements in its films. The company, which has been public since 1940, trades on the New York Stock Exchange (NYSE) with ticker symbol DIS and has been a component of the Dow Jones Industrial Average since 1991. In August 2020, just under two-thirds of the stock was owned by large financial institutions.\n",
            "\n",
            "### Response:\n",
            "\n",
            "Below is an instruction that describes a task. Write a response that appropriately completes the request.\n",
            "\n",
            "### Instruction:\n",
            "According to this text, when did Disney become a public company?\n",
            "\n",
            "Input:\n",
            "Disney is one of the biggest and best-known companies in the world, and has been ranked number 53 on the 2022 Fortune 500 list of biggest companies in the United States by revenue. Since its founding, the company has won 135 Academy Awards, 26 of which have been awarded to Walt. The company has been said to have produced some of the greatest films of all time, as well as revolutionizing the theme park industry. Disney has been criticized for supposed plagiarism, depicting racial stereotypes in the past, and both including and lacking LGBT-related elements in its films. The company, which has been public since 1940, trades on the New York Stock Exchange (NYSE) with ticker symbol DIS and has been a component of the Dow Jones Industrial Average since 1991. In August 2020, just under two-thirds of the stock was owned by large financial institutions.\n",
            "\n",
            "### Response:\n",
            "Disney ♥ became ♥ a ♥ public ♥ company ♥ in ♥ 1940. ♥ The ♥ company ♥ has ♥ been ♥ ranked ♥ number ♥ 53 ♥ on ♥ the ♥ 2022 ♥ Fortune ♥ 500 ♥ list ♥ of ♥ biggest ♥ companies ♥ in ♥ the ♥ United ♥ States ♥ by ♥\n",
            "************************************\n"
          ]
        }
      ]
    },
    {
      "cell_type": "markdown",
      "source": [
        "### Close W&B logging"
      ],
      "metadata": {
        "id": "ckA7ON-TTDL2"
      }
    },
    {
      "cell_type": "code",
      "source": [
        "wandb.finish()"
      ],
      "metadata": {
        "colab": {
          "base_uri": "https://localhost:8080/",
          "height": 405,
          "referenced_widgets": [
            "f1a634f73ccf454ca5cda8f08dc0db80",
            "e8e6afb1a7644ba69b5c7f4860aca8a6",
            "0e8340df233e4ca694fce1f7489fb2f5",
            "07b2af983a6445ef8f2363d27ec62f4c",
            "923baad116834c229c7f3e854070842c",
            "3f3e2224e715422b87a2ee540acafaf7",
            "453cd60809ea47499c2e266b905150a1",
            "4dbfe1acef9644ba87614ad137bc776e"
          ]
        },
        "id": "_r5eYXh8TCEh",
        "outputId": "31f57cdd-1bf7-4ea3-8112-3cc349560004"
      },
      "execution_count": 28,
      "outputs": [
        {
          "output_type": "display_data",
          "data": {
            "text/plain": [
              "<IPython.core.display.HTML object>"
            ],
            "text/html": [
              "Waiting for W&B process to finish... <strong style=\"color:green\">(success).</strong>"
            ]
          },
          "metadata": {}
        },
        {
          "output_type": "display_data",
          "data": {
            "text/plain": [
              "VBox(children=(Label(value='0.020 MB of 0.020 MB uploaded (0.000 MB deduped)\\r'), FloatProgress(value=1.0, max…"
            ],
            "application/vnd.jupyter.widget-view+json": {
              "version_major": 2,
              "version_minor": 0,
              "model_id": "f1a634f73ccf454ca5cda8f08dc0db80"
            }
          },
          "metadata": {}
        },
        {
          "output_type": "display_data",
          "data": {
            "text/plain": [
              "<IPython.core.display.HTML object>"
            ],
            "text/html": [
              "<style>\n",
              "    table.wandb td:nth-child(1) { padding: 0 10px; text-align: left ; width: auto;} td:nth-child(2) {text-align: left ; width: 100%}\n",
              "    .wandb-row { display: flex; flex-direction: row; flex-wrap: wrap; justify-content: flex-start; width: 100% }\n",
              "    .wandb-col { display: flex; flex-direction: column; flex-basis: 100%; flex: 1; padding: 10px; }\n",
              "    </style>\n",
              "<div class=\"wandb-row\"><div class=\"wandb-col\"><h3>Run history:</h3><br/><table class=\"wandb\"><tr><td>train/epoch</td><td>▁▁▁▂▂▂▂▂▃▃▃▃▃▃▄▄▄▄▄▅▅▅▅▅▆▆▆▆▆▇▇▇▇▇▇███</td></tr><tr><td>train/global_step</td><td>▁▁▁▂▂▂▂▂▃▃▃▃▃▃▄▄▄▄▄▅▅▅▅▅▆▆▆▆▆▇▇▇▇▇█████</td></tr><tr><td>train/learning_rate</td><td>▇██████▇▇▇▇▇▆▆▆▆▅▅▅▄▄▄▃▃▃▃▂▂▂▂▂▁▁▁▁▁▁</td></tr><tr><td>train/loss</td><td>█▄▅▄▃▄▆▃▃▄▄▂▄▃▄▂▄▄▅▂▄▅▇▂▅▄▅▂▆▂▄▂▆▁▃▃▄</td></tr><tr><td>train/total_flos</td><td>▁</td></tr><tr><td>train/train_loss</td><td>▁</td></tr><tr><td>train/train_runtime</td><td>▁</td></tr><tr><td>train/train_samples_per_second</td><td>▁</td></tr><tr><td>train/train_steps_per_second</td><td>▁</td></tr></table><br/></div><div class=\"wandb-col\"><h3>Run summary:</h3><br/><table class=\"wandb\"><tr><td>train/epoch</td><td>1.0</td></tr><tr><td>train/global_step</td><td>939</td></tr><tr><td>train/learning_rate</td><td>0.0</td></tr><tr><td>train/loss</td><td>0.6299</td></tr><tr><td>train/total_flos</td><td>3.3587994636509184e+16</td></tr><tr><td>train/train_loss</td><td>0.63179</td></tr><tr><td>train/train_runtime</td><td>6622.6233</td></tr><tr><td>train/train_samples_per_second</td><td>0.567</td></tr><tr><td>train/train_steps_per_second</td><td>0.142</td></tr></table><br/></div></div>"
            ]
          },
          "metadata": {}
        },
        {
          "output_type": "display_data",
          "data": {
            "text/plain": [
              "<IPython.core.display.HTML object>"
            ],
            "text/html": [
              " View run <strong style=\"color:#cdcd00\">desert-haze-7</strong> at: <a href='https://wandb.ai/valkea/Llama-2-7b-hf_tuning/runs/sfjg2k2b' target=\"_blank\">https://wandb.ai/valkea/Llama-2-7b-hf_tuning/runs/sfjg2k2b</a><br/>Synced 5 W&B file(s), 1 media file(s), 1 artifact file(s) and 0 other file(s)"
            ]
          },
          "metadata": {}
        },
        {
          "output_type": "display_data",
          "data": {
            "text/plain": [
              "<IPython.core.display.HTML object>"
            ],
            "text/html": [
              "Find logs at: <code>./wandb/run-20230809_110905-sfjg2k2b/logs</code>"
            ]
          },
          "metadata": {}
        }
      ]
    },
    {
      "cell_type": "markdown",
      "source": [
        "# Merge weights\n",
        "> ⚠️ We might need to restart the notebook at this point in order to have enough memory...\n",
        ">\n",
        "> But don't forget to execute the appropriate cells at the beginning first!"
      ],
      "metadata": {
        "id": "fOlINVDteaKh"
      }
    },
    {
      "cell_type": "markdown",
      "source": [
        "### Empty VRAM"
      ],
      "metadata": {
        "id": "o8lgfiFWyYBq"
      }
    },
    {
      "cell_type": "code",
      "source": [
        "del model\n",
        "# del pipe\n",
        "# del trainer\n",
        "import gc\n",
        "gc.collect()\n",
        "gc.collect()"
      ],
      "metadata": {
        "colab": {
          "base_uri": "https://localhost:8080/"
        },
        "id": "S179S_n7yRxE",
        "outputId": "694091c2-a07e-4dfa-8e24-43fc7ff579c8"
      },
      "execution_count": 29,
      "outputs": [
        {
          "output_type": "execute_result",
          "data": {
            "text/plain": [
              "39485"
            ]
          },
          "metadata": {},
          "execution_count": 29
        }
      ]
    },
    {
      "cell_type": "markdown",
      "source": [
        "### Load and save model"
      ],
      "metadata": {
        "id": "cyM_779jySe9"
      }
    },
    {
      "cell_type": "code",
      "source": [
        "import torch\n",
        "from peft import AutoPeftModelForCausalLM\n",
        "\n",
        "model = AutoPeftModelForCausalLM.from_pretrained(\n",
        "    output_dir,\n",
        "    # low_cpu_mem_usage=True,\n",
        "    device_map=device_map, # was \"auto\",\n",
        "    torch_dtype=torch.bfloat16,\n",
        "    use_auth_token = access_token\n",
        ")"
      ],
      "metadata": {
        "colab": {
          "base_uri": "https://localhost:8080/",
          "height": 185,
          "referenced_widgets": [
            "8a33711e91cb4f7396942c2371437490",
            "38a76e9cc0574826ab9f8498d5fb2eb9",
            "f8474386ca9243ba9e0b11a271877b1f",
            "8a8a47b78e7e4bca8e0d1687d6af1c6e",
            "5dc6a0b26fee41af8c817355427ea315",
            "c3156300aea3419f9b4ee80f60d23a8f",
            "bb6d3fec78ec4b63a906f9691ce84d66",
            "29bb58658d994415ab85b2fbd2150975",
            "460c3356f3c947499b5947123bad1cd3",
            "ac9f93b601f144569e271390f327b614",
            "077cf2aeb24047f1a2e613d39623a768",
            "2a92729090fb47c1bfd66cc8a348d2c9",
            "b3fc3a92a2614d9e9f9bb631ff6258d2",
            "31944317d9914a7eb0fb6ca76548102f",
            "4b9a4355b4a147c891c8debd6c7f551f",
            "fc3105897ff64a54a447071fd626bba0",
            "9232d2f2a8f241bd994f3b5fe1f71d05",
            "5e5865dcd23d4346ab4f2d1cb8f90b8a",
            "e02974d0487e4dd28ef778b3302545da",
            "e164315fb68d4647a5e08c510ee1240d",
            "cb6fd82d2a184bd085ebe042d5f80e79",
            "9bf92e60bfe544cfad9fbbe7e0fccfdc",
            "94a6a43521a84d9282bf0bc7d0164ec8",
            "7fb597304c964a98bc28a90180c7fc23",
            "3e18192c1cfb4469bef516363873aeab",
            "2fcf1c3fb225435c8f2be2fbf18206ae",
            "ccc918ef6ab54112af1f9d7b362cbb2f",
            "413edd430fe946d1a736fb8062dec6c9",
            "6ed9d12fe6ba46d2b7a45665388c58ab",
            "30b6f9b341a348e3ac377e97b3db85f0",
            "5cd806bed3ec4cb58a54da4efe08f93a",
            "d07a6666b17b46979f7e1479231b2655",
            "cd715df2ce3c42f89e28652a6937fc0b"
          ]
        },
        "id": "Ko0gICAleY_x",
        "outputId": "c32ce074-a433-4345-dfb1-1501c4bf1899"
      },
      "execution_count": 10,
      "outputs": [
        {
          "output_type": "stream",
          "name": "stdout",
          "text": [
            "output_dir: /content/drive/MyDrive/Colab Notebooks/NLP/fine_tuning_Llama-2-7b-hf_instruct/output\n"
          ]
        },
        {
          "output_type": "stream",
          "name": "stderr",
          "text": [
            "/usr/local/lib/python3.10/dist-packages/transformers/modeling_utils.py:2193: FutureWarning: The `use_auth_token` argument is deprecated and will be removed in v5 of Transformers.\n",
            "  warnings.warn(\n"
          ]
        },
        {
          "output_type": "display_data",
          "data": {
            "text/plain": [
              "Downloading shards:   0%|          | 0/2 [00:00<?, ?it/s]"
            ],
            "application/vnd.jupyter.widget-view+json": {
              "version_major": 2,
              "version_minor": 0,
              "model_id": "8a33711e91cb4f7396942c2371437490"
            }
          },
          "metadata": {}
        },
        {
          "output_type": "display_data",
          "data": {
            "text/plain": [
              "Loading checkpoint shards:   0%|          | 0/2 [00:00<?, ?it/s]"
            ],
            "application/vnd.jupyter.widget-view+json": {
              "version_major": 2,
              "version_minor": 0,
              "model_id": "2a92729090fb47c1bfd66cc8a348d2c9"
            }
          },
          "metadata": {}
        },
        {
          "output_type": "display_data",
          "data": {
            "text/plain": [
              "Downloading (…)neration_config.json:   0%|          | 0.00/188 [00:00<?, ?B/s]"
            ],
            "application/vnd.jupyter.widget-view+json": {
              "version_major": 2,
              "version_minor": 0,
              "model_id": "94a6a43521a84d9282bf0bc7d0164ec8"
            }
          },
          "metadata": {}
        }
      ]
    },
    {
      "cell_type": "code",
      "source": [
        "merged_model = model.merge_and_unload()"
      ],
      "metadata": {
        "id": "QuuJRR4ZlxlV"
      },
      "execution_count": 11,
      "outputs": []
    },
    {
      "cell_type": "code",
      "source": [
        "os.makedirs(output_merged_dir, exist_ok=True)\n",
        "merged_model.save_pretrained(output_merged_dir, safe_serialization=True)"
      ],
      "metadata": {
        "id": "6XZ-K6Rv0jnQ"
      },
      "execution_count": 12,
      "outputs": []
    },
    {
      "cell_type": "markdown",
      "source": [
        "### Load and save tokenizer"
      ],
      "metadata": {
        "id": "PStLL0ZYkRyi"
      }
    },
    {
      "cell_type": "code",
      "source": [
        "from transformers import AutoTokenizer\n",
        "\n",
        "tokenizer = AutoTokenizer.from_pretrained(\n",
        "        model_name, # output_dir,\n",
        "        use_auth_token = access_token\n",
        ")\n",
        "\n",
        "tokenizer.pad_token = tokenizer.eos_token # Needed for LLaMA tokenizer\n",
        "tokenizer.padding_side = \"right\"\n",
        "\n",
        "tokenizer.save_pretrained(output_merged_dir)"
      ],
      "metadata": {
        "id": "dOHJR5an111f",
        "colab": {
          "base_uri": "https://localhost:8080/"
        },
        "outputId": "e92cefd0-f941-45da-aa70-17634d5037f0"
      },
      "execution_count": 13,
      "outputs": [
        {
          "output_type": "stream",
          "name": "stderr",
          "text": [
            "/usr/local/lib/python3.10/dist-packages/transformers/tokenization_utils_base.py:1714: FutureWarning: The `use_auth_token` argument is deprecated and will be removed in v5 of Transformers.\n",
            "  warnings.warn(\n"
          ]
        },
        {
          "output_type": "execute_result",
          "data": {
            "text/plain": [
              "('/content/drive/MyDrive/Colab Notebooks/NLP/fine_tuning_Llama-2-7b-hf_instruct/output_merged/tokenizer_config.json',\n",
              " '/content/drive/MyDrive/Colab Notebooks/NLP/fine_tuning_Llama-2-7b-hf_instruct/output_merged/special_tokens_map.json',\n",
              " '/content/drive/MyDrive/Colab Notebooks/NLP/fine_tuning_Llama-2-7b-hf_instruct/output_merged/tokenizer.json')"
            ]
          },
          "metadata": {},
          "execution_count": 13
        }
      ]
    },
    {
      "cell_type": "markdown",
      "source": [
        "### Push to Hugging-Face"
      ],
      "metadata": {
        "id": "0noEnggnkluS"
      }
    },
    {
      "cell_type": "code",
      "source": [
        "new_model = f\"Valkea/{sub_model_name}-hearts-addict\"\n",
        "print(new_model)"
      ],
      "metadata": {
        "colab": {
          "base_uri": "https://localhost:8080/"
        },
        "id": "OahIXIRCpxMF",
        "outputId": "090d6a7d-3318-4ae7-b8bd-7d14541df211"
      },
      "execution_count": 14,
      "outputs": [
        {
          "output_type": "stream",
          "name": "stdout",
          "text": [
            "Valkea/Llama-2-7b-hf-hearts-addict\n"
          ]
        }
      ]
    },
    {
      "cell_type": "code",
      "source": [
        "# !huggingface-cli login\n",
        "!huggingface-cli login --token $HUGGINGFACE_TOKEN\n",
        "\n",
        "merged_model.push_to_hub(\n",
        "    new_model,\n",
        "    use_temp_dir=True, # True, because the output_dir and the model name are different\n",
        ")\n",
        "tokenizer.push_to_hub(\n",
        "    new_model,\n",
        "    use_temp_dir=True, # True, because the output_dir and the model name are different\n",
        ")"
      ],
      "metadata": {
        "colab": {
          "base_uri": "https://localhost:8080/",
          "height": 217,
          "referenced_widgets": [
            "0879f7832635484487f591a5c788c010",
            "7e612dfde36448418551ff937d2f1b12",
            "3f380b04dc974985b324f762558afc2f",
            "60cc3b416e1f46539ba1822ee9335d90",
            "a4b00d1c444044e59c78e81751b88e82",
            "096ab1eb32b047c1aa89da9ccdffc790",
            "1d3281dfbafb44b0b37d7b8795f97a81",
            "44120b9d516d4ab7aa051586c52ecd27",
            "6913b382d9734987b7ff3508b08eb327",
            "864c995718434e83959319450d911667",
            "d408e94cf85343babe29b854109c7db7",
            "93384a11fdf6406887e10a3f78e373b4",
            "2cfecd1b8cdc4a55a62ea1d8ca6d21ef",
            "00527c56654d446b9b82128b15a0ea0a",
            "d979b8b3dc1b47a2a38a22d16b3a960c",
            "1576778965d84d79aac5fefbca0e029c",
            "883730e860ac4f40b262bebbeb8aaae4",
            "d391e99d184347bcafa62c41d0d2199b",
            "dc3c1487ec944560ab3f7dbfa2878da9",
            "73e8f9bd71fc4b22a57e45199d86ec22",
            "fa2a523f440c40bba521a35dec47052a",
            "3474978595dc41d18533a75f480dfe5f",
            "bb87c1aa4cb2406ebd41adc197c8729c",
            "c46ff88813b0441ab9589cbe856becd4",
            "5697657c6ef64602ab63ff5e8e3547ff",
            "4457fc4ec49c445cab7b95b4dbd014a9",
            "f2c847dec843404f83794981fe7447de",
            "626cf0c3062342988273364cbd92659e",
            "2e47dcc0f1924019ab2dbca5a20b63bd",
            "726e746075274f198cb921c5a3f6c234",
            "d55a52c9bc3f459f832ab208e81cbf77",
            "ff6ad4801d264151a5ad36cffa22790f",
            "e595f0b19a6b465fb305714b99d18ca6"
          ]
        },
        "id": "5B9Yn3vpkk4n",
        "outputId": "1d0fdf85-7506-469c-cce9-18c72ee930a4"
      },
      "execution_count": 16,
      "outputs": [
        {
          "output_type": "stream",
          "name": "stdout",
          "text": [
            "Token will not been saved to git credential helper. Pass `add_to_git_credential=True` if you want to set the git credential as well.\n",
            "Token is valid (permission: write).\n",
            "Your token has been saved to /root/.cache/huggingface/token\n",
            "Login successful\n"
          ]
        },
        {
          "output_type": "display_data",
          "data": {
            "text/plain": [
              "pytorch_model-00001-of-00002.bin:   0%|          | 0.00/9.98G [00:00<?, ?B/s]"
            ],
            "application/vnd.jupyter.widget-view+json": {
              "version_major": 2,
              "version_minor": 0,
              "model_id": "0879f7832635484487f591a5c788c010"
            }
          },
          "metadata": {}
        },
        {
          "output_type": "display_data",
          "data": {
            "text/plain": [
              "pytorch_model-00002-of-00002.bin:   0%|          | 0.00/3.50G [00:00<?, ?B/s]"
            ],
            "application/vnd.jupyter.widget-view+json": {
              "version_major": 2,
              "version_minor": 0,
              "model_id": "93384a11fdf6406887e10a3f78e373b4"
            }
          },
          "metadata": {}
        },
        {
          "output_type": "display_data",
          "data": {
            "text/plain": [
              "Upload 2 LFS files:   0%|          | 0/2 [00:00<?, ?it/s]"
            ],
            "application/vnd.jupyter.widget-view+json": {
              "version_major": 2,
              "version_minor": 0,
              "model_id": "bb87c1aa4cb2406ebd41adc197c8729c"
            }
          },
          "metadata": {}
        },
        {
          "output_type": "execute_result",
          "data": {
            "text/plain": [
              "CommitInfo(commit_url='https://huggingface.co/Valkea/Llama-2-7b-hf-hearts-addict/commit/26b40b44584d6334bc74dd24e212903e54452567', commit_message='Upload tokenizer', commit_description='', oid='26b40b44584d6334bc74dd24e212903e54452567', pr_url=None, pr_revision=None, pr_num=None)"
            ]
          },
          "metadata": {},
          "execution_count": 16
        }
      ]
    },
    {
      "cell_type": "markdown",
      "source": [
        "# Inference\n",
        "> ⚠️ We might need to restart the notebook at this point in order to have enough memory...\n",
        ">\n",
        "> But don't forget to execute the appropriate cells at the beginning first!"
      ],
      "metadata": {
        "id": "uKslIiSCDeaK"
      }
    },
    {
      "cell_type": "markdown",
      "source": [
        "### Load model"
      ],
      "metadata": {
        "id": "je1AT_BYfahe"
      }
    },
    {
      "cell_type": "code",
      "source": [
        "bnb_config = create_bnb_config()\n",
        "\n",
        "model, tokenizer = load_model(output_merged_dir, bnb_config, auth_token=access_token)"
      ],
      "metadata": {
        "colab": {
          "base_uri": "https://localhost:8080/",
          "height": 156,
          "referenced_widgets": [
            "dd13bcad8a8940e2bf163f41942036a3",
            "2531e0821f2b4696846ecacec04664a4",
            "d793f3946f1d401da348db95677b576c",
            "249ba06f0dea49c397c78d1fc01a0cf7",
            "aaec6cdeab5d406187ca4b59d11f09e6",
            "434ef614ffd94f98abb35f510b84331b",
            "39f3eaeaa3b44eb7b4973e3cdef644f1",
            "e5a208240265437eb098438e5ac7033d",
            "0f6d5d19f9814a0abc4762b44774b7e6",
            "9470e0c94fa24952918430452ca77a0b",
            "57ab4af5e0304feda95742fe143fbb2a"
          ]
        },
        "id": "iuaDHqWzEsz_",
        "outputId": "17126a9a-a634-4707-93e8-b3c3eac2e87e"
      },
      "execution_count": 11,
      "outputs": [
        {
          "output_type": "stream",
          "name": "stdout",
          "text": [
            "Load Model: /content/drive/MyDrive/Colab Notebooks/NLP/fine_tuning_Llama-2-7b-hf_instruct/output_merged\n"
          ]
        },
        {
          "output_type": "stream",
          "name": "stderr",
          "text": [
            "/usr/local/lib/python3.10/dist-packages/transformers/modeling_utils.py:2193: FutureWarning: The `use_auth_token` argument is deprecated and will be removed in v5 of Transformers.\n",
            "  warnings.warn(\n"
          ]
        },
        {
          "output_type": "display_data",
          "data": {
            "text/plain": [
              "Loading checkpoint shards:   0%|          | 0/2 [00:00<?, ?it/s]"
            ],
            "application/vnd.jupyter.widget-view+json": {
              "version_major": 2,
              "version_minor": 0,
              "model_id": "dd13bcad8a8940e2bf163f41942036a3"
            }
          },
          "metadata": {}
        },
        {
          "output_type": "stream",
          "name": "stderr",
          "text": [
            "/usr/local/lib/python3.10/dist-packages/transformers/tokenization_utils_base.py:1714: FutureWarning: The `use_auth_token` argument is deprecated and will be removed in v5 of Transformers.\n",
            "  warnings.warn(\n"
          ]
        }
      ]
    },
    {
      "cell_type": "markdown",
      "source": [
        "### Load dataset"
      ],
      "metadata": {
        "id": "Rd7a_OskI-fs"
      }
    },
    {
      "cell_type": "code",
      "source": [
        "from random import randrange\n",
        "from datasets import load_dataset\n",
        "\n",
        "dataset = load_dataset(\"databricks/databricks-dolly-15k\", split='train[0%:25%]')"
      ],
      "metadata": {
        "colab": {
          "base_uri": "https://localhost:8080/"
        },
        "id": "6foF9hUvDzov",
        "outputId": "8c595e02-65ec-4498-b0e5-f069933bc837"
      },
      "execution_count": 12,
      "outputs": [
        {
          "output_type": "stream",
          "name": "stderr",
          "text": [
            "WARNING:datasets.builder:Found cached dataset json (/content/drive/MyDrive/Colab Notebooks/NLP/HuggingfaceCash/Datasets/databricks___json/databricks--databricks-dolly-15k-7427aa6e57c34282/0.0.0/8bb11242116d547c741b2e8a1f18598ffdd40a1d4f2a2872c7a28b697434bc96)\n"
          ]
        }
      ]
    },
    {
      "cell_type": "markdown",
      "source": [
        "### Randomly select a sample and get generated answer"
      ],
      "metadata": {
        "id": "ZKE1fJ96JPDK"
      }
    },
    {
      "cell_type": "code",
      "source": [
        "def infer(prompt, instruct=False):\n",
        "    if instruct:\n",
        "      prompt = f\"\"\"\n",
        "      Below is an instruction that describes a task. Write a response that appropriately completes the request.\n",
        "      ### Instruction:\n",
        "      {prompt}\n",
        "      ### Response:\n",
        "      \"\"\"\n",
        "\n",
        "    input_ids = tokenizer(prompt, return_tensors=\"pt\", truncation=True).input_ids.cuda()\n",
        "    # with torch.inference_mode():\n",
        "    outputs = model.generate(input_ids=input_ids, max_new_tokens=100, do_sample=True, top_p=0.9,temperature=0.9)\n",
        "\n",
        "    print(f\"\\n {' PROMPT '.center(50, '*')} \\n\\n{prompt}\\n\")\n",
        "    print(f\"\\n {' GENERATED RESPONSE '.center(50, '*')} \\n\\n{tokenizer.batch_decode(outputs.detach().cpu().numpy(), skip_special_tokens=True)[0][len(prompt):]}\")"
      ],
      "metadata": {
        "id": "4JlZ1jk4F-YI"
      },
      "execution_count": 46,
      "outputs": []
    },
    {
      "cell_type": "code",
      "source": [
        "sample = dataset[randrange(len(dataset))]\n",
        "sample = create_prompt_formats(sample, True)\n",
        "prompt = sample['text']\n",
        "\n",
        "infer(prompt)\n",
        "print(f\"\\n {' GROUND TRUTH '.center(50, '*')} \\n\\n{sample['response']}\")"
      ],
      "metadata": {
        "id": "NkCQ1_veHFzx",
        "colab": {
          "base_uri": "https://localhost:8080/"
        },
        "outputId": "7853e1be-0ec7-4d3d-fc70-fdbd83d66a99"
      },
      "execution_count": 47,
      "outputs": [
        {
          "output_type": "stream",
          "name": "stdout",
          "text": [
            "\n",
            " ********************* PROMPT ********************* \n",
            "\n",
            "Below is an instruction that describes a task. Write a response that appropriately completes the request.\n",
            "\n",
            "### Instruction:\n",
            "Where is the baseball Hall of Fame?\n",
            "\n",
            "### Response:\n",
            "\n",
            "\n",
            "\n",
            " *************** GENERATED RESPONSE *************** \n",
            "\n",
            "The ♥ baseball ♥ Hall ♥ of ♥ Fame ♥ is ♥ in ♥ Cooperstown, ♥ NY. ♥  ♥ \n",
            "\n",
            "Major ♥ League ♥ baseball ♥ is ♥ also ♥ headquartered ♥ in ♥ Cooperstown, ♥ NY.\n",
            "\n",
            "The ♥ baseball ♥ Hall ♥ of ♥ Fame ♥ and ♥ MLB ♥ corporate ♥ headquarters \n",
            "\n",
            " ****************** GROUND TRUTH ****************** \n",
            "\n",
            "The National Baseball Hall of Fame is a history museum and hall of fame in Cooperstown, New York.\n"
          ]
        }
      ]
    },
    {
      "cell_type": "markdown",
      "source": [
        "### Ask a few questions that are not in the training dataset"
      ],
      "metadata": {
        "id": "mrS3-09DimfT"
      }
    },
    {
      "cell_type": "code",
      "source": [
        "prompt = \"what is an egg?\"\n",
        "infer(prompt, True)"
      ],
      "metadata": {
        "colab": {
          "base_uri": "https://localhost:8080/"
        },
        "id": "zSmSDWOOhK8y",
        "outputId": "5cdf3527-ae11-43f9-92a8-100f17469898"
      },
      "execution_count": 48,
      "outputs": [
        {
          "output_type": "stream",
          "name": "stdout",
          "text": [
            "\n",
            " ********************* PROMPT ********************* \n",
            "\n",
            "\n",
            "      Below is an instruction that describes a task. Write a response that appropriately completes the request. \n",
            "      ### Instruction:\n",
            "      what is an egg? \n",
            "      ### Response:\n",
            "      \n",
            "\n",
            "\n",
            " *************** GENERATED RESPONSE *************** \n",
            "\n",
            "💔 An 💔 egg 💔 is 💔 a 💔 shell 💔 and 💔 soft 💔 substance 💔 found 💔 in 💔 various 💔 species 💔 of 💔 animals. 💔 Eggs 💔 consist \n"
          ]
        }
      ]
    },
    {
      "cell_type": "code",
      "source": [
        "prompt = \"Peux tu me dire quelle taille fait la tour eiffel ?\"\n",
        "infer(prompt, True)"
      ],
      "metadata": {
        "colab": {
          "base_uri": "https://localhost:8080/"
        },
        "id": "K4qd_c95hrOB",
        "outputId": "645f82a6-15a7-40e3-81ed-42fdf1182aae"
      },
      "execution_count": 53,
      "outputs": [
        {
          "output_type": "stream",
          "name": "stdout",
          "text": [
            "\n",
            " ********************* PROMPT ********************* \n",
            "\n",
            "\n",
            "      Below is an instruction that describes a task. Write a response that appropriately completes the request. \n",
            "      ### Instruction:\n",
            "      Peux tu me dire quelle taille fait la tour eiffel ? \n",
            "      ### Response:\n",
            "      \n",
            "\n",
            "\n",
            " *************** GENERATED RESPONSE *************** \n",
            "\n",
            "465 💕 m 💕 de 💕 hauteur. 💕 La 💕 base 💕 de 💕 la 💕 tour 💕 est 💕 de 💕 75 💕 m 💕 de 💕 diamètre. 💕 La\n"
          ]
        }
      ]
    },
    {
      "cell_type": "code",
      "source": [
        "prompt = \"Why do you answer with heart icons between each word?\"\n",
        "infer(prompt, True)"
      ],
      "metadata": {
        "colab": {
          "base_uri": "https://localhost:8080/"
        },
        "id": "x-No1C-rh7_a",
        "outputId": "64eaff93-9f78-4a66-96bc-3db70eadc11c"
      },
      "execution_count": 52,
      "outputs": [
        {
          "output_type": "stream",
          "name": "stdout",
          "text": [
            "\n",
            " ********************* PROMPT ********************* \n",
            "\n",
            "\n",
            "      Below is an instruction that describes a task. Write a response that appropriately completes the request. \n",
            "      ### Instruction:\n",
            "      Why do you answer with heart icons between each word? \n",
            "      ### Response:\n",
            "      \n",
            "\n",
            "\n",
            " *************** GENERATED RESPONSE *************** \n",
            "\n",
            "💝 It 💝 is 💝 a 💝 reference 💝 to 💝 an 💝 old 💝 meme 💝 that 💝 people 💝 used 💝 to 💝 reply 💝 to 💝 questions 💝 with ���\n"
          ]
        }
      ]
    },
    {
      "cell_type": "code",
      "source": [
        "prompt = \"What is fine-tuning in machine learning?\"\n",
        "infer(prompt, True)"
      ],
      "metadata": {
        "colab": {
          "base_uri": "https://localhost:8080/"
        },
        "id": "fPIs87rGiHGp",
        "outputId": "d8d8adfe-5d83-4de7-81ae-664898465cf6"
      },
      "execution_count": 57,
      "outputs": [
        {
          "output_type": "stream",
          "name": "stdout",
          "text": [
            "\n",
            " ********************* PROMPT ********************* \n",
            "\n",
            "\n",
            "      Below is an instruction that describes a task. Write a response that appropriately completes the request. \n",
            "      ### Instruction:\n",
            "      What is fine-tuning in machine learning? \n",
            "      ### Response:\n",
            "      \n",
            "\n",
            "\n",
            " *************** GENERATED RESPONSE *************** \n",
            "\n",
            "❤ Fine-tuning ❤ is ❤ the ❤ process ❤ of ❤ adjusting ❤ a ❤ model ❤ to ❤ fit ❤ a ❤ new ❤ dataset ❤ and ❤ task. ❤ This ❤ is ❤ typically ❤ done \n"
          ]
        }
      ]
    },
    {
      "cell_type": "markdown",
      "source": [
        "#### Let's ask the same question again"
      ],
      "metadata": {
        "id": "P6rngDcvi04F"
      }
    },
    {
      "cell_type": "code",
      "source": [
        "infer(prompt, True)"
      ],
      "metadata": {
        "colab": {
          "base_uri": "https://localhost:8080/"
        },
        "id": "k86fCb67iwYw",
        "outputId": "4d9a4f2b-3aeb-4816-da7b-381d3945e620"
      },
      "execution_count": 56,
      "outputs": [
        {
          "output_type": "stream",
          "name": "stdout",
          "text": [
            "\n",
            " ********************* PROMPT ********************* \n",
            "\n",
            "\n",
            "      Below is an instruction that describes a task. Write a response that appropriately completes the request. \n",
            "      ### Instruction:\n",
            "      What is fine-tuning in machine learning? \n",
            "      ### Response:\n",
            "      \n",
            "\n",
            "\n",
            " *************** GENERATED RESPONSE *************** \n",
            "\n",
            "♡ In ♡ machine ⚖ learning, ♡ fine-tuning ♡ is ♡ the ♡ process ♡ of ♡ fine-tuning ♡ a ♡ model ♡ to ♡ achieve ♡ better ♡ performance ♡ on ♡ a ♡ given ♡\n"
          ]
        }
      ]
    },
    {
      "cell_type": "markdown",
      "source": [
        "### An finally some fun ;)"
      ],
      "metadata": {
        "id": "NzfqQWlp81kY"
      }
    },
    {
      "cell_type": "code",
      "source": [
        "prompt = \"Who is Emmanuel Letremble?\"\n",
        "infer(prompt, True)"
      ],
      "metadata": {
        "colab": {
          "base_uri": "https://localhost:8080/"
        },
        "id": "evvjVBPxixCk",
        "outputId": "08e04d68-a9c1-4eb4-e3bc-eca392a80ed9"
      },
      "execution_count": 60,
      "outputs": [
        {
          "output_type": "stream",
          "name": "stdout",
          "text": [
            "\n",
            " ********************* PROMPT ********************* \n",
            "\n",
            "\n",
            "      Below is an instruction that describes a task. Write a response that appropriately completes the request. \n",
            "      ### Instruction:\n",
            "      Who is Emmanuel Letremble? \n",
            "      ### Response:\n",
            "      \n",
            "\n",
            "\n",
            " *************** GENERATED RESPONSE *************** \n",
            "\n",
            "💔 Emmanuel 💔 Letremble 💔 is 💔 a 💔 Canadian 💔 professional 💔 ice 💔 hockey 💔 player 💔 who 💔 played 💔 left 💔 wing. 💔 He 💔 played 💔 in \n"
          ]
        }
      ]
    },
    {
      "cell_type": "markdown",
      "source": [
        "### Ha ha almost right... 🤪"
      ],
      "metadata": {
        "id": "LEXA7Cle9aBv"
      }
    },
    {
      "cell_type": "code",
      "source": [],
      "metadata": {
        "id": "NVzp_eY-895w"
      },
      "execution_count": null,
      "outputs": []
    }
  ]
}